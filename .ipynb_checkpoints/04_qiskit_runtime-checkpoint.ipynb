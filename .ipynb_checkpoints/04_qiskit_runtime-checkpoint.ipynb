{
 "cells": [
  {
   "cell_type": "markdown",
   "id": "050b36cf",
   "metadata": {},
   "source": [
    "# Qiskit Runtime Servies\n",
    "## Executando vários circuitos com um único job"
   ]
  },
  {
   "cell_type": "code",
   "execution_count": 1,
   "id": "5472ca78",
   "metadata": {},
   "outputs": [],
   "source": [
    "import time\n",
    "import numpy as np\n",
    "from qiskit import *\n",
    "from qiskit.circuit import Parameter\n",
    "from qiskit.quantum_info import Statevector, Pauli, SparsePauliOp\n",
    "from qiskit.circuit.library import RealAmplitudes\n",
    "import matplotlib.pyplot as plt\n",
    "import matplotlib.ticker as tck\n",
    "from qiskit.tools.visualization import plot_histogram"
   ]
  },
  {
   "cell_type": "code",
   "execution_count": 3,
   "id": "45dd737e",
   "metadata": {},
   "outputs": [],
   "source": [
    "from qiskit_ibm_runtime import QiskitRuntimeService, Session, Options, Sampler, Estimator"
   ]
  },
  {
   "cell_type": "code",
   "execution_count": 5,
   "id": "11d8ac69",
   "metadata": {},
   "outputs": [],
   "source": [
    "QiskitRuntimeService.save_account(channel='ibm_quantum', \n",
    "                                  token='e1d110334509c3bb9daa4b0be80028bf82dddd70b17b73e7af3e8c4540bb1dd84e268d68a80efc238061afa9a5f516714392133c7ae8a1d2f148b7bdf72637e6',\n",
    "                                  overwrite=True)"
   ]
  },
  {
   "cell_type": "code",
   "execution_count": 6,
   "id": "5979dd9d",
   "metadata": {},
   "outputs": [],
   "source": [
    "service = QiskitRuntimeService(channel='ibm_quantum')"
   ]
  },
  {
   "cell_type": "code",
   "execution_count": 7,
   "id": "788c0a4d",
   "metadata": {},
   "outputs": [
    {
     "data": {
      "text/plain": [
       "[<IBMBackend('ibmq_qasm_simulator')>,\n",
       " <IBMBackend('ibmq_armonk')>,\n",
       " <IBMBackend('ibmq_santiago')>,\n",
       " <IBMBackend('ibmq_bogota')>,\n",
       " <IBMBackend('ibmq_lima')>,\n",
       " <IBMBackend('ibmq_belem')>,\n",
       " <IBMBackend('ibmq_quito')>,\n",
       " <IBMBackend('simulator_statevector')>,\n",
       " <IBMBackend('simulator_mps')>,\n",
       " <IBMBackend('simulator_extended_stabilizer')>,\n",
       " <IBMBackend('simulator_stabilizer')>,\n",
       " <IBMBackend('ibmq_jakarta')>,\n",
       " <IBMBackend('ibmq_manila')>,\n",
       " <IBMBackend('ibm_lagos')>,\n",
       " <IBMBackend('ibm_nairobi')>,\n",
       " <IBMBackend('ibm_perth')>,\n",
       " <IBMBackend('ibm_oslo')>]"
      ]
     },
     "execution_count": 7,
     "metadata": {},
     "output_type": "execute_result"
    }
   ],
   "source": [
    "service.backends()"
   ]
  },
  {
   "cell_type": "code",
   "execution_count": 33,
   "id": "e49b4cd8",
   "metadata": {},
   "outputs": [
    {
     "name": "stdout",
     "output_type": "stream",
     "text": [
      "<IBMBackend('ibmq_qasm_simulator')>\n"
     ]
    }
   ],
   "source": [
    "backend = service.backends(simulator=True)[0]\n",
    "print(backend)"
   ]
  },
  {
   "cell_type": "code",
   "execution_count": 10,
   "id": "61c8f37d",
   "metadata": {},
   "outputs": [],
   "source": [
    "def bernstein_vazirani(string):\n",
    "    string_length = len(string)\n",
    "    qc = QuantumCircuit(string_length+1, string_length)\n",
    "    qc.h(range(string_length))\n",
    "    qc.x(string_length)\n",
    "    qc.h(string_length)\n",
    "    for ii, yesno in enumerate(reversed(string)): # the black box\n",
    "        if yesno == '1':\n",
    "            qc.cx(ii, string_length)\n",
    "    qc.h(range(string_length))\n",
    "    qc.measure(range(string_length), range(string_length))\n",
    "    return qc\n",
    "qc1 = bernstein_vazirani('111')\n",
    "qc2 = bernstein_vazirani('000')"
   ]
  },
  {
   "cell_type": "code",
   "execution_count": 12,
   "id": "84275108",
   "metadata": {},
   "outputs": [],
   "source": [
    "options = Options(simulator={\"seed_simulator\": 42}, resilience_level=0) # Do not change values in simulator\n",
    "with Session(service=service, backend=backend):\n",
    "    sampler = Sampler(options=options)\n",
    "    job = sampler.run(circuits=[qc1,qc2])\n",
    "    print(job.job_id())\n",
    "    job_monitor(job)"
   ]
  },
  {
   "cell_type": "code",
   "execution_count": 27,
   "id": "906604e2",
   "metadata": {},
   "outputs": [
    {
     "data": {
      "text/plain": [
       "[{7: 1.0}, {0: 1.0}]"
      ]
     },
     "execution_count": 27,
     "metadata": {},
     "output_type": "execute_result"
    }
   ],
   "source": [
    "job.result().quasi_dists"
   ]
  },
  {
   "cell_type": "code",
   "execution_count": 35,
   "id": "301ebe1f",
   "metadata": {},
   "outputs": [
    {
     "name": "stdout",
     "output_type": "stream",
     "text": [
      "<IBMBackend('ibmq_bogota')>\n"
     ]
    }
   ],
   "source": [
    "device = service.backends(simulator=False)[2]\n",
    "print(device)"
   ]
  },
  {
   "cell_type": "code",
   "execution_count": null,
   "id": "1c97b331",
   "metadata": {},
   "outputs": [],
   "source": [
    "with Session(service=service, backend=device):\n",
    "    sampler = Sampler()\n",
    "    job = sampler.run(circuits=[qc1,qc2])\n",
    "    job."
   ]
  }
 ],
 "metadata": {
  "kernelspec": {
   "display_name": "Python 3 (ipykernel)",
   "language": "python",
   "name": "python3"
  },
  "language_info": {
   "codemirror_mode": {
    "name": "ipython",
    "version": 3
   },
   "file_extension": ".py",
   "mimetype": "text/x-python",
   "name": "python",
   "nbconvert_exporter": "python",
   "pygments_lexer": "ipython3",
   "version": "3.8.8"
  }
 },
 "nbformat": 4,
 "nbformat_minor": 5
}
