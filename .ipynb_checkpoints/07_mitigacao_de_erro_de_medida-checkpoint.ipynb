{
 "cells": [
  {
   "cell_type": "markdown",
   "id": "b1ec452b",
   "metadata": {},
   "source": [
    "# Mitigação de erros de medidas\n",
    "\n",
    "Consideremos experimentos em um qubit. Consideremos a preparação dos estados da base computacional, $|0\\rangle$ ou $|1\\rangle$, e a imediata medida subsequente, na base computacional. Como uma primeira aproximação, consideremos que os estados da base computacional são modificados pelos erros de preparação e portas e pelo ruído, sem modificar a pureza/entropia do estado, como segue\n",
    "\\begin{align}\n",
    "& |0\\rangle\\ \\rightarrow\\ R_{00}|0\\rangle + R_{10}|1\\rangle =: |r_0\\rangle, \\\\\n",
    "& |1\\rangle\\ \\rightarrow\\ R_{01}|0\\rangle + R_{11}|1\\rangle =: |r_1\\rangle.\n",
    "\\end{align}\n",
    "Podemos dizer então que a base computacional é trasformada pela __matriz de ruído__\n",
    "$$R = \\begin{bmatrix}R_{00}&R_{01} \\\\ R_{10}&R_{11}\\end{bmatrix}$$\n",
    "como segue\n",
    "\\begin{align}\n",
    "& R|0\\rangle = \\begin{bmatrix}R_{00}&R_{01} \\\\ R_{10}&R_{11}\\end{bmatrix}\\begin{bmatrix}1 \\\\ 0\\end{bmatrix} = \\begin{bmatrix}R_{00} \\\\ R_{10}\\end{bmatrix} = |r_0\\rangle, \\\\ \n",
    "& R|1\\rangle = \\begin{bmatrix}R_{00}&R_{01} \\\\ R_{10}&R_{11}\\end{bmatrix}\\begin{bmatrix}0 \\\\ 1\\end{bmatrix} = \\begin{bmatrix}R_{01} \\\\ R_{11}\\end{bmatrix} = |r_1\\rangle. \n",
    "\\end{align}\n",
    "Nesse caso, um estado puro qualquer será transformado por\n",
    "$$R|\\psi\\rangle = R(c_0|0\\rangle+c_1|1\\rangle) = c_0|r_0\\rangle+c_1|r_1\\rangle =: |r\\rangle.$$"
   ]
  },
  {
   "cell_type": "markdown",
   "id": "326ca3dd",
   "metadata": {},
   "source": [
    "Se $\\det(R)\\ne 0$, a matriz de ruído possui inversa e podemos reverter o seu efeito:\n",
    "\\begin{align}\n",
    "& |0\\rangle = R^{-1}|r_0\\rangle, \\\\\n",
    "& |1\\rangle = R^{-1}|r_1\\rangle.\n",
    "\\end{align}\n",
    "Ou seja\n",
    "$$|\\psi\\rangle = R^{-1}|r\\rangle.$$\n",
    "\n",
    "De forma análoga, para um operador densidade o efeito do ruído será\n",
    "\\begin{align}\n",
    "& \\rho = \\rho_{00}|0\\rangle\\langle 0| + \\rho_{01}|0\\rangle\\langle 1| + \\rho_{10}|1\\rangle\\langle 0| + \\rho_{11}|1\\rangle\\langle 1| \\\\\n",
    "& \\downarrow \\\\\n",
    "&  \\rho_{00}|r_0\\rangle\\langle r_0| + \\rho_{01}|r_0\\rangle\\langle r_1| + \\rho_{10}|r_1\\rangle\\langle r_0| + \\rho_{11}|r_1\\rangle\\langle r_1| =: \\rho_r = R\\rho R^\\dagger,\n",
    "\\end{align}\n",
    "em que assumimos que $R$ pode ser uma matriz complexa. Nesse caso reverteremos o efeito do ruído aplicando\n",
    "$$\\rho = R^{-1}\\rho_r (R^\\dagger)^{-1}.$$"
   ]
  },
  {
   "cell_type": "markdown",
   "id": "759e6810",
   "metadata": {},
   "source": [
    "Com relação a experimentos, o que temos que fazer então é preparar todos os estados da base computacional, $|j\\rangle$, e medir na base computacional para obter $|r_j\\rangle$. A matriz de ruído é então dada por\n",
    "$$R = \\big[|r_0\\rangle\\ |r_1\\rangle\\big].$$\n",
    "Como tomografia de estados é muito custosa, como uma primeira melhoria reconstruiremos $R$ somente a partir das contagens das medidas. Ou seja, os elementos da matriz de ruído, $R_{jk}$, serão simplesmente as amplitudades de probabilidade de transição $|k\\rangle\\rightarrow|j\\rangle$. Ou seja, para o estado preparado $|j\\rangle$, se a contagem do estado $|k\\rangle$ é $N_{kj}$ e o número total de medidas (shots) é $N$, teremos que\n",
    "$$R_{kj} = \\sqrt{Pr(|k\\rangle\\rightarrow|j\\rangle)} = \\sqrt{\\frac{N_{kj}}{N}}.$$"
   ]
  },
  {
   "cell_type": "code",
   "execution_count": 83,
   "id": "0431c87b",
   "metadata": {},
   "outputs": [
    {
     "name": "stderr",
     "output_type": "stream",
     "text": [
      "ibmqfactory.load_account:WARNING:2022-12-19 17:04:47,326: Credentials are already in use. The existing account in the session will be replaced.\n"
     ]
    }
   ],
   "source": [
    "import qiskit\n",
    "from qiskit import *\n",
    "nshots = 8192\n",
    "IBMQ.load_account()\n",
    "provider= qiskit.IBMQ.get_provider(hub='ibm-q-research-2',group='federal-uni-sant-1',project='main')\n",
    "#provider = qiskit.IBMQ.get_provider(hub='ibm-q', group='open', project='main')\n",
    "device = provider.get_backend('ibmq_quito')\n",
    "simulator = Aer.get_backend('qasm_simulator')\n",
    "from qiskit_ibm_runtime import QiskitRuntimeService, Session, Sampler, Options"
   ]
  },
  {
   "cell_type": "code",
   "execution_count": 76,
   "id": "8ef113fe",
   "metadata": {},
   "outputs": [
    {
     "name": "stdout",
     "output_type": "stream",
     "text": [
      "\n",
      " Cloud backends:\n",
      "ibmq_qasm_simulator\n",
      "ibmq_armonk\n",
      "ibmq_santiago\n",
      "ibmq_bogota\n",
      "ibmq_lima\n",
      "ibmq_belem\n",
      "ibmq_quito\n",
      "simulator_statevector\n",
      "simulator_mps\n",
      "simulator_extended_stabilizer\n",
      "simulator_stabilizer\n",
      "ibmq_jakarta\n",
      "ibmq_manila\n",
      "ibm_lagos\n",
      "ibm_nairobi\n",
      "ibm_perth\n",
      "ibm_oslo\n",
      "\n",
      " Local backends: \n",
      "aer_simulator\n",
      "aer_simulator_statevector\n",
      "aer_simulator_density_matrix\n",
      "aer_simulator_stabilizer\n",
      "aer_simulator_matrix_product_state\n",
      "aer_simulator_extended_stabilizer\n",
      "aer_simulator_unitary\n",
      "aer_simulator_superop\n",
      "qasm_simulator\n",
      "statevector_simulator\n",
      "unitary_simulator\n",
      "pulse_simulator\n"
     ]
    }
   ],
   "source": [
    "#from qiskit import IBMQ, Aer\n",
    "#provider = IBMQ.load_account()\n",
    "available_cloud_backends = provider.backends() \n",
    "print('\\n Cloud backends:')\n",
    "for i in available_cloud_backends: print(i)\n",
    "\n",
    "available_local_backends = Aer.backends() \n",
    "print('\\n Local backends: ')\n",
    "for i in available_local_backends: print(i)"
   ]
  },
  {
   "cell_type": "code",
   "execution_count": 84,
   "id": "1bc88ae2",
   "metadata": {},
   "outputs": [],
   "source": [
    "QiskitRuntimeService.save_account(channel='ibm_quantum', \n",
    "                                  token='17efde49764005e8eeb00dd065d44bc208778be72d44b475e508d20504818786f842988b0e506515c78debdd1b0c4b570717863db5e4f85569fb43c4c8626b8a',\n",
    "                                  overwrite=True)\n",
    "service = QiskitRuntimeService(channel='ibm_quantum',instance='ibm-q/open/main')\n",
    "#service = QiskitRuntimeService(channel='ibm_quantum',instance='ibm-q-research-2/federal-uni-sant-1/main')"
   ]
  },
  {
   "cell_type": "code",
   "execution_count": null,
   "id": "29e42767",
   "metadata": {},
   "outputs": [],
   "source": [
    "nqr = 1; ncr = 1\n",
    "qr = QuantumRegister(nqr); cr = ClassicalRegister(ncr)\n",
    "\n",
    "qc0 = QuantumCircuit(qr,cr); qc1 = QuantumCircuit(qr,cr)                     \n",
    "qc0.measure(qr[0],cr[0])\n",
    "#display(qc0.draw(\"mpl\"))\n",
    "\n",
    "qc1.x(qr[0])\n",
    "qc1.measure(qr[0],cr[0])\n",
    "#display(qc1.draw(\"mpl\"))\n",
    "\n",
    "options = Options()\n",
    "#options.optimization_level = 2\n",
    "#options.resilience_level = 0\n",
    "service = QiskitRuntimeService()\n",
    "with Session(service=service, backend=device):\n",
    "    sampler = Sampler()\n",
    "    job = sampler.run([qc0,qc1])\n",
    "    #print(job.job_id())\n",
    "result = job.result()\n",
    "print(result.quasi_dists, result.quasi_dists[0], result.quasi_dists[0][0])"
   ]
  },
  {
   "cell_type": "code",
   "execution_count": null,
   "id": "fd512838",
   "metadata": {},
   "outputs": [],
   "source": [
    "R = np.zeros((2,2))#; R\n"
   ]
  },
  {
   "cell_type": "code",
   "execution_count": null,
   "id": "c9a4042f",
   "metadata": {},
   "outputs": [],
   "source": [
    "qr = QuantumRegister(1); cr = ClassicalRegister(1); qc = QuantumCircuit(qr,cr)\n",
    "qc.measure(qr[0],cr[0])\n",
    "qc.draw()\n",
    "job = qiskit.execute(qc, backend = device, shots=nshots)\n",
    "print(job.job_id())\n",
    "job_monitor(job)"
   ]
  },
  {
   "cell_type": "code",
   "execution_count": null,
   "id": "685ada00",
   "metadata": {},
   "outputs": [],
   "source": [
    "#job.\n",
    "print(job.result().data())\n",
    "#plot_histogram(job.result())"
   ]
  },
  {
   "cell_type": "code",
   "execution_count": null,
   "id": "36962c9a",
   "metadata": {},
   "outputs": [],
   "source": [
    "job."
   ]
  },
  {
   "cell_type": "code",
   "execution_count": null,
   "id": "9bb93282",
   "metadata": {},
   "outputs": [],
   "source": []
  }
 ],
 "metadata": {
  "kernelspec": {
   "display_name": "Python 3 (ipykernel)",
   "language": "python",
   "name": "python3"
  },
  "language_info": {
   "codemirror_mode": {
    "name": "ipython",
    "version": 3
   },
   "file_extension": ".py",
   "mimetype": "text/x-python",
   "name": "python",
   "nbconvert_exporter": "python",
   "pygments_lexer": "ipython3",
   "version": "3.8.8"
  }
 },
 "nbformat": 4,
 "nbformat_minor": 5
}
