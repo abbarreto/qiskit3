{
 "cells": [
  {
   "cell_type": "markdown",
   "id": "dcca826a",
   "metadata": {},
   "source": [
    "# Coerência e preditibilidade local em troca de emaranhamento <br> a partir de estados parcialmente emaranhados\n",
    "\n",
    "Seguindo com o trabalho iniciado em (https://arxiv.org/abs/2203.01281), vamos considerar estados iniciais que possuem não só preditibilidade local mas também coerência local não nula. O caso puro mais geral seria\n",
    "\\begin{align}\n",
    "& |\\xi\\rangle_{AC} = c_{00}|00\\rangle +  c_{01}|01\\rangle + c_{10}|10\\rangle + c_{11}|11\\rangle, \\\\\n",
    "& |\\eta\\rangle_{C'B} = d_{00}|00\\rangle +  d_{01}|01\\rangle + d_{10}|10\\rangle + d_{11}|11\\rangle.\n",
    "\\end{align}"
   ]
  },
  {
   "cell_type": "markdown",
   "id": "8648df95",
   "metadata": {},
   "source": [
    "Continuando\n",
    "\\begin{align}\n",
    "|\\xi\\rangle_{AC}|\\eta\\rangle_{C'B} = & \\big(c_{00}|00\\rangle +  c_{01}|01\\rangle + c_{10}|10\\rangle + c_{11}|11\\rangle\\big)\\otimes\\big(d_{00}|00\\rangle +  d_{01}|01\\rangle + d_{10}|10\\rangle + d_{11}|11\\rangle\\big) \\\\\n",
    "= & c_{00}d_{00}|0000\\rangle +  c_{00}d_{01}|0001\\rangle + c_{00}d_{10}|0010\\rangle + c_{00}d_{11}|0011\\rangle \\\\\n",
    "& + c_{01}d_{00}|0100\\rangle +  c_{01}d_{01}|0101\\rangle + c_{01}d_{10}|0110\\rangle + c_{01}d_{11}|0111\\rangle \\\\\n",
    "& + c_{10}d_{00}|1000\\rangle +  c_{10}d_{01}|1001\\rangle + c_{10}d_{10}|1010\\rangle + c_{10}d_{11}|1011\\rangle \\\\\n",
    "& + c_{11}d_{00}|1100\\rangle +  c_{11}d_{01}|1101\\rangle + c_{11}d_{10}|1110\\rangle + c_{11}d_{11}|1111\\rangle \\\\\n",
    "= & c_{00}d_{00}|0\\rangle\\frac{|\\Phi_+\\rangle+|\\Phi_-\\rangle}{\\sqrt{2}}|0\\rangle +  c_{00}d_{01}|0\\rangle\\frac{|\\Phi_+\\rangle+|\\Phi_-\\rangle}{\\sqrt{2}}|1\\rangle + c_{00}d_{10}|0\\rangle\\frac{|\\Psi_+\\rangle+|\\Psi_-\\rangle}{\\sqrt{2}}|0\\rangle + c_{00}d_{11}|0\\rangle\\frac{|\\Psi_+\\rangle+|\\Psi_-\\rangle}{\\sqrt{2}}|1\\rangle \\\\\n",
    "& + c_{01}d_{00}|0\\rangle\\frac{|\\Psi_+\\rangle-|\\Psi_-\\rangle}{\\sqrt{2}}|0\\rangle +  c_{01}d_{01}|0\\rangle\\frac{|\\Psi_+\\rangle-|\\Psi_-\\rangle}{\\sqrt{2}}|1\\rangle + c_{01}d_{10}|0\\rangle\\frac{|\\Phi_+\\rangle-|\\Phi_-\\rangle}{\\sqrt{2}}|0\\rangle + c_{01}d_{11}|0\\rangle\\frac{|\\Phi_+\\rangle-|\\Phi_-\\rangle}{\\sqrt{2}}|1\\rangle \\\\\n",
    "& + c_{10}d_{00}|1\\rangle\\frac{|\\Phi_+\\rangle+|\\Phi_-\\rangle}{\\sqrt{2}}|0\\rangle +  c_{10}d_{01}|1\\rangle\\frac{|\\Phi_+\\rangle+|\\Phi_-\\rangle}{\\sqrt{2}}|1\\rangle + c_{10}d_{10}|1\\rangle\\frac{|\\Psi_+\\rangle+|\\Psi_-\\rangle}{\\sqrt{2}}|0\\rangle + c_{10}d_{11}|1\\rangle\\frac{|\\Psi_+\\rangle+|\\Psi_-\\rangle}{\\sqrt{2}}|1\\rangle \\\\\n",
    "& + c_{11}d_{00}|1\\rangle\\frac{|\\Psi_+\\rangle-|\\Psi_-\\rangle}{\\sqrt{2}}|0\\rangle +  c_{11}d_{01}|1\\rangle\\frac{|\\Psi_+\\rangle-|\\Psi_-\\rangle}{\\sqrt{2}}|1\\rangle + c_{11}d_{10}|1\\rangle\\frac{|\\Phi_+\\rangle-|\\Phi_-\\rangle}{\\sqrt{2}}|0\\rangle + c_{11}d_{11}|1\\rangle\\frac{|\\Phi_+\\rangle-|\\Phi_-\\rangle}{\\sqrt{2}}|1\\rangle \\\\\n",
    "= & |\\Phi_+\\rangle_{CC'}2^{-1/2}\\big((c_{00}d_{00}+c_{01}d_{10})|00\\rangle + (c_{00}d_{01}+c_{01}d_{11})|01\\rangle + (c_{10}d_{00}+c_{11}d_{10})|10\\rangle + (c_{10}d_{01}+c_{11}d_{11})|11\\rangle\\big) \\\\\n",
    "& + |\\Phi_-\\rangle_{CC'}2^{-1/2}\\big((c_{00}d_{00}-c_{01}d_{10})|00\\rangle + (c_{00}d_{01}-c_{01}d_{11})|01\\rangle + (c_{10}d_{00}-c_{11}d_{10})|10\\rangle + (c_{10}d_{01}-c_{11}d_{11})|11\\rangle\\big) \\\\\n",
    "& + |\\Psi_+\\rangle_{CC'}2^{-1/2}\\big((c_{00}d_{10}+c_{01}d_{00})|00\\rangle + (c_{00}d_{11}+c_{01}d_{01})|01\\rangle + (c_{10}d_{10}+c_{11}d_{00})|10\\rangle + (c_{10}d_{11}+c_{11}d_{01})|11\\rangle\\big) \\\\\n",
    "& + |\\Psi_-\\rangle_{CC'}2^{-1/2}\\big((c_{00}d_{10}-c_{01}d_{00})|00\\rangle + (c_{00}d_{11}-c_{01}d_{01})|01\\rangle + (c_{10}d_{10}-c_{11}d_{00})|10\\rangle + (c_{10}d_{11}-c_{11}d_{01})|11\\rangle\\big) \\\\\n",
    "=: & |\\Phi_+\\rangle_{CC'}|\\phi_+\\rangle_{AB} + |\\Phi_-\\rangle_{CC'}|\\phi_-\\rangle_{AB} + |\\Psi_+\\rangle_{CC'}|\\psi_+\\rangle_{AB} + |\\Psi_-\\rangle_{CC'}|\\psi_-\\rangle_{AB} \\\\\n",
    "\\equiv & ||\\phi_+||\\cdot|\\Phi_+\\rangle_{CC'}|\\hat{\\phi}_+\\rangle_{AB} + ||\\phi_-||\\cdot|\\Phi_-\\rangle_{CC'}|\\hat{\\phi}_-\\rangle_{AB} + ||\\psi_+||\\cdot|\\Psi_+\\rangle_{CC'}|\\hat{\\psi}_+\\rangle_{AB} + ||\\psi_-||\\cdot|\\Psi_-\\rangle_{CC'}|\\hat{\\psi}_-\\rangle_{AB},\n",
    "\\end{align}"
   ]
  },
  {
   "cell_type": "markdown",
   "id": "8ddee489",
   "metadata": {},
   "source": [
    "em que definimos\n",
    "\\begin{align}\n",
    "& |\\phi_+\\rangle_{AB} := 2^{-1/2}\\big((c_{00}d_{00}+c_{01}d_{10})|00\\rangle + (c_{00}d_{01}+c_{01}d_{11})|01\\rangle + (c_{10}d_{00}+c_{11}d_{10})|10\\rangle + (c_{10}d_{01}+c_{11}d_{11})|11\\rangle\\big), \\\\\n",
    "& |\\phi_-\\rangle_{AB} := 2^{-1/2}\\big((c_{00}d_{00}-c_{01}d_{10})|00\\rangle + (c_{00}d_{01}-c_{01}d_{11})|01\\rangle + (c_{10}d_{00}-c_{11}d_{10})|10\\rangle + (c_{10}d_{01}-c_{11}d_{11})|11\\rangle\\big), \\\\\n",
    "& |\\psi_+\\rangle_{AB} := 2^{-1/2}\\big((c_{00}d_{10}+c_{01}d_{00})|00\\rangle + (c_{00}d_{11}+c_{01}d_{01})|01\\rangle + (c_{10}d_{10}+c_{11}d_{00})|10\\rangle + (c_{10}d_{11}+c_{11}d_{01})|11\\rangle\\big), \\\\\n",
    "& |\\psi_-\\rangle_{AB} := 2^{-1/2}\\big((c_{00}d_{10}-c_{01}d_{00})|00\\rangle + (c_{00}d_{11}-c_{01}d_{01})|01\\rangle + (c_{10}d_{10}-c_{11}d_{00})|10\\rangle + (c_{10}d_{11}-c_{11}d_{01})|11\\rangle\\big).\n",
    "\\end{align}\n",
    "As normas desses vetores são equivalentes às probabilidades para as medidas na base de Bell e são dadas por\n",
    "\\begin{align}\n",
    "Pr(\\Phi_+) &= ||\\phi_+||^{2} \\\\\n",
    "& = 2^{-1}\\big(|c_{00}d_{00}+c_{01}d_{10}|^{2} + |c_{00}d_{01}+c_{01}d_{11}|^{2} + |c_{10}d_{00}+c_{11}d_{10}|^{2} + |c_{10}d_{01}+c_{11}d_{11}|^{2}\\big), \\\\\n",
    "Pr(\\Phi_-) & = ||\\phi_-||^{2} \\\\\n",
    "& = 2^{-1}\\big(|c_{00}d_{00}-c_{01}d_{10}|^{2} + |c_{00}d_{01}-c_{01}d_{11}|^{2} + |c_{10}d_{00}-c_{11}d_{10}|^{2} + |c_{10}d_{01}-c_{11}d_{11}|^{2}\\big), \\\\\n",
    "Pr(\\Psi_+) & = ||\\psi_+||^{2} \\\\\n",
    "& = 2^{-1}\\big(|c_{00}d_{10}+c_{01}d_{00}|^{2} + |c_{00}d_{11}+c_{01}d_{01}|^{2} + |c_{10}d_{10}+c_{11}d_{00}|^{2} + |c_{10}d_{11}+c_{11}d_{01}|^{2}\\big), \\\\\n",
    "Pr(\\Psi_-) & = ||\\psi_-||^{2} \\\\\n",
    "& = 2^{-1}\\big(|c_{00}d_{10}-c_{01}d_{00}|^{2} + |c_{00}d_{11}-c_{01}d_{01}|^{2} + |c_{10}d_{10}-c_{11}d_{00}|^{2} + |c_{10}d_{11}-c_{11}d_{01}|^{2}\\big).\n",
    "\\end{align}\n",
    "Assim, condicionados nos resultados obtidos nas medidas na base de Bell, os estados pós-medida dos qubits A e B são:\n",
    "\\begin{align}\n",
    "& |\\hat{\\phi}_+\\rangle_{AB} = \\frac{|\\phi_+\\rangle_{AB}}{||\\phi_+||} =  \\frac{|\\phi_+\\rangle_{AB}}{\\sqrt{Pr(\\Phi_+)}}, \\\\\n",
    "& |\\hat{\\phi}_-\\rangle_{AB} = \\frac{|\\phi_-\\rangle_{AB}}{||\\phi_-||} = \\frac{|\\phi_-\\rangle_{AB}}{\\sqrt{Pr(\\Phi_-)}}, \\\\\n",
    "& |\\hat{\\psi}_+\\rangle_{AB} = \\frac{|\\psi_+\\rangle_{AB}}{||\\psi_+||} = \\frac{|\\psi_+\\rangle_{AB}}{\\sqrt{Pr(\\Psi_+)}}, \\\\\n",
    "& |\\hat{\\psi}_-\\rangle_{AB} = \\frac{|\\psi_-\\rangle_{AB}}{||\\psi_-||} = \\frac{|\\psi_-\\rangle_{AB}}{\\sqrt{Pr(\\Psi_-)}}.\n",
    "\\end{align}"
   ]
  },
  {
   "cell_type": "markdown",
   "id": "a0801985",
   "metadata": {},
   "source": [
    "Para um estado puro geral de dois qubits escrito na forma $$|\\Phi\\rangle=\\alpha_{00}|00\\rangle+\\alpha_{01}|01\\rangle+\\alpha_{10}|10\\rangle+\\alpha_{11}|11\\rangle,$$\n",
    "o __emaranhamento concurrence__ pode ser esrito como segue: \n",
    "$$E_{con}(|\\Phi\\rangle)=2|\\alpha_{00}\\alpha_{11}-\\alpha_{01}\\alpha_{10}|.$$\n",
    "Teremos assim que o emaranhamento dos estados pós-medida de $AB$ são:\n",
    "\\begin{align}\n",
    "E_{con}(\\hat{\\phi}_+) & = \\big(2/||\\phi_+||^{2}\\big)2^{-1}\\big|(c_{00}d_{00}+c_{01}d_{10})(c_{10}d_{01}+c_{11}d_{11})-(c_{00}d_{01}+c_{01}d_{11})(c_{10}d_{00}+c_{11}d_{10})\\big| \\\\\n",
    "& = \\big(1/||\\phi_+||^{2}\\big)\\big|c_{00}d_{00}c_{10}d_{01} + c_{00}d_{00}c_{11}d_{11} + c_{01}d_{10}c_{10}d_{01} + c_{01}d_{10}c_{11}d_{11} \\\\\n",
    "& \\hspace{2.5cm} -c_{00}d_{01}c_{10}d_{00} - c_{00}d_{01}c_{11}d_{10} - c_{01}d_{11}c_{10}d_{00} - c_{01}d_{11}c_{11}d_{10} \\big| \\\\\n",
    "& = \\big(1/||\\phi_+||^{2}\\big)\\big|c_{00}c_{11}(d_{00}d_{11}-d_{01}d_{10}) + c_{01}c_{10}(d_{01}d_{10}-d_{00}d_{11}) \\big| \\\\\n",
    "& = \\big(1/||\\phi_+||^{2}\\big)\\big|(c_{00}c_{11}-c_{01}c_{10})(d_{00}d_{11}-d_{01}d_{10}) \\big| \\\\\n",
    "& = \\big(1/4||\\phi_+||^{2}\\big)2\\big|c_{00}c_{11}-c_{01}c_{10}\\big|2\\big|d_{00}d_{11}-d_{01}d_{10}\\big| \\\\\n",
    "& = \\frac{E_{con}(\\xi_{AC})E_{con}(\\eta_{C'B})}{4||\\phi_+||^{2}} = \\frac{E_{con}(\\xi_{AC})E_{con}(\\eta_{C'B})}{4Pr(\\Phi_+)},\n",
    "\\end{align}"
   ]
  },
  {
   "cell_type": "markdown",
   "id": "8f9eb0da",
   "metadata": {},
   "source": [
    "\\begin{align}\n",
    "E_{con}(\\hat{\\phi}_-) & = \\big(2/||\\phi_-||^{2}\\big)2^{-1}\\big|(c_{00}d_{00}-c_{01}d_{10})(c_{10}d_{01}-c_{11}d_{11}) - (c_{00}d_{01}-c_{01}d_{11})(c_{10}d_{00}-c_{11}d_{10}) \\big| \\\\\n",
    "& = \\big(1/||\\phi_-||^{2}\\big)\\big|c_{00}d_{00}c_{10}d_{01}-c_{00}d_{00}c_{11}d_{11}-c_{01}d_{10}c_{10}d_{01}+c_{01}d_{10}c_{11}d_{11} \\\\\n",
    "& \\hspace{2.5cm} - c_{00}d_{01}c_{10}d_{00} + c_{00}d_{01}c_{11}d_{10} + c_{01}d_{11}c_{10}d_{00} - c_{01}d_{11}c_{11}d_{10}  \\big| \\\\\n",
    "& = \\big(1/||\\phi_-||^{2}\\big)\\big|-(c_{00}c_{11}-c_{01}c_{10})(d_{00}d_{11}-d_{01}d_{10})\\big| \\\\\n",
    "& = \\frac{E_{con}(\\xi_{AC})E_{con}(\\eta_{C'B})}{4||\\phi_-||^{2}} = \\frac{E_{con}(\\xi_{AC})E_{con}(\\eta_{C'B})}{4Pr(\\Phi_-)},\n",
    "\\end{align}\n",
    "\\begin{align}\n",
    "E_{con}(\\hat{\\psi}_+) & = \\big(2/||\\psi_+||^{2}\\big)2^{-1}\\big|(c_{00}d_{10}+c_{01}d_{00})(c_{10}d_{11}+c_{11}d_{01}) - (c_{00}d_{11}+c_{01}d_{01})(c_{10}d_{10}+c_{11}d_{00}) \\big| \\\\\n",
    "& = \\big(1/||\\psi_+||^{2}\\big)\\big| c_{00}d_{10}c_{10}d_{11} + c_{00}d_{10}c_{11}d_{01} + c_{01}d_{00}c_{10}d_{11} + c_{01}d_{00}c_{11}d_{01} \\\\\n",
    "& \\hspace{2.5cm} - c_{00}d_{11}c_{10}d_{10} - c_{00}d_{11}c_{11}d_{00} - c_{01}d_{01}c_{10}d_{10} - c_{01}d_{01}c_{11}d_{00} \\big| \\\\\n",
    "& = \\frac{E_{con}(\\xi_{AC})E_{con}(\\eta_{C'B})}{4||\\psi_+||^{2}} = \\frac{E_{con}(\\xi_{AC})E_{con}(\\eta_{C'B})}{4Pr(\\Psi_+)},\n",
    "\\end{align}\n",
    "\\begin{align}\n",
    "E_{con}(\\hat{\\psi}_-) & = \\big(2/||\\psi_-||^{2}\\big)2^{-1}\\big|(c_{00}d_{10}-c_{01}d_{00})(c_{10}d_{11}-c_{11}d_{01}) - (c_{00}d_{11}-c_{01}d_{01})(c_{10}d_{10}-c_{11}d_{00}) \\big| \\\\\n",
    "& = \\big(1/||\\psi_-||^{2}\\big)\\big|c_{00}d_{10}c_{10}d_{11} - c_{00}d_{10}c_{11}d_{01} - c_{01}d_{00}c_{10}d_{11} + c_{01}d_{00}c_{11}d_{01} \\\\\n",
    "& \\hspace{2.5cm} - c_{00}d_{11}c_{10}d_{10} + c_{00}d_{11}c_{11}d_{00} + c_{01}d_{01}c_{10}d_{10} - c_{01}d_{01}c_{11}d_{00} \\big| \\\\\n",
    "& = \\frac{E_{con}(\\xi_{AC})E_{con}(\\eta_{C'B})}{4||\\psi_-||^{2}} = \\frac{E_{con}(\\xi_{AC})E_{con}(\\eta_{C'B})}{4Pr(\\Psi_-)}.\n",
    "\\end{align}"
   ]
  },
  {
   "cell_type": "markdown",
   "id": "ced7b8f2",
   "metadata": {},
   "source": [
    "Vale observar que o __emaranhamento médio__ transmitido é\n",
    "\\begin{align}\n",
    "\\langle E_{conc}\\rangle & = E_{con}(\\hat{\\phi}_+)Pr(\\hat{\\phi}_+) + E_{con}(\\hat{\\phi}_-)Pr(\\hat{\\phi}_-) + E_{con}(\\hat{\\psi}_+)Pr(\\hat{\\psi}_+) + E_{con}(\\hat{\\psi}_-)Pr(\\hat{\\psi}_-) \\\\\n",
    "& = E_{con}(\\hat{\\phi}_+)Pr(\\Phi_+) + E_{con}(\\hat{\\phi}_-)Pr(\\Phi_-) + E_{con}(\\hat{\\psi}_+)Pr(\\Psi_+) + E_{con}(\\hat{\\psi}_-)Pr(\\Psi_-) \\\\\n",
    "& = E_{con}(\\xi_{AC})E_{con}(\\eta_{C'B})(1/4+1/4+1/4+1/4) \\\\\n",
    "& = E_{con}(\\xi_{AC})E_{con}(\\eta_{C'B}) \\\\\n",
    "& = \\sqrt{1-P(\\xi_C)^2-C(\\xi_C)^2}\\sqrt{1-P(\\eta_{C'})^2-C(\\xi_{C'})^2}.\n",
    "\\end{align}\n",
    "\n",
    "De certo modo, o emaranhamento médio depende da coerência e preditibilidade local inicial, mas aqui a solução com emaranhameto máximo ocorre trivialmente para $P=C=0$. Mas sabemos que probabilisticamente podemos obter emaranhamento máximo mesmo quando $P\\ne0$ e $C=0$. Então, para estados iniciais parcialmente emaranhados, a saída para obter máximo emaranhamento transmitido é usando pós-seleção. Usar pós-seleção seria razoável pois medidas na base de Bell são realizadas de forma parcial atualmente em óptica quântica com fótons únicos."
   ]
  },
  {
   "cell_type": "markdown",
   "id": "f24b7f37",
   "metadata": {},
   "source": [
    "Vamos analisar relações do tipo\n",
    "$$4Pr(\\Phi_+)E(\\hat{\\phi}_+)=E(\\xi_{AC})E(\\eta_{C'B}).$$\n",
    "O lado direito envolve o produto dos emaranhamentos iniciais. Como\n",
    "$$0\\le E\\le 1,$$\n",
    "temos que\n",
    "$$0\\le E(\\xi_{AC})E(\\eta_{C'B} \\le 1$$\n",
    "sendo =1 se e somente se ambos estados são maximamene emaranhados e sendo =0 se e somente se um ou os 2 estados são separáveis. Ou seja, no caso geral de pares parcialmente emaranhados que nos interessa aqui, teremos que\n",
    "$$E(\\xi_{AC})E(\\eta_{C'B} < 1.$$\n",
    "Assim, neste regime a condição para que o estado pós-medida seja maximamente emaranhado é, por exemplo,\n",
    "$$4Pr(\\Phi_+)=E(\\xi_{AC})E(\\eta_{C'B}).$$\n",
    "Isso nos motiva a olhar em mais detalhes para as probabilidades, que dependem dos estados iniciais de ambos os pares de qubits. Vamos tentar separar essas contribuições:"
   ]
  },
  {
   "cell_type": "code",
   "execution_count": 2,
   "id": "b46302e1",
   "metadata": {},
   "outputs": [],
   "source": [
    "%run init.ipynb"
   ]
  },
  {
   "cell_type": "code",
   "execution_count": 27,
   "id": "1777abaa",
   "metadata": {
    "scrolled": false
   },
   "outputs": [
    {
     "data": {
      "image/png": "[encoded data removed]",
      "text/latex": [
       "$\\displaystyle \\left[\\begin{matrix}c_{00}\\\\c_{01}\\\\c_{10}\\\\c_{11}\\end{matrix}\\right]$"
      ],
      "text/plain": [
       "⎡c_{00}⎤\n",
       "⎢      ⎥\n",
       "⎢c_{01}⎥\n",
       "⎢      ⎥\n",
       "⎢c_{10}⎥\n",
       "⎢      ⎥\n",
       "⎣c_{11}⎦"
      ]
     },
     "execution_count": 27,
     "metadata": {},
     "output_type": "execute_result"
    }
   ],
   "source": [
    "c00,c01,c10,c11 = symbols('c_{00} c_{01} c_{10} c_{11}')\n",
    "psiAB = Matrix([[c00],[c01],[c10],[c11]]); psiAB"
   ]
  },
  {
   "cell_type": "code",
   "execution_count": 28,
   "id": "9875979c",
   "metadata": {
    "scrolled": true
   },
   "outputs": [
    {
     "data": {
      "image/png": "[encoded data removed]",
      "text/latex": [
       "$\\displaystyle \\left[\\begin{matrix}c_{00} \\overline{c_{00}} & c_{00} \\overline{c_{01}} & c_{00} \\overline{c_{10}} & c_{00} \\overline{c_{11}}\\\\c_{01} \\overline{c_{00}} & c_{01} \\overline{c_{01}} & c_{01} \\overline{c_{10}} & c_{01} \\overline{c_{11}}\\\\c_{10} \\overline{c_{00}} & c_{10} \\overline{c_{01}} & c_{10} \\overline{c_{10}} & c_{10} \\overline{c_{11}}\\\\c_{11} \\overline{c_{00}} & c_{11} \\overline{c_{01}} & c_{11} \\overline{c_{10}} & c_{11} \\overline{c_{11}}\\end{matrix}\\right]$"
      ],
      "text/plain": [
       "⎡       ______         ______         ______         ______⎤\n",
       "⎢c_{00}⋅c_{00}  c_{00}⋅c_{01}  c_{00}⋅c_{10}  c_{00}⋅c_{11}⎥\n",
       "⎢                                                          ⎥\n",
       "⎢       ______         ______         ______         ______⎥\n",
       "⎢c_{01}⋅c_{00}  c_{01}⋅c_{01}  c_{01}⋅c_{10}  c_{01}⋅c_{11}⎥\n",
       "⎢                                                          ⎥\n",
       "⎢       ______         ______         ______         ______⎥\n",
       "⎢c_{10}⋅c_{00}  c_{10}⋅c_{01}  c_{10}⋅c_{10}  c_{10}⋅c_{11}⎥\n",
       "⎢                                                          ⎥\n",
       "⎢       ______         ______         ______         ______⎥\n",
       "⎣c_{11}⋅c_{00}  c_{11}⋅c_{01}  c_{11}⋅c_{10}  c_{11}⋅c_{11}⎦"
      ]
     },
     "execution_count": 28,
     "metadata": {},
     "output_type": "execute_result"
    }
   ],
   "source": [
    "rhoAB = psiAB*conjugate(psiAB.T); rhoAB"
   ]
  },
  {
   "cell_type": "code",
   "execution_count": 29,
   "id": "669b69f7",
   "metadata": {
    "scrolled": true
   },
   "outputs": [
    {
     "data": {
      "image/png": "[encoded data removed]",
      "text/latex": [
       "$\\displaystyle \\left( \\left[\\begin{matrix}c_{00} \\overline{c_{00}} + c_{01} \\overline{c_{01}} & c_{00} \\overline{c_{10}} + c_{01} \\overline{c_{11}}\\\\c_{10} \\overline{c_{00}} + c_{11} \\overline{c_{01}} & c_{10} \\overline{c_{10}} + c_{11} \\overline{c_{11}}\\end{matrix}\\right], \\  \\left[\\begin{matrix}c_{00} \\overline{c_{00}} + c_{10} \\overline{c_{10}} & c_{00} \\overline{c_{01}} + c_{10} \\overline{c_{11}}\\\\c_{01} \\overline{c_{00}} + c_{11} \\overline{c_{10}} & c_{01} \\overline{c_{01}} + c_{11} \\overline{c_{11}}\\end{matrix}\\right]\\right)$"
      ],
      "text/plain": [
       "⎛⎡       ______          ______         ______          ______⎤  ⎡       _____\n",
       "⎜⎢c_{00}⋅c_{00} + c_{01}⋅c_{01}  c_{00}⋅c_{10} + c_{01}⋅c_{11}⎥  ⎢c_{00}⋅c_{00\n",
       "⎜⎢                                                            ⎥, ⎢            \n",
       "⎜⎢       ______          ______         ______          ______⎥  ⎢       _____\n",
       "⎝⎣c_{10}⋅c_{00} + c_{11}⋅c_{01}  c_{10}⋅c_{10} + c_{11}⋅c_{11}⎦  ⎣c_{01}⋅c_{00\n",
       "\n",
       "_          ______         ______          ______⎤⎞\n",
       "} + c_{10}⋅c_{10}  c_{00}⋅c_{01} + c_{10}⋅c_{11}⎥⎟\n",
       "                                                ⎥⎟\n",
       "_          ______         ______          ______⎥⎟\n",
       "} + c_{11}⋅c_{10}  c_{01}⋅c_{01} + c_{11}⋅c_{11}⎦⎠"
      ]
     },
     "execution_count": 29,
     "metadata": {},
     "output_type": "execute_result"
    }
   ],
   "source": [
    "rhoA = ptraceB(2,2,rhoAB); rhoB = ptraceA(2,2,rhoAB)\n",
    "rhoA, rhoB"
   ]
  },
  {
   "cell_type": "markdown",
   "id": "8bc0e0a2",
   "metadata": {},
   "source": [
    "\\begin{align}\n",
    "2Pr(\\Phi_+) & = |c_{00}d_{00}+c_{01}d_{10}|^{2} + |c_{00}d_{01}+c_{01}d_{11}|^{2} + |c_{10}d_{00}+c_{11}d_{10}|^{2} + |c_{10}d_{01}+c_{11}d_{11}|^{2} \\\\\n",
    "& = |c_{00}|^2|d_{00}|^2 + |c_{01}|^2|d_{10}|^2 + |c_{00}|^2|d_{01}|^2 + |c_{01}|^2|d_{11}|^2 + |c_{10}|^2|d_{00}|^2 + |c_{11}|^2|d_{10}|^2 + |c_{10}|^2|d_{01}|^2 + |c_{11}|^2|d_{11}|^2 \\\\\n",
    "& \\hspace{0.5cm} + c_{00}d_{00}c_{01}^{*}d_{10}^{*} + c_{00}^{*}d_{00}^{*}c_{01}d_{10} + c_{00}d_{01}c_{01}^{*}d_{11}^* + c_{00}^*d_{01}^*c_{01}d_{11} + c_{10}d_{00}c_{11}^*d_{10}^* + c_{10}^*d_{00}^*c_{11}d_{10} + c_{10}d_{01}c_{11}^*d_{11}^* + c_{10}^*d_{01}^*c_{11}d_{11} \\\\\n",
    "& = |c_{00}|^2(|d_{00}|^2+|d_{01}|^2) + |c_{01}|^2(|d_{10}|^2 +|d_{11}|^2) + |c_{10}|^2(|d_{00}|^2+|d_{01}|^2) + |c_{11}|^2(|d_{10}|^2+|d_{11}|^2) \\\\\n",
    "& \\hspace{0.5cm} + c_{00}c_{01}^{*}(d_{00}d_{10}^{*}+ d_{01}d_{11}^*) + c_{00}^{*}c_{01}(d_{00}^{*}d_{10}+ d_{01}^*d_{11}) + c_{10}c_{11}^*(d_{00}d_{10}^*+ d_{01}d_{11}^*) + c_{10}^*c_{11}(d_{00}^*d_{10} + d_{01}^*d_{11}) \\\\\n",
    "& = (|c_{00}|^2+|c_{10}|^2)(|d_{00}|^2+|d_{01}|^2) + (|c_{11}|^2+|c_{01}|^2)(|d_{10}|^2 +|d_{11}|^2) \\\\\n",
    "& \\hspace{0.5cm} + (c_{00}c_{01}^{*}+c_{10}c_{11}^*)(d_{00}d_{10}^{*}+ d_{01}d_{11}^*) + (c_{00}^{*}c_{01}+c_{10}^*c_{11})(d_{00}^{*}d_{10}+ d_{01}^*d_{11}) \\\\\n",
    "& = \\xi^C_{00}\\eta^{C'}_{00} + \\xi^C_{11}\\eta^{C'}_{11} + \\xi_{01}^C\\eta_{01}^{C'} + \\big(\\xi_{01}^C\\eta_{01}^{C'}\\big)^{*} \\\\\n",
    "& = \\xi^C_{00}\\eta^{C'}_{00} + \\xi^C_{11}\\eta^{C'}_{11} + 2\\Re\\big(\\xi_{01}^C\\eta_{01}^{C'}\\big),\n",
    "\\end{align}"
   ]
  },
  {
   "cell_type": "markdown",
   "id": "ea82a295",
   "metadata": {},
   "source": [
    "\\begin{align}\n",
    "2Pr(\\Phi_-) & = |c_{00}d_{00}-c_{01}d_{10}|^{2} + |c_{00}d_{01}-c_{01}d_{11}|^{2} + |c_{10}d_{00}-c_{11}d_{10}|^{2} + |c_{10}d_{01}-c_{11}d_{11}|^{2}, \\\\\n",
    "& = |c_{00}|^2|d_{00}|^2 + |c_{01}|^2|d_{10}|^2 + |c_{00}|^2|d_{01}|^2 + |c_{01}|^2|d_{11}|^2 + |c_{10}|^2|d_{00}|^2 + |c_{11}|^2|d_{10}|^2 + |c_{10}|^2|d_{01}|^2 + |c_{11}|^2|d_{11}|^2 \\\\\n",
    "& \\hspace{0.5cm} - c_{00}d_{00}c_{01}^*d_{10}^* - c_{00}^*d_{00}^*c_{01}d_{10} - c_{00}d_{01}c_{01}^*d_{11}^* - c_{00}^*d_{01}^*c_{01}d_{11} - c_{10}d_{00}c_{11}^*d_{10}^* - c_{10}^*d_{00}^*c_{11}d_{10} - c_{10}d_{01}c_{11}^*d_{11}^* - c_{10}^*d_{01}^*c_{11}d_{11} \\\\\n",
    "& = |c_{00}|^2(|d_{00}|^2+|d_{01}|^2) + |c_{01}|^2(|d_{10}|^2+|d_{11}|^2) + |c_{10}|^2(|d_{00}|^2+|d_{01}|^2) + |c_{11}|^2(|d_{10}|^2+|d_{11}|^2) \\\\\n",
    "& \\hspace{0.5cm} - c_{00}c_{01}^*(d_{00}d_{10}^*+d_{01}d_{11}^*) - c_{00}^*c_{01}(d_{00}^*d_{10}+d_{01}^*d_{11}) - c_{10}c_{11}^*(d_{00}d_{10}^*+d_{01}d_{11}^*) - c_{10}^*c_{11}(d_{00}^*d_{10}+d_{01}^*d_{11}) \\\\\n",
    "& = (|c_{00}|^2+|c_{10}|^2)(|d_{00}|^2+|d_{01}|^2) + (|c_{01}|^2+|c_{11}|^2)(|d_{10}|^2+|d_{11}|^2) \\\\\n",
    "& \\hspace{0.5cm} - (c_{00}c_{01}^*+c_{10}c_{11}^*)(d_{00}d_{10}^*+d_{01}d_{11}^*) - (c_{00}^*c_{01}+ c_{10}^*c_{11})(d_{00}^*d_{10}+d_{01}^*d_{11}) \\\\\n",
    "& = \\xi_{00}^C\\eta_{00}^{C'} + \\xi_{11}^C\\eta_{11}^{C'} - \\xi_{01}^C\\eta_{01}^{C'} - \\big(\\xi_{01}^C\\eta_{01}^{C'}\\big)^{*} \\\\\n",
    "& = \\xi^C_{00}\\eta^{C'}_{00} + \\xi^C_{11}\\eta^{C'}_{11} - 2\\Re\\big(\\xi_{01}^C\\eta_{01}^{C'}\\big),\n",
    "\\end{align}"
   ]
  },
  {
   "cell_type": "markdown",
   "id": "ac2f8563",
   "metadata": {},
   "source": [
    "\\begin{align}\n",
    "2Pr(\\Psi_+) & = |c_{00}d_{10}+c_{01}d_{00}|^{2} + |c_{00}d_{11}+c_{01}d_{01}|^{2} + |c_{10}d_{10}+c_{11}d_{00}|^{2} + |c_{10}d_{11}+c_{11}d_{01}|^{2}, \\\\\n",
    "& = |c_{00}|^2|d_{10}|^2 + |c_{01}|^2|d_{00}|^2 + |c_{00}|^2|d_{11}|^2 + |c_{01}|^2|d_{01}|^2 + |c_{10}|^2|d_{10}|^2 + |c_{11}|^2|d_{00}|^2 + |c_{10}|^2|d_{11}|^2 + |c_{11}|^2|d_{01}|^2 \\\\\n",
    "& \\hspace{0.5cm} + c_{00}d_{10}c_{01}^*d_{00}^* + c_{00}^*d_{10}^*c_{01}d_{00} + c_{00}d_{11}c_{01}^*d_{01}^* + c_{00}^*d_{11}^*c_{01}d_{01} + c_{10}d_{10}c_{11}^*d_{00}^* + c_{10}^*d_{10}^*c_{11}d_{00} + c_{10}d_{11}c_{11}^*d_{01}^* + c_{10}^*d_{11}^*c_{11}d_{01} \\\\\n",
    "& = |c_{00}|^2(|d_{10}|^2+|d_{11}|^2) + |c_{01}|^2(|d_{00}|^2 +|d_{01}|^2) + |c_{10}|^2(|d_{10}|^2+|d_{11}|^2) + |c_{11}|^2(|d_{00}|^2 + |d_{01}|^2) \\\\\n",
    "& \\hspace{0.5cm} + c_{00}c_{01}^*(d_{10}d_{00}^*+d_{11}d_{01}^*) + c_{00}^*c_{01}(d_{10}^*d_{00}+d_{11}^*d_{01}) + c_{10}c_{11}^*(d_{10}d_{00}^*+d_{11}d_{01}^*) + c_{10}^*c_{11}(d_{10}^*d_{00}+d_{11}^*d_{01}) \\\\\n",
    "& = (|c_{00}|^2+|c_{10}|^2)(|d_{10}|^2+|d_{11}|^2) + (|c_{01}|^2+|c_{11}|^2)(|d_{00}|^2 + |d_{01}|^2) \\\\\n",
    "& \\hspace{0.5cm} + (c_{00}c_{01}^*+c_{10}c_{11}^*)(d_{10}d_{00}^*+d_{11}d_{01}^*) + (c_{00}^*c_{01}+c_{10}^*c_{11})(d_{10}^*d_{00}+d_{11}^*d_{01}) \\\\\n",
    "& = \\xi_{00}^C\\eta_{11}^{C'} + \\xi_{11}^C\\eta_{00}^{C'} + \\xi_{01}^C(\\eta_{01}^{C'})^* + (\\xi_{01}^C)^*\\eta_{01}^{C'} \\\\\n",
    "& = \\xi_{00}^C\\eta_{11}^{C'} + \\xi_{11}^C\\eta_{00}^{C'}  + 2\\Re\\big(\\xi_{01}^C\\eta_{10}^{C'}\\big),\n",
    "\\end{align}"
   ]
  },
  {
   "cell_type": "markdown",
   "id": "ab968db2",
   "metadata": {},
   "source": [
    "\\begin{align}\n",
    "2Pr(\\Psi_-) & = |c_{00}d_{10}-c_{01}d_{00}|^{2} + |c_{00}d_{11}-c_{01}d_{01}|^{2} + |c_{10}d_{10}-c_{11}d_{00}|^{2} + |c_{10}d_{11}-c_{11}d_{01}|^{2} \\\\ \n",
    "& = |c_{00}|^2|d_{10}|^2 + |c_{01}|^2|d_{00}|^2 + |c_{00}|^2|d_{11}|^2 + |c_{01}|^2|d_{01}|^2 + |c_{10}|^2|d_{10}|^2 + |c_{11}|^2|d_{00}|^2 + |c_{10}|^2|d_{11}|^2 + |c_{11}|^2|d_{01}|^2 \\\\\n",
    "& \\hspace{0.5cm} - c_{00}d_{10}c_{01}^*d_{00}^* - c_{00}^*d_{10}^*c_{01}d_{00} - c_{00}d_{11}c_{01}^*d_{01}^* - c_{00}^*d_{11}^*c_{01}d_{01} - c_{10}d_{10}c_{11}^*d_{00}^* - c_{10}^*d_{10}^*c_{11}d_{00} - c_{10}d_{11}c_{11}^*d_{01}^* - c_{10}^*d_{11}^*c_{11}d_{01} \\\\\n",
    "& = |c_{00}|^2(|d_{10}|^2+|d_{11}|^2) + |c_{01}|^2(|d_{00}|^2 +|d_{01}|^2) + |c_{10}|^2(|d_{10}|^2+|d_{11}|^2) + |c_{11}|^2(|d_{00}|^2 + |d_{01}|^2) \\\\\n",
    "& \\hspace{0.5cm} - c_{00}c_{01}^*(d_{10}d_{00}^*+d_{11}d_{01}^*) - c_{00}^*c_{01}(d_{10}^*d_{00}+d_{11}^*d_{01}) - c_{10}c_{11}^*(d_{10}d_{00}^*+d_{11}d_{01}^*) - c_{10}^*c_{11}(d_{10}^*d_{00}+d_{11}^*d_{01}) \\\\\n",
    "& = (|c_{00}|^2+|c_{10}|^2)(|d_{10}|^2+|d_{11}|^2) + (|c_{01}|^2+|c_{11}|^2)(|d_{00}|^2 + |d_{01}|^2) \\\\\n",
    "& \\hspace{0.5cm} - (c_{00}c_{01}^*+c_{10}c_{11}^*)(d_{10}d_{00}^*+d_{11}d_{01}^*) - (c_{00}^*c_{01}+c_{10}^*c_{11})(d_{10}^*d_{00}+d_{11}^*d_{01}) \\\\\n",
    "& = \\xi_{00}^C\\eta_{11}^{C'} + \\xi_{11}^C\\eta_{00}^{C'} - \\xi_{01}^C(\\eta_{01}^{C'})^* - (\\xi_{01}^C)^*\\eta_{01}^{C'} \\\\\n",
    "& = \\xi_{00}^C\\eta_{11}^{C'} + \\xi_{11}^C\\eta_{00}^{C'}  - 2\\Re\\big(\\xi_{01}^C\\eta_{10}^{C'}\\big).\n",
    "\\end{align}"
   ]
  },
  {
   "cell_type": "markdown",
   "id": "c2c3bc64",
   "metadata": {},
   "source": [
    "Notemos que\n",
    "\\begin{align}\n",
    "& 1+(\\xi_{00}^C-\\xi_{11}^C)(\\eta_{00}^{C'}-\\eta_{11}^{C'}) \\\\\n",
    "& = (\\xi_{00}^C+\\xi_{11}^C)(\\eta_{00}^{C'}+\\eta_{11}^{C'}) + (\\xi_{00}^C-\\xi_{11}^C)(\\eta_{00}^{C'}-\\eta_{11}^{C'}) \\\\\n",
    "& = \\xi_{00}^C\\eta_{00}^{C'} + \\xi_{11}^C\\eta_{11}^{C'} + \\xi_{00}^C\\eta_{11}^{C'} + \\xi_{11}^C\\eta_{00}^{C'} + \\xi_{00}^C\\eta_{00}^{C'} + \\xi_{11}^C\\eta_{11}^{C'} - \\xi_{00}^C\\eta_{11}^{C'} - \\xi_{11}^C\\eta_{00}^{C'} \\\\\n",
    "& = 2\\big(\\xi_{00}^C\\eta_{00}^{C'} + \\xi_{11}^C\\eta_{11}^{C'}\\big)\n",
    "\\end{align}\n",
    "e \n",
    "\\begin{align}\n",
    "& 1-(\\xi_{00}^C-\\xi_{11}^C)(\\eta_{00}^{C'}-\\eta_{11}^{C'}) \\\\\n",
    "& = (\\xi_{00}^C+\\xi_{11}^C)(\\eta_{00}^{C'}+\\eta_{11}^{C'}) - (\\xi_{00}^C-\\xi_{11}^C)(\\eta_{00}^{C'}-\\eta_{11}^{C'}) \\\\\n",
    "& = \\xi_{00}^C\\eta_{00}^{C'} + \\xi_{11}^C\\eta_{11}^{C'} + \\xi_{00}^C\\eta_{11}^{C'} + \\xi_{11}^C\\eta_{00}^{C'} - \\xi_{00}^C\\eta_{00}^{C'} - \\xi_{11}^C\\eta_{11}^{C'} + \\xi_{00}^C\\eta_{11}^{C'} + \\xi_{11}^C\\eta_{00}^{C'} \\\\\n",
    "& = 2\\big(\\xi_{00}^C\\eta_{11}^{C'} + \\xi_{11}^C\\eta_{00}^{C'}\\big).\n",
    "\\end{align}"
   ]
  },
  {
   "cell_type": "markdown",
   "id": "4a460ef0",
   "metadata": {},
   "source": [
    "Além disso\n",
    "$$\\Re\\big(\\xi_{01}^C\\eta_{01}^{C'}\\big) = \\Re\\big(\\xi_{01}^C\\big)\\Re\\big(\\eta_{01}^{C'}\\big) - \\Im\\big(\\xi_{01}^C\\big)\\Im\\big(\\eta_{01}^{C'}\\big).$$\n",
    "Essa expressão complica relacionar esse tipo de termo com a coerência. Para lidar com isso, vejamos como zerar a parte imaginária dos elementos fora da diagonal da matriz densidade. Para isso, escrevemos um estado de 1 qubit como segue:\n",
    "$$\\rho = \\begin{bmatrix} \\rho_{00}&\\rho_{01} \\\\ \\rho_{10}&\\rho_{11} \\end{bmatrix} = \\frac{1}{2}\\begin{bmatrix} 1+r_z & r_x-ir_y \\\\ r_x+ir_y & 1-r_z \\end{bmatrix}.$$\n",
    "Queremos transformar este estado em\n",
    "$$\\rho' = \\frac{1}{2}\\begin{bmatrix} 1+r_z' & r_x' \\\\ r_x' & 1-r_z' \\end{bmatrix}$$\n",
    "com \n",
    "$$r_z = r_z'$$\n",
    "e\n",
    "$$r_x^2 + r_y^2 = (r_x')^2.$$"
   ]
  },
  {
   "cell_type": "markdown",
   "id": "dc93e702",
   "metadata": {},
   "source": [
    "Pensando na representação deste estado na esfera de Bloch, como fizemos quando estudamos o algoritmo de preparação de estados disponível no qiskit, vemos que para zerar a componente $y$ do vetor de Bloch podemos fazer uma rotação em torno de $\\hat{z}$ por um ângulo $-\\phi$ usando\n",
    "$$R_z(-\\phi) = e^{-i(-\\phi)\\sigma_z/2}=e^{i\\phi\\sigma_z/2} = \\cos(\\phi/2)\\sigma_0 + i\\sin(\\phi/2)\\sigma_z.$$\n",
    "Verifiquemos isso. Começamos escrevendo\n",
    "$$\\rho = 2^{-1}\\big(\\sigma_0 + r_x\\sigma_x + r_y\\sigma_y + r_z\\sigma_z\\big).$$\n",
    "Teremos assim que\n",
    "\\begin{align}\n",
    "\\rho' & = R_z(-\\phi)\\rho R_z(-\\phi)^{\\dagger} \\\\\n",
    "& = 2^{-1}\\big(\\sigma_0 + r_x R_z(-\\phi)\\sigma_x R_z(-\\phi)^{\\dagger} + r_y R_z(-\\phi)\\sigma_y R_z(-\\phi)^{\\dagger} + r_z\\sigma_z\\big).\n",
    "\\end{align}\n",
    "Calculemos separadamente\n",
    "\\begin{align}\n",
    "& R_z(-\\phi)\\sigma_x R_z(-\\phi)^{\\dagger} = e^{i\\phi\\sigma_z/2}\\sigma_x e^{-i\\phi\\sigma_z/2} \\\\\n",
    "& = \\big(\\cos(\\phi/2)\\sigma_0 + i\\sin(\\phi/2)\\sigma_z\\big)\\sigma_x\\big(\\cos(\\phi/2)\\sigma_0 - i\\sin(\\phi/2)\\sigma_z\\big) \\\\\n",
    "& = \\big(\\cos(\\phi/2)\\sigma_x + i\\sin(\\phi/2)\\sigma_z\\sigma_x\\big)\\big(\\cos(\\phi/2)\\sigma_0 - i\\sin(\\phi/2)\\sigma_z\\big) \\\\\n",
    "& = \\cos(\\phi/2)^{2}\\sigma_x + \\sin(\\phi/2)^{2}\\sigma_z\\sigma_x\\sigma_z + i\\sin(\\phi/2)\\cos(\\phi/2)[\\sigma_z,\\sigma_x] \\\\\n",
    "& = \\cos(\\phi/2)^{2}\\sigma_x - \\sin(\\phi/2)^{2}\\sigma_x + i\\sin(\\phi/2)\\cos(\\phi/2)2i\\sigma_y \\\\\n",
    "& = \\cos(\\phi)\\sigma_x - \\sin(\\phi)\\sigma_y \\\\\n",
    "\\end{align}"
   ]
  },
  {
   "cell_type": "markdown",
   "id": "37473462",
   "metadata": {},
   "source": [
    "e \n",
    "\\begin{align}\n",
    "& R_z(-\\phi)\\sigma_y R_z(-\\phi)^{\\dagger} = e^{i\\phi\\sigma_z/2}\\sigma_y e^{-i\\phi\\sigma_z/2} \\\\\n",
    "& = \\big(\\cos(\\phi/2)\\sigma_0 + i\\sin(\\phi/2)\\sigma_z\\big)\\sigma_y\\big(\\cos(\\phi/2)\\sigma_0 - i\\sin(\\phi/2)\\sigma_z\\big) \\\\\n",
    "& = \\big(\\cos(\\phi/2)\\sigma_y + i\\sin(\\phi/2)\\sigma_z\\sigma_y\\big)\\big(\\cos(\\phi/2)\\sigma_0 - i\\sin(\\phi/2)\\sigma_z\\big) \\\\\n",
    "& = \\cos(\\phi/2)^{2}\\sigma_y + \\sin(\\phi/2)^{2}\\sigma_z\\sigma_y\\sigma_z + i\\sin(\\phi/2)\\cos(\\phi/2)[\\sigma_z,\\sigma_y] \\\\\n",
    "& = \\cos(\\phi/2)^{2}\\sigma_y - \\sin(\\phi/2)^{2}\\sigma_y - i\\sin(\\phi/2)\\cos(\\phi/2)2i\\sigma_x \\\\\n",
    "& = \\cos(\\phi)\\sigma_y + \\sin(\\phi)\\sigma_x \\\\\n",
    "\\end{align}\n",
    "em que usamos (verifique)\n",
    "\\begin{align}\n",
    "& [\\sigma_z,\\sigma_x]=2i\\sigma_y, \\\\\n",
    "& [\\sigma_z,\\sigma_y]=-2i\\sigma_x, \\\\\n",
    "& \\sigma_z\\sigma_x\\sigma_z = -\\sigma_x, \\\\\n",
    "& \\sigma_z\\sigma_y\\sigma_z = -\\sigma_y.\n",
    "\\end{align}"
   ]
  },
  {
   "cell_type": "code",
   "execution_count": 9,
   "id": "979c42e8",
   "metadata": {},
   "outputs": [
    {
     "data": {
      "image/png": "[encoded data removed]",
      "text/latex": [
       "$\\displaystyle \\left( \\left[\\begin{matrix}0 & -1\\\\-1 & 0\\end{matrix}\\right], \\  \\left[\\begin{matrix}0 & 1.0 i\\\\- 1.0 i & 0\\end{matrix}\\right], \\  \\left[\\begin{matrix}0 & 2\\\\-2 & 0\\end{matrix}\\right], \\  \\left[\\begin{matrix}0 & - 2.0 i\\\\- 2.0 i & 0\\end{matrix}\\right]\\right)$"
      ],
      "text/plain": [
       "⎛⎡0   -1⎤  ⎡  0     1.0⋅ⅈ⎤  ⎡0   2⎤  ⎡  0     -2.0⋅ⅈ⎤⎞\n",
       "⎜⎢      ⎥, ⎢             ⎥, ⎢     ⎥, ⎢              ⎥⎟\n",
       "⎝⎣-1  0 ⎦  ⎣-1.0⋅ⅈ    0  ⎦  ⎣-2  0⎦  ⎣-2.0⋅ⅈ    0   ⎦⎠"
      ]
     },
     "execution_count": 9,
     "metadata": {},
     "output_type": "execute_result"
    }
   ],
   "source": [
    "pauli(3)*pauli(1)*pauli(3), pauli(3)*pauli(2)*pauli(3), comm(pauli(3),pauli(1)), comm(pauli(3),pauli(2))"
   ]
  },
  {
   "cell_type": "markdown",
   "id": "59a49b62",
   "metadata": {},
   "source": [
    "Teremos assim que\n",
    "\\begin{align}\n",
    "\\rho' & = 2^{-1}\\big(\\sigma_0 + r_x\\big(\\cos(\\phi)\\sigma_x - \\sin(\\phi)\\sigma_y\\big) + r_y\\big(\\cos(\\phi)\\sigma_y + \\sin(\\phi)\\sigma_x\\big) + r_z\\sigma_z) \\\\\n",
    "& = 2^{-1}\\big(\\sigma_0 + \\big(r_x\\cos(\\phi) + r_y\\sin(\\phi)\\big)\\sigma_x + \\big(-r_x\\sin(\\phi) + r_y\\cos(\\phi)\\big)\\sigma_y + r_z\\sigma_z) \\\\\n",
    "& = 2^{-1}\\big(\\sigma_0 + r_x'\\sigma_x + r_y'\\sigma_y + r_z\\sigma_z).\n",
    "\\end{align}\n",
    "Usando\n",
    "$$r_x=r\\sin\\theta\\cos\\phi,\\ r_y=r\\sin\\theta\\sin\\phi,\\ r_z=r\\cos\\theta$$\n",
    "obtemos\n",
    "\\begin{align}\n",
    "r_x' & = r_x\\cos(\\phi) + r_y\\sin(\\phi) \\\\\n",
    "& = r\\sin\\theta\\cos\\phi\\cos(\\phi) + r\\sin\\theta\\sin\\phi\\sin(\\phi) \\\\\n",
    "& = r\\sin\\theta \\ge 0 \\text{ pois } \\theta\\in[0,\\pi], \\\\\n",
    "r_y' & = -r_x\\sin(\\phi) + r_y\\cos(\\phi) \\\\\n",
    "& = -r\\sin\\theta\\cos\\phi\\sin(\\phi) + r\\sin\\theta\\sin\\phi\\cos(\\phi) \\\\\n",
    "& =0,\n",
    "\\end{align}\n",
    "cqd. É fácil também ver que\n",
    "$$|r_x'|^{2} = r^2\\sin^2\\theta = |r_x|^2+|r_y|^2.$$\n"
   ]
  },
  {
   "cell_type": "markdown",
   "id": "bbeab283",
   "metadata": {},
   "source": [
    "Com isso, vemos que podemos fazer rotações locais de forma a não mudar o emaranhamento nem as preditibilidade e coerência local:\n",
    "\\begin{align}\n",
    "\\tilde{\\xi}_{AC} & = \\big(\\mathbb{I}_{A}\\otimes R_Z(-\\phi_C)\\big)\\xi_{AC}\\big(\\mathbb{I}_{A}\\otimes R_Z(-\\phi_C)^{\\dagger}\\big), \\\\\n",
    "\\tilde{\\eta}_{C'B} & = \\big(R_Z(-\\phi_C')\\otimes\\mathbb{I}_{B}\\big)\\eta_{C'B}\\big(R_Z(-\\phi_C')^{\\dagger}\\otimes\\mathbb{I}_{B}\\big),\n",
    "\\end{align}\n",
    "em que $\\phi_C,\\phi_{C'}$ são os ângulos correspondentes às representações de Bloch de $\\xi_C,\\eta_{C'}$.\n",
    "Para esses estados transformados teremos que\n",
    "\\begin{align}\n",
    "\\Re\\big(\\tilde{\\xi}_{01}^C\\tilde{\\eta}_{01}^{C'}\\big) & = \\Re\\big(\\tilde{\\xi}_{01}^C\\big)\\Re\\big(\\tilde{\\eta}_{01}^{C'}\\big) - \\Im\\big(\\tilde{\\xi}_{01}^C\\big)\\Im\\big(\\tilde{\\eta}_{01}^{C'}\\big) \\\\\n",
    "& = \\Re\\big(\\tilde{\\xi}_{01}^C\\big)\\Re\\big(\\tilde{\\eta}_{01}^{C'}\\big) - (0)(0) \\\\\n",
    "& = \\Re\\big(\\tilde{\\xi}_{01}^C\\big)\\Re\\big(\\tilde{\\eta}_{01}^{C'}\\big) \\\\\n",
    "& = \\tilde{\\xi}_{01}^C\\tilde{\\eta}_{01}^{C'} \\\\\n",
    "& = |\\tilde{\\xi}_{01}^C||\\tilde{\\eta}_{01}^{C'}|,\n",
    "\\end{align}\n",
    "que está relacionado ao produto das coerências locais dos qubits $C$ e $C'$.\n",
    "\n",
    "O mesmo segue para o termo\n",
    "\\begin{align}\n",
    "\\Re\\big(\\tilde{\\xi}_{01}^C\\tilde{\\eta}_{10}^{C'}\\big) & = \\Re\\big(\\tilde{\\xi}_{01}^C\\big)\\Re\\big(\\tilde{\\eta}_{10}^{C'}\\big) \\\\\n",
    "& = \\Re\\big(\\tilde{\\xi}_{01}^C\\big)\\Re\\big(\\tilde{\\eta}_{01}^{C'}\\big) \\\\\n",
    "& = \\tilde{\\xi}_{01}^C\\tilde{\\eta}_{01}^{C'} \\\\\n",
    "& = |\\tilde{\\xi}_{01}^C||\\tilde{\\eta}_{01}^{C'}|\n",
    "\\end{align}\n",
    "pois \n",
    "$$\\Im\\big(\\tilde{\\eta}_{01}^{C'}\\big)=\\Im\\big(\\tilde{\\eta}_{10}^{C'}\\big)=0$$\n",
    "e \n",
    "$$\\big(\\tilde{\\eta}_{10}^{C'}\\big)^*=\\tilde{\\eta}_{01}^{C'}\\ \\therefore\\ \\Re\\big(\\tilde{\\eta}_{10}^{C'}\\big)=\\Re\\big(\\tilde{\\eta}_{01}^{C'}\\big).$$ "
   ]
  },
  {
   "cell_type": "markdown",
   "id": "036f8de5",
   "metadata": {},
   "source": [
    "Feitas todas essas considerações, obtemos\n",
    "\\begin{align}\n",
    "4Pr(\\Phi_+) & = 2\\big(\\xi^C_{00}\\eta^{C'}_{00} + \\xi^C_{11}\\eta^{C'}_{11}\\big) + 4\\Re\\big(\\xi_{01}^C\\eta_{01}^{C'}\\big) \\\\\n",
    "& = 1+\\big(\\xi_{00}^C-\\xi_{11}^C\\big)\\big(\\eta_{00}^{C'}-\\eta_{11}^{C'}\\big) + 2|\\tilde{\\xi}_{01}^C|2|\\tilde{\\eta}_{01}^{C'}|, \\\\\n",
    "4Pr(\\Phi_-) & = 2\\big(\\xi^C_{00}\\eta^{C'}_{00} + \\xi^C_{11}\\eta^{C'}_{11}\\big) - 4\\Re\\big(\\xi_{01}^C\\eta_{01}^{C'}\\big) \\\\\n",
    "& = 1+\\big(\\xi_{00}^C-\\xi_{11}^C\\big)\\big(\\eta_{00}^{C'}-\\eta_{11}^{C'}\\big) - 2|\\tilde{\\xi}_{01}^C|2|\\tilde{\\eta}_{01}^{C'}|, \\\\\n",
    "4Pr(\\Psi_+) & = 2\\big(\\xi^C_{00}\\eta^{C'}_{11} + \\xi^C_{11}\\eta^{C'}_{00}\\big) + 4\\Re\\big(\\xi_{01}^C\\eta_{10}^{C'}\\big) \\\\\n",
    "& = 1-\\big(\\xi_{00}^C-\\xi_{11}^C\\big)\\big(\\eta_{00}^{C'}-\\eta_{11}^{C'}\\big) + 2|\\tilde{\\xi}_{01}^C|2|\\tilde{\\eta}_{01}^{C'}|, \\\\\n",
    "4Pr(\\Psi_-) & = 2\\big(\\xi^C_{00}\\eta^{C'}_{11} + \\xi^C_{11}\\eta^{C'}_{00}\\big) - 4\\Re\\big(\\xi_{01}^C\\eta_{10}^{C'}\\big) \\\\\n",
    "& = 1-\\big(\\xi_{00}^C-\\xi_{11}^C\\big)\\big(\\eta_{00}^{C'}-\\eta_{11}^{C'}\\big) - 2|\\tilde{\\xi}_{01}^C|2|\\tilde{\\eta}_{01}^{C'}|.\n",
    "\\end{align}\n",
    "É importante notar que o termo \n",
    "$$\\big(\\xi_{00}^C-\\xi_{11}^C\\big)\\big(\\eta_{00}^{C'}-\\eta_{11}^{C'}\\big)$$ \n",
    "está relacionado com as preditibilidades locais. Já o termo \n",
    "$$2|\\tilde{\\xi}_{01}^C|2|\\tilde{\\eta}_{01}^{C'}|$$\n",
    "está relacionado com as coerências locais."
   ]
  },
  {
   "cell_type": "markdown",
   "id": "41d22400",
   "metadata": {},
   "source": [
    "Com isso, podemos escrever a seguinte relação geral entre o emaranhamento dos estados pós-medida e os emaranhamentos, coerências e preditibilidades locais dos estados pré-medida:\n",
    "\\begin{align}\n",
    "E_{con}(\\hat{\\phi}_+) & = \\frac{E_{con}(\\xi_{AC})E_{con}(\\eta_{C'B})}{4Pr(\\Phi_+)} \\\\\n",
    "& = \\frac{E_{con}(\\xi_{AC})E_{con}(\\eta_{C'B})}{1+\\big(\\xi_{00}^C-\\xi_{11}^C\\big)\\big(\\eta_{00}^{C'}-\\eta_{11}^{C'}\\big) + 2|\\tilde{\\xi}_{01}^C|2|\\tilde{\\eta}_{01}^{C'}|}, \\\\\n",
    "& = \\frac{E_{con}(\\xi_{AC})E_{con}(\\eta_{C'B})}{1+sgn\\big(\\xi_{00}^C-\\xi_{11}^C\\big)\\big|\\xi_{00}^C-\\xi_{11}^C\\big|sgn\\big(\\eta_{00}^{C'}-\\eta_{11}^{C'}\\big)\\big|\\eta_{00}^{C'}-\\eta_{11}^{C'}\\big| + 2|\\tilde{\\xi}_{01}^C|2|\\tilde{\\eta}_{01}^{C'}|}, \\\\\n",
    "& = \\frac{E_{con}(\\xi_{AC})E_{con}(\\eta_{C'B})}{1+sgn\\big(\\xi_{00}^C-\\xi_{11}^C\\big)P(\\xi^C)sgn\\big(\\eta_{00}^{C'}-\\eta_{11}^{C'}\\big)P(\\eta^{C'}) + C_{l_1}(\\tilde{\\xi}^C)C_{l_1}(\\tilde{\\eta}^{C'})}, \\\\\n",
    "& = \\frac{E_{con}(\\xi_{AC})E_{con}(\\eta_{C'B})}{1+s(\\theta_C)s(\\theta_{C'})P(\\xi^C)P(\\eta^{C'}) + C_{l_1}(\\xi^C)C_{l_1}(\\eta^{C'})},\n",
    "\\end{align}"
   ]
  },
  {
   "cell_type": "markdown",
   "id": "9df6363e",
   "metadata": {},
   "source": [
    "em que usamos a função\n",
    "$$sgn(x)=\\begin{cases}-1,\\ x<0 \\\\ 0,\\ x=0 \\\\ +1,\\ x>0\\end{cases}$$\n",
    "e definimos\n",
    "$$s(\\theta_C)=sgn\\big(\\xi_{00}^C-\\xi_{11}^C\\big) = sgn(\\langle\\sigma_z\\rangle_{\\xi_C}) = \\begin{cases}+1,0\\le\\ \\theta_C<\\pi/2 \\\\ 0,\\ \\theta_C=\\pi/2 \\\\ -1,\\ \\pi/2<\\theta_C\\le\\pi\\end{cases},$$\n",
    "e analogamente para $s(\\theta_{C'})$. Também usamos\n",
    "\\begin{align}\n",
    "& C_{l_1}(\\tilde{\\eta}^{C'}) = C_{l_1}(\\eta^{C'}),\\ C_{l_1}(\\tilde{\\xi}^{C})=C_{l_1}(\\xi^{C}).\n",
    "\\end{align}"
   ]
  },
  {
   "cell_type": "markdown",
   "id": "3fff19ab",
   "metadata": {},
   "source": [
    "Analogamente, pode-se mostrar que\n",
    "\\begin{align}\n",
    "E_{con}(\\hat{\\phi}_-) & = \\frac{E_{con}(\\xi_{AC})E_{con}(\\eta_{C'B})}{1+s(\\theta_C)s(\\theta_{C'})P(\\xi^C)P(\\eta^{C'}) - C_{l_1}(\\xi^C)C_{l_1}(\\eta^{C'})}, \\\\\n",
    "E_{con}(\\hat{\\psi}_+) & = \\frac{E_{con}(\\xi_{AC})E_{con}(\\eta_{C'B})}{1 - s(\\theta_C)s(\\theta_{C'})P(\\xi^C)P(\\eta^{C'}) + C_{l_1}(\\xi^C)C_{l_1}(\\eta^{C'})}, \\\\\n",
    "E_{con}(\\hat{\\psi}_-) & = \\frac{E_{con}(\\xi_{AC})E_{con}(\\eta_{C'B})}{1 - s(\\theta_C)s(\\theta_{C'})P(\\xi^C)P(\\eta^{C'}) - C_{l_1}(\\xi^C)C_{l_1}(\\eta^{C'})}.\n",
    "\\end{align}"
   ]
  },
  {
   "cell_type": "markdown",
   "id": "c2a2a216",
   "metadata": {},
   "source": [
    "Vale observar que nos casos de interesse $E_{con}(\\xi_{AC})E_{con}(\\eta_{C'B})<1$. Então, para ter emaranhamento máximo, temos que ter o denominador também $<1$. No entando, isso só pode ser obtido se os termos com $P's$ e/ou com $C's$ forem negativos. Primeiramente notamos que é somente o valor da coerência que importa para o emaranhamento final. Como as medidas de coerência e de preditibilidade são positivas, $P,C\\ge0$, vemos que a __coerência local__ contribui para aumentar o emaranhamento de $\\hat{\\phi}_-,\\hat{\\psi}_-$ e para diminuir o emaranhamento de $\\hat{\\phi}_+,\\hat{\\psi}_+$. \n",
    "\n",
    "A contribuição das preditibilidades é mais complicada de identificar, pois dependem da relação entre os sinais $s(\\theta_C),s(\\theta_{C'})$. Sobre essa relação, temos que\n",
    "\\begin{align}\n",
    "& s(\\theta_C),s(\\theta_{C'}) = 1,\\ \\theta_C<\\pi/2,\\theta_{C'}<\\pi/2 \\text{ ou } \\theta_C>\\pi/2,\\theta_{C'}>\\pi/2, \\\\\n",
    "& s(\\theta_C),s(\\theta_{C'}) = -1,\\ \\theta_C>\\pi/2,\\theta_{C'}<\\pi/2 \\text{ ou } \\theta_C>\\pi/2,\\theta_{C'}<\\pi/2.\n",
    "\\end{align}\n",
    "Ou seja, o produto das funções sinais é positivo se os estados locais $\\xi_C,\\eta_{C'}$ estiverem no mesmo hemisfério, e é negativo se estiverem em hemisférios diferentes."
   ]
  },
  {
   "cell_type": "markdown",
   "id": "29b0e9c1",
   "metadata": {},
   "source": [
    "Assim, se os estados locais de $C$ e $C'$ estiverem no __mesmo hemisfério__ da esfera de Bloch, teremos\n",
    "\\begin{align}\n",
    "E_{con}(\\hat{\\phi}_+) & = \\frac{E_{con}(\\xi_{AC})E_{con}(\\eta_{C'B})}{1+P(\\xi^C)P(\\eta^{C'}) + C_{l_1}(\\xi^C)C_{l_1}(\\eta^{C'})}, \\\\\n",
    "E_{con}(\\hat{\\phi}_-) & = \\frac{E_{con}(\\xi_{AC})E_{con}(\\eta_{C'B})}{1+P(\\xi^C)P(\\eta^{C'}) - C_{l_1}(\\xi^C)C_{l_1}(\\eta^{C'})}, \\\\\n",
    "E_{con}(\\hat{\\psi}_+) & = \\frac{E_{con}(\\xi_{AC})E_{con}(\\eta_{C'B})}{1 - P(\\xi^C)P(\\eta^{C'}) + C_{l_1}(\\xi^C)C_{l_1}(\\eta^{C'})}, \\\\\n",
    "E_{con}(\\hat{\\psi}_-) & = \\frac{E_{con}(\\xi_{AC})E_{con}(\\eta_{C'B})}{1 - P(\\xi^C)P(\\eta^{C'}) - C_{l_1}(\\xi^C)C_{l_1}(\\eta^{C'})}.\n",
    "\\end{align}\n",
    "Como $P\\ge 0$, a preditibilidade local contribui para aumentar o emaranhamento de $\\hat{\\psi}_{\\pm}$ e para diminuir o emaranhamento de $\\hat{\\phi}_{\\pm}$."
   ]
  },
  {
   "cell_type": "markdown",
   "id": "9c833a24",
   "metadata": {},
   "source": [
    "Se os estados locais de $C$ e $C'$ estiverem em __hemisférios diferentes__ da esfera de Bloch, teremos\n",
    "\\begin{align}\n",
    "E_{con}(\\hat{\\phi}_+) & = \\frac{E_{con}(\\xi_{AC})E_{con}(\\eta_{C'B})}{1 - P(\\xi^C)P(\\eta^{C'}) + C_{l_1}(\\xi^C)C_{l_1}(\\eta^{C'})}, \\\\\n",
    "E_{con}(\\hat{\\phi}_-) & = \\frac{E_{con}(\\xi_{AC})E_{con}(\\eta_{C'B})}{1 - P(\\xi^C)P(\\eta^{C'}) - C_{l_1}(\\xi^C)C_{l_1}(\\eta^{C'})}, \\\\\n",
    "E_{con}(\\hat{\\psi}_+) & = \\frac{E_{con}(\\xi_{AC})E_{con}(\\eta_{C'B})}{1 + P(\\xi^C)P(\\eta^{C'}) + C_{l_1}(\\xi^C)C_{l_1}(\\eta^{C'})}, \\\\\n",
    "E_{con}(\\hat{\\psi}_-) & = \\frac{E_{con}(\\xi_{AC})E_{con}(\\eta_{C'B})}{1 + P(\\xi^C)P(\\eta^{C'}) - C_{l_1}(\\xi^C)C_{l_1}(\\eta^{C'})}.\n",
    "\\end{align}\n",
    "Como $P\\ge 0$, a preditibilidade local contribui para aumentar o emaranhamento de $\\hat{\\phi}_{\\pm}$ e para diminuir o emaranhamento de $\\hat{\\psi}_{\\pm}$."
   ]
  },
  {
   "cell_type": "markdown",
   "id": "197846e2",
   "metadata": {},
   "source": [
    "### Casos particulares\n",
    "\n",
    "#### $C=0,\\ P=0$\n",
    "O caso de estados maximalmente emaranhados é trivialmente obtido das equações acima, pois neste caso \n",
    "$$P=C=0\\ \\therefore E^2 = 1-P^2-C^2=1$$ \n",
    "e \n",
    "\\begin{align}\n",
    "E_{con}(\\hat{\\phi}_+) & = \\frac{(1)(1)}{1 - (0)(0) + (0)(0)} = 1, \\\\\n",
    "E_{con}(\\hat{\\phi}_-) & = \\frac{(1)(1)}{1 - (0)(0) - (0)(0)} = 1, \\\\\n",
    "E_{con}(\\hat{\\psi}_+) & = \\frac{(1)(1)}{1 + (0)(0) + (0)(0)} = 1, \\\\\n",
    "E_{con}(\\hat{\\psi}_-) & = \\frac{(1)(1)}{1 + (0)(0) - (0)(0)} = 1.\n",
    "\\end{align}"
   ]
  },
  {
   "cell_type": "markdown",
   "id": "e8256dba",
   "metadata": {},
   "source": [
    "#### $C=0,\\ P\\ne0$\n",
    "As possibilidades de estados iniciais com $C=0$ são\n",
    "\\begin{align}\n",
    "& |\\xi\\rangle_{AC} = c_{00}|00\\rangle + c_{11}|11\\rangle,\\ |\\eta\\rangle_{C'B} = d_{00}|00\\rangle + d_{11}|11\\rangle, \\\\\n",
    "& |\\xi\\rangle_{AC} = c_{00}|00\\rangle + c_{11}|11\\rangle,\\ |\\eta\\rangle_{C'B} = d_{01}|01\\rangle + d_{10}|10\\rangle, \\\\\n",
    "& |\\xi\\rangle_{AC} = c_{01}|01\\rangle + c_{10}|10\\rangle,\\ |\\eta\\rangle_{C'B} = d_{00}|00\\rangle + d_{11}|11\\rangle, \\\\\n",
    "& |\\xi\\rangle_{AC} = c_{01}|01\\rangle + c_{10}|10\\rangle,\\ |\\eta\\rangle_{C'B} = d_{01}|01\\rangle + d_{10}|10\\rangle.\n",
    "\\end{align}"
   ]
  },
  {
   "cell_type": "markdown",
   "id": "af07c773",
   "metadata": {},
   "source": [
    "Para um estado de 2 qubits do tipo\n",
    "$$|\\psi\\rangle_{AB} = c_{00}|00\\rangle + c_{11}|11\\rangle$$\n",
    "os estados reduzidos são\n",
    "$$\\psi_A = \\psi_B = |c_{00}|^2|0\\rangle\\langle 0| + |c_{11}|^2|1\\rangle\\langle 1|.$$\n",
    "\n",
    "Para estados do tipo\n",
    "$$|\\psi\\rangle_{AB} = c_{01}|01\\rangle + c_{10}|10\\rangle$$\n",
    "os estados reduzidos são\n",
    "$$\\psi_A = |c_{01}|^2|0\\rangle\\langle 0| + |c_{10}|^2|1\\rangle\\langle 1| \\text{ e } \\psi_B = |c_{10}|^2|0\\rangle\\langle 0| + |c_{01}|^2|1\\rangle\\langle 1|.$$"
   ]
  },
  {
   "cell_type": "markdown",
   "id": "1091712d",
   "metadata": {},
   "source": [
    "#### $C = 0,\\ P\\ne 0$, mesmo hemisfério\n",
    "\\begin{align}\n",
    "E_{con}(\\hat{\\phi}_+) & = E_{con}(\\hat{\\phi}_-) = \\frac{E_{con}(\\xi_{AC})E_{con}(\\eta_{C'B})}{1 + P(\\xi^C)P(\\eta^{C'})}, \\\\\n",
    "E_{con}(\\hat{\\psi}_+) & = E_{con}(\\hat{\\psi}_-) = \\frac{E_{con}(\\xi_{AC})E_{con}(\\eta_{C'B})}{1 - P(\\xi^C)P(\\eta^{C'})}.\n",
    "\\end{align}"
   ]
  },
  {
   "cell_type": "markdown",
   "id": "077b3418",
   "metadata": {},
   "source": [
    "Em (https://arxiv.org/abs/2203.01281) consideramos estados do tipo\n",
    "\\begin{align}\n",
    "& |\\xi\\rangle_{AC} = \\sqrt{p}|00\\rangle + \\sqrt{1-p}|11\\rangle = \\sqrt{\\xi_{00}^C}|00\\rangle + \\sqrt{\\xi_{11}^C}|11\\rangle, \\\\\n",
    "& |\\eta\\rangle_{C'B} = \\sqrt{q}|00\\rangle + \\sqrt{1-q}|11\\rangle = \\sqrt{\\eta_{00}^C}|00\\rangle + \\sqrt{\\eta_{11}^C}|11\\rangle.\n",
    "\\end{align}\n",
    "Neste caso\n",
    "\\begin{align}\n",
    "& P(\\xi^C) = \\big|\\xi_{00}^C-\\xi_{11}^C\\big| = |p-(1-p)\\big| = |2p-1|, \\\\\n",
    "& P(\\eta^{C'}) = \\big|\\eta_{00}^C-\\eta_{11}^C\\big| = |q-(1-q)\\big| = |2q-1|\n",
    "\\end{align}\n",
    "e\n",
    "\\begin{align}\n",
    "E_{conc}(\\xi_{AC}) & = 2\\big|\\sqrt{p(1-p)}\\big| = 2\\sqrt{p(1-p)}, \\\\\n",
    "E_{conc}(\\eta_{C'B}) & = 2\\big|\\sqrt{q(1-q)}\\big| = 2\\sqrt{q(1-q)}.\n",
    "\\end{align}"
   ]
  },
  {
   "cell_type": "markdown",
   "id": "6642fe05",
   "metadata": {},
   "source": [
    "Para os estados de (https://arxiv.org/abs/2203.01281), essa condição corresponde a\n",
    "$$p,q>1/2 \\text{ ou } p,q<1/2.$$\n",
    "Nesse  caso teremos\n",
    "\\begin{align}\n",
    "E_{con}(\\hat{\\phi}_+) & = E_{con}(\\hat{\\phi}_-) = \\frac{4\\sqrt{p(1-p)q(1-q)}}{1 + |2p-1||2q-1|}, \\\\\n",
    "E_{con}(\\hat{\\psi}_+) & = E_{con}(\\hat{\\psi}_-) = \\frac{4\\sqrt{p(1-p)q(1-q)}}{1 - |2p-1||2q-1|}.\n",
    "\\end{align}\n",
    "Não é difícil verificar que tanto para $p,q>1/2$ ($|2p-1|=2p-1,\\ |2q-1|=2q-1$) quanto para $p,q<1/2$ ($|2p-1|=-2p+1,\\ |2q-1|=-2q+1$) recuperamos os resultados obtidos em (https://arxiv.org/abs/2203.01281):\n",
    "\\begin{align}\n",
    "E_{con}(\\hat{\\phi}_+) & = E_{con}(\\hat{\\phi}_-) = \\frac{2\\sqrt{p(1-p)q(1-q)}}{pq+(1-p)(1-q)}, \\\\\n",
    "E_{con}(\\hat{\\psi}_+) & = E_{con}(\\hat{\\psi}_-) = \\frac{2\\sqrt{p(1-p)q(1-q)}}{p(1-q)+(1-p)q}.\n",
    "\\end{align}"
   ]
  },
  {
   "cell_type": "markdown",
   "id": "1e41e304",
   "metadata": {},
   "source": [
    "#### $C = 0,\\ P\\ne 0$, hemisférios diferentes\n",
    "\\begin{align}\n",
    "E_{con}(\\hat{\\phi}_+) & = E_{con}(\\hat{\\phi}_-) = \\frac{E_{con}(\\xi_{AC})E_{con}(\\eta_{C'B})}{1 - P(\\xi^C)P(\\eta^{C'})}, \\\\\n",
    "E_{con}(\\hat{\\psi}_+) & = E_{con}(\\hat{\\psi}_-) = \\frac{E_{con}(\\xi_{AC})E_{con}(\\eta_{C'B})}{1 + P(\\xi^C)P(\\eta^{C'})}.\n",
    "\\end{align}"
   ]
  },
  {
   "cell_type": "markdown",
   "id": "b058069f",
   "metadata": {},
   "source": [
    "Para os estados de (https://arxiv.org/abs/2203.01281), para\n",
    "$$p>1/2,q<1/2$$ pode-se verificar que\n",
    "Nesse  caso teremos\n",
    "\\begin{align}\n",
    "E_{con}(\\hat{\\phi}_+) & = E_{con}(\\hat{\\phi}_-) = \\frac{4\\sqrt{p(1-p)q(1-q)}}{1 - |2p-1||2q-1|} = \\frac{4\\sqrt{p(1-p)q(1-q)}}{1 - (2p-1)(1-2q)} \\\\\n",
    "& = \\frac{2\\sqrt{p(1-p)q(1-q)}}{pq+(1-p)(1-q)}, \\\\\n",
    "E_{con}(\\hat{\\psi}_+) & = E_{con}(\\hat{\\psi}_-) = \\frac{4\\sqrt{p(1-p)q(1-q)}}{1 + |2p-1||2q-1|} = \\frac{4\\sqrt{p(1-p)q(1-q)}}{1 + (2p-1)(1-2q)} \\\\\n",
    "& = \\frac{2\\sqrt{p(1-p)q(1-q)}}{p(1-q)+(1-p)q}.\n",
    "\\end{align}"
   ]
  },
  {
   "cell_type": "markdown",
   "id": "5521704f",
   "metadata": {},
   "source": [
    "Já para\n",
    "$$p<1/2,q>1/2$$ pode-se verificar que\n",
    "\\begin{align}\n",
    "E_{con}(\\hat{\\phi}_+) & = E_{con}(\\hat{\\phi}_-) = \\frac{4\\sqrt{p(1-p)q(1-q)}}{1 - |2p-1||2q-1|} = \\frac{4\\sqrt{p(1-p)q(1-q)}}{1 - (1-2p)(2q-1)} \\\\\n",
    "& = \\frac{2\\sqrt{p(1-p)q(1-q)}}{pq+(1-p)(1-q)}, \\\\\n",
    "E_{con}(\\hat{\\psi}_+) & = E_{con}(\\hat{\\psi}_-) = \\frac{4\\sqrt{p(1-p)q(1-q)}}{1 + |2p-1||2q-1|} = \\frac{4\\sqrt{p(1-p)q(1-q)}}{1 + (1-2p)(2q-1)} \\\\\n",
    "& = \\frac{2\\sqrt{p(1-p)q(1-q)}}{p(1-q)+(1-p)q}.\n",
    "\\end{align}\n",
    "Por conseguinte, em todos esses casos particulares, as expressões para o emaranhamento coincidem com aquelas obtidas em (https://arxiv.org/abs/2203.01281)."
   ]
  },
  {
   "cell_type": "markdown",
   "id": "e8452551",
   "metadata": {},
   "source": [
    "#### $C\\ne0,\\ P=0$\n",
    "\n",
    "Considera\n",
    "\\begin{align}\n",
    "& |\\xi\\rangle_{AC}=\\sqrt{p}|++\\rangle_{AC}+\\sqrt{1-p}|--\\rangle_{AC}, \\\\ \n",
    "& |\\eta\\rangle_{C'B}=\\sqrt{q}|++\\rangle_{C'B}+\\sqrt{1-q}|--\\rangle_{C'B}.\n",
    "\\end{align}\n",
    "Estados reduzidos\n",
    "\\begin{align}\n",
    "& \\xi_A = \\xi_C = p|+\\rangle\\langle +|+(1-p)|-\\rangle\\langle -| = \\frac{1}{2}\\begin{bmatrix}1&2p-1\\\\2p-1&1\\end{bmatrix}, \\\\\n",
    "& \\eta_{C'} = \\eta_B = q|+\\rangle\\langle +|+(1-q)|-\\rangle\\langle -| = \\frac{1}{2}\\begin{bmatrix}1&2q-1\\\\2q-1&1\\end{bmatrix}, \\\\\n",
    "\\end{align}"
   ]
  },
  {
   "cell_type": "markdown",
   "id": "51b06fdd",
   "metadata": {},
   "source": [
    "Teremos assim que\n",
    "\\begin{align}\n",
    "& P(\\xi_A) = P(\\xi_C) = P(\\eta_{C'}) = P(\\eta_B) = 0, \\\\\n",
    "& C(\\xi_A) = C(\\xi_C) = |2p-1|, \\\\\n",
    "& C(\\eta_{C'}) = C(\\eta_B) = |2q-1|.\n",
    "\\end{align}\n",
    "\n",
    "Neste caso, os emaranhamentos pós-medida podem ser escritos como\n",
    "\\begin{align}\n",
    "E(\\hat{\\phi}_+) = E(\\hat{\\psi}_+) & = \\frac{E_{con}(\\xi_{AC})E_{con}(\\eta_{C'B})}{1+C_{l_1}(\\xi_C)C_{l_1}(\\eta_{C'})} = \\frac{2\\sqrt{p(1-p)q(1-q)}}{1+|(2p-1)(2q-1)|}, \\\\\n",
    "E(\\hat{\\phi}_-) = E(\\hat{\\psi}_-) & = \\frac{E_{con}(\\xi_{AC})E_{con}(\\eta_{C'B})}{1-C_{l_1}(\\xi_C)C_{l_1}(\\eta_{C'})} = \\frac{2\\sqrt{p(1-p)q(1-q)}}{1-|(2p-1)(2q-1)|}.\n",
    "\\end{align}"
   ]
  },
  {
   "cell_type": "markdown",
   "id": "970ebb7e",
   "metadata": {},
   "source": [
    "Usando\n",
    "\\begin{align}\n",
    "& H\\otimes H|\\Phi_+\\rangle = |\\Phi_+\\rangle, \\\\\n",
    "& H\\otimes H|\\Phi_-\\rangle = |\\Psi_+\\rangle, \\\\\n",
    "& H\\otimes H|\\Psi_+\\rangle = |\\Phi_-\\rangle, \\\\\n",
    "& H\\otimes H|\\Psi_-\\rangle = -|\\Psi_-\\rangle, \\\\\n",
    "\\end{align}\n",
    "vemos que neste caso o estado total pode ser escrito como\n",
    "\\begin{align}\n",
    "|\\xi\\rangle_{AB}\\otimes|\\eta\\rangle_{CD} & = |\\Phi_{+}\\rangle_{BC}\\frac{1}{\\sqrt{2}}\\big(\\sqrt{pq}|++\\rangle_{AD}+\\sqrt{(1-p)(1-q)}|--\\rangle_{AD}\\big) \\\\\n",
    "& + |\\Psi_+\\rangle_{BC}\\frac{1}{\\sqrt{2}}\\big(\\sqrt{pq}|++\\rangle_{AD}-\\sqrt{(1-p)(1-q)}|--\\rangle_{AD}\\big) \\\\\n",
    "& \\hspace{0.5cm} + |\\Phi_-\\rangle_{BC}\\frac{1}{\\sqrt{2}}\\big(\\sqrt{p(1-q)}|+-\\rangle_{AD}+\\sqrt{(1-p)q}|-+\\rangle_{AD}\\big) \\\\\n",
    "& - |\\Psi_{-}\\rangle_{BC}\\frac{1}{\\sqrt{2}}\\big(\\sqrt{p(1-q)}|+-\\rangle_{AD}-\\sqrt{(1-p)q}|-+\\rangle_{AD}\\big).\n",
    "\\end{align}"
   ]
  },
  {
   "cell_type": "markdown",
   "id": "28bf7a60",
   "metadata": {},
   "source": [
    "Analogamente ao caso em que consideramos $C=0,P\\ne0$, aqui teremos os estados ótimos\n",
    "* $p=1-q$\n",
    "\\begin{align}\n",
    "|\\xi\\rangle_{AB}\\otimes|\\eta\\rangle_{CD} & = \\sqrt{(1-q)q}|\\Phi_{+}\\rangle_{BC}|\\Phi_{+}\\rangle_{AD} + \\sqrt{(1-q)q}|\\Psi_+\\rangle_{BC}|\\Psi_+\\rangle_{AD} \\\\\n",
    "& \\hspace{0.5cm} + |\\Phi_-\\rangle_{BC}\\frac{1}{\\sqrt{2}}\\big(\\sqrt{(1-q)^{2}}|+-\\rangle_{AD}+\\sqrt{q^{2}}|-+\\rangle_{AD}\\big) \\\\\n",
    "& - |\\Psi_{-}\\rangle_{BC}\\frac{1}{\\sqrt{2}}\\big(\\sqrt{(1-q)^{2}}|+-\\rangle_{AD}-\\sqrt{q^{2}}|-+\\rangle_{AD}\\big)\n",
    "\\end{align}\n",
    "e \n",
    "* $p=q$\n",
    "\\begin{align}\n",
    "|\\xi\\rangle_{AB}\\otimes|\\eta\\rangle_{CD} &= |\\Phi_{+}\\rangle_{BC}\\frac{1}{\\sqrt{2}}\\big(\\sqrt{q^{2}}|++\\rangle_{AD}+\\sqrt{(1-q)^{2}}|--\\rangle_{AD}\\big) \\\\\n",
    "& +  |\\Psi_+\\rangle_{BC}\\frac{1}{\\sqrt{2}}\\big(\\sqrt{q^{2}}|++\\rangle_{AD}-\\sqrt{(1-q)^{2}}|--\\rangle_{AD}\\big) \\\\\n",
    "& \\hspace{0.5cm} + \\frac{\\sqrt{q(1-q)}}{\\sqrt{2}}|\\Phi_-\\rangle_{BC}|\\Phi_-\\rangle_{AD} + \\frac{\\sqrt{q(1-q)}}{\\sqrt{2}}|\\Psi_{-}\\rangle_{BC}|\\Psi_{-}\\rangle_{AD}\n",
    "\\end{align}"
   ]
  },
  {
   "cell_type": "markdown",
   "id": "b29edce3",
   "metadata": {},
   "source": [
    "Normalization\n",
    "\\begin{align}\n",
    "2q(1-q) + (1-q)^2+q^2 = 2q-2q^2+1-2q+q^2+q^2 = 1. \\ ok\n",
    "\\end{align}\n",
    "\n",
    "Probabilidade\n",
    "\\begin{align}\n",
    "Pr(\\Phi_-)+Pr(\\Psi_-) = (1-q)^2+q^2 = 1 - 2q +q^2 +q^2 = 1-2q+2q^2\n",
    "\\end{align}\n",
    "\n",
    "Para $p=1-q$ teremos\n",
    "\\begin{align}\n",
    "1-Pr(\\Phi_+)-Pr(\\Psi_+) & = 1-2q(1-q) = 1-2q+2q^{2}, \\ ok\n",
    "\\end{align}"
   ]
  },
  {
   "cell_type": "code",
   "execution_count": 25,
   "id": "eccfcd12",
   "metadata": {},
   "outputs": [],
   "source": [
    "%run init.ipynb"
   ]
  },
  {
   "cell_type": "code",
   "execution_count": 17,
   "id": "f58b88ab",
   "metadata": {},
   "outputs": [],
   "source": [
    "def pTraceL_num(dl, dr, rhoLR):\n",
    "    rhoR = np.zeros((dr, dr), dtype=complex)\n",
    "    for j in range(0, dr):\n",
    "        for k in range(j, dr):\n",
    "            for l in range(0, dl):\n",
    "                rhoR[j,k] += rhoLR[l*dr+j,l*dr+k]\n",
    "            if j != k:\n",
    "                rhoR[k,j] = np.conj(rhoR[j,k])\n",
    "    return rhoR\n",
    "def pTraceR_num(dl, dr, rhoLR):\n",
    "    rhoL = np.zeros((dl, dl), dtype=complex)\n",
    "    for j in range(0, dl):\n",
    "        for k in range(j, dl):\n",
    "            for l in range(0, dr):\n",
    "                rhoL[j,k] += rhoLR[j*dr+l,k*dr+l]\n",
    "        if j != k:\n",
    "            rhoL[k,j] = np.conj(rhoL[j,k])\n",
    "    return rhoL"
   ]
  },
  {
   "cell_type": "code",
   "execution_count": 18,
   "id": "450db99a",
   "metadata": {},
   "outputs": [],
   "source": [
    "def coh_l1(rho):\n",
    "    d = rho.shape[0]; C = 0\n",
    "    for j in range(0,d-1):\n",
    "        for k in range(j+1,d):\n",
    "            C += np.abs(rho[j,k])\n",
    "    return 2*C"
   ]
  },
  {
   "cell_type": "code",
   "execution_count": 76,
   "id": "371368ed",
   "metadata": {},
   "outputs": [],
   "source": [
    "def Econc(rho):\n",
    "    s2 = np.array([[0,-1j],[1j,0]])\n",
    "    R = rho@np.kron(s2,s2)@np.matrix.conjugate(rho)@np.kron(s2,s2)\n",
    "    ev = lapak.zheevd(R)\n",
    "    evm = max(abs(ev[0][0]), abs(ev[0][1]), abs(ev[0][2]), abs(ev[0][3]))\n",
    "    Ec = 2*math.sqrt(abs(evm)) - math.sqrt(abs(ev[0][0])) - math.sqrt(abs(ev[0][1]))\\\n",
    "    - math.sqrt(abs(ev[0][2])) - math.sqrt(abs(ev[0][3]))\n",
    "    if Ec < 0.0:\n",
    "        Ec = 0.0\n",
    "    return Ec"
   ]
  },
  {
   "cell_type": "code",
   "execution_count": 92,
   "id": "5d7ffe70",
   "metadata": {},
   "outputs": [],
   "source": [
    "def concurrence_psi(rho):\n",
    "    rho_r = pTraceL_num(2,2,rho)\n",
    "    return math.sqrt(2*abs(1-np.matrix.trace(rho_r@rho_r)))"
   ]
  },
  {
   "cell_type": "code",
   "execution_count": 59,
   "id": "d7d3ee87",
   "metadata": {},
   "outputs": [],
   "source": [
    "def predict_jb(rho):\n",
    "    return abs(rho[0,0]-rho[1,1])"
   ]
  },
  {
   "cell_type": "code",
   "execution_count": 1,
   "id": "9ed277cf",
   "metadata": {},
   "outputs": [],
   "source": [
    "%run init.ipynb"
   ]
  },
  {
   "cell_type": "code",
   "execution_count": 111,
   "id": "88b95aaa",
   "metadata": {},
   "outputs": [
    {
     "name": "stderr",
     "output_type": "stream",
     "text": [
      "ibmqfactory.load_account:WARNING:2022-11-06 15:10:29,861: Credentials are already in use. The existing account in the session will be replaced.\n"
     ]
    }
   ],
   "source": [
    "import qiskit\n",
    "from qiskit import *\n",
    "nshots = 8192\n",
    "IBMQ.load_account()\n",
    "provider= qiskit.IBMQ.get_provider(hub='ibm-q-research-2',group='federal-uni-sant-1',project='main')\n",
    "device = provider.get_backend('ibmq_lima')\n",
    "simulator = Aer.get_backend('qasm_simulator')\n",
    "from qiskit.tools.monitor import job_monitor\n",
    "from qiskit.ignis.verification.tomography import state_tomography_circuits, StateTomographyFitter\n",
    "import scipy.linalg.lapack as lapak"
   ]
  },
  {
   "cell_type": "code",
   "execution_count": 119,
   "id": "a545e4f9",
   "metadata": {},
   "outputs": [
    {
     "name": "stdout",
     "output_type": "stream",
     "text": [
      "6368049443e1f0708afdaf73\n",
      "Job Status: job has successfully run\n",
      "6368067bf2ca6a7ab2874c7e\n",
      "Job Status: job has successfully run\n",
      "63680873526e3c848e853f7c\n",
      "Job Status: job has successfully run\n",
      "63680a4f9304fe218b50d7cf\n",
      "Job Status: job has successfully run\n",
      "63680c387a88f2da5294ca7e\n",
      "Job Status: job has successfully run\n",
      "63680e16f2ca6ac502874c9a\n",
      "Job Status: job has successfully run\n",
      "63680ff29304fe8bb150d7e2\n",
      "Job Status: job has successfully run\n",
      "636811cc6d53b91475a525d5\n",
      "Job Status: job has successfully run\n",
      "636815256d53b905cda525e8\n",
      "Job Status: job has successfully run\n",
      "63681f3a3f04f43fa1f033aa\n",
      "Job Status: job has successfully run\n",
      "63682a01526e3c42af853ffc\n",
      "Job Status: job has successfully run\n"
     ]
    }
   ],
   "source": [
    "q_exp = np.arange(0,1.1,0.1); N = len(q_exp)\n",
    "th_xi = np.zeros(N); th_xi = 2*np.arccos(np.sqrt(1-q_exp))\n",
    "th_eta = np.zeros(N); th_eta = 2*np.arccos(np.sqrt(q_exp))\n",
    "E_exp_10 = np.zeros(N); E_sim_10 = np.zeros(N)#; E_exp_43 = np.zeros(N); E_sim_43 = np.zeros(N)\n",
    "C_exp_0 = np.zeros(N); C_sim_0 = np.zeros(N)\n",
    "P_exp_0 = np.zeros(N); P_sim_0 = np.zeros(N)\n",
    "jobs_ids = []\n",
    "\n",
    "for j in range(0,N):\n",
    "    qr = QuantumRegister(5); qc = QuantumCircuit(qr)\n",
    "    # prepara xi\n",
    "    qc.u(th_xi[j],0,0,qr[0])\n",
    "    qc.cx(qr[0],qr[1])\n",
    "    qc.h([qr[0],qr[1]])\n",
    "    # prepara eta\n",
    "    qc.u(th_eta[j],0,0,qr[3])\n",
    "    qc.cx(qr[3],qr[4])\n",
    "    qc.h([qr[3],qr[4]])\n",
    "    # tomografia\n",
    "    qstc = state_tomography_circuits(qc, [qr[0],qr[1]])\n",
    "    \n",
    "    job_sim = qiskit.execute(qstc, backend = simulator, shots=nshots)\n",
    "    qstf_sim = StateTomographyFitter(job_sim.result(), qstc)\n",
    "    rho_10_sim = qstf_sim.fit(method='lstsq'); E_sim_10[j] = concurrence_psi(rho_10_sim)#;Econc(rho_10)\n",
    "    rho_0_sim = pTraceL_num(2, 2, rho_10_sim)\n",
    "    C_sim_0[j] = coh_l1(rho_0_sim); P_sim[j] = predict_jb(rho_0_sim)\n",
    "    \n",
    "    job_exp = qiskit.execute(qstc, backend = device, shots=nshots)\n",
    "    jobs_ids.append(job_exp.job_id()); print(job_exp.job_id())\n",
    "    job_monitor(job_exp)\n",
    "    qstf_exp = StateTomographyFitter(job_exp.result(), qstc)\n",
    "    rho_10_exp = qstf_exp.fit(method='lstsq'); E_exp_10[j] = Econc(rho_10_exp)\n",
    "    rho_0_exp = pTraceL_num(2, 2, rho_10_exp)\n",
    "    C_exp_0[j] = coh_l1(rho_0_exp); P_exp[j] = predict_jb(rho_0_exp)"
   ]
  },
  {
   "cell_type": "code",
   "execution_count": 120,
   "id": "73c35cc6",
   "metadata": {},
   "outputs": [
    {
     "name": "stdout",
     "output_type": "stream",
     "text": [
      "['6368049443e1f0708afdaf73', '6368067bf2ca6a7ab2874c7e', '63680873526e3c848e853f7c', '63680a4f9304fe218b50d7cf', '63680c387a88f2da5294ca7e', '63680e16f2ca6ac502874c9a', '63680ff29304fe8bb150d7e2', '636811cc6d53b91475a525d5', '636815256d53b905cda525e8', '63681f3a3f04f43fa1f033aa', '63682a01526e3c42af853ffc']\n"
     ]
    }
   ],
   "source": [
    "print(jobs_ids)"
   ]
  },
  {
   "cell_type": "code",
   "execution_count": 121,
   "id": "cfc0a005",
   "metadata": {},
   "outputs": [],
   "source": [
    "f = open(\"jobs_ids_ES_pre_bbm.txt\", \"w\")\n",
    "f.write(str(jobs_ids))\n",
    "f.close()"
   ]
  },
  {
   "cell_type": "code",
   "execution_count": 163,
   "id": "579c8e33",
   "metadata": {},
   "outputs": [],
   "source": [
    "f = open(\"jobs_ids_ES_pre_bbm.txt\",\"r\")\n",
    "jobs_ids_list = f.read()\n",
    "f.close()"
   ]
  },
  {
   "cell_type": "code",
   "execution_count": 164,
   "id": "3dff7ba0",
   "metadata": {},
   "outputs": [
    {
     "name": "stdout",
     "output_type": "stream",
     "text": [
      "['6368049443e1f0708afdaf73', '6368067bf2ca6a7ab2874c7e', '63680873526e3c848e853f7c', '63680a4f9304fe218b50d7cf', '63680c387a88f2da5294ca7e', '63680e16f2ca6ac502874c9a', '63680ff29304fe8bb150d7e2', '636811cc6d53b91475a525d5', '636815256d53b905cda525e8', '63681f3a3f04f43fa1f033aa', '63682a01526e3c42af853ffc']\n"
     ]
    }
   ],
   "source": [
    "print(jobs_ids_list)"
   ]
  },
  {
   "cell_type": "code",
   "execution_count": 135,
   "id": "cd1dc690",
   "metadata": {},
   "outputs": [
    {
     "name": "stdout",
     "output_type": "stream",
     "text": [
      "24\n"
     ]
    }
   ],
   "source": [
    "len_ids = len('6368049443e1f0708afdaf73')\n",
    "print(len_ids)"
   ]
  },
  {
   "cell_type": "code",
   "execution_count": 170,
   "id": "c1237379",
   "metadata": {},
   "outputs": [
    {
     "name": "stdout",
     "output_type": "stream",
     "text": [
      "'6368049443e1f0708afdaf73'\n",
      "'6368067bf2ca6a7ab2874c7e'\n",
      "'63680873526e3c848e853f7c'\n",
      "'63680a4f9304fe218b50d7cf'\n",
      "'63680c387a88f2da5294ca7e'\n",
      "'63680e16f2ca6ac502874c9a'\n",
      "'63680ff29304fe8bb150d7e2'\n",
      "'636811cc6d53b91475a525d5'\n",
      "'636815256d53b905cda525e8'\n",
      "'63681f3a3f04f43fa1f033aa'\n",
      "'63682a01526e3c42af853ffc'\n"
     ]
    }
   ],
   "source": [
    "for j in range(0,N):\n",
    "    s = 0\n",
    "    if j > 0:\n",
    "        s = 2\n",
    "    print(jobs_ids_list[(j*(len_ids+2+s)+1):(j+1)*(len_ids+2)+j*s+1])"
   ]
  },
  {
   "cell_type": "code",
   "execution_count": 178,
   "id": "00182e03",
   "metadata": {},
   "outputs": [
    {
     "name": "stdout",
     "output_type": "stream",
     "text": [
      "'6368049443e1f0708afdaf73'\n",
      "0.9972734505670148\n"
     ]
    }
   ],
   "source": [
    "for j in range(0,N):\n",
    "    s = 0\n",
    "    if j > 0:\n",
    "        s = 2\n",
    "    print(str(jobs_ids_list[(j*(len_ids+2+s)+1):(j+1)*(len_ids+2)+j*s+1]))\n",
    "    #job = device.retrieve_job(str(jobs_ids_list[(j*(len_ids+2+s)+1):(j+1)*(len_ids+2)+j*s+1]))\n",
    "    job = device.retrieve_job('63680e16f2ca6ac502874c9a')\n",
    "    qstf_exp = StateTomographyFitter(job.result(), qstc)\n",
    "    rho_10_exp = qstf_exp.fit(method='lstsq'); E_exp_10[j] = concurrence_psi(rho_10_exp)\n",
    "    print(E_exp_10[j])\n",
    "    break"
   ]
  },
  {
   "cell_type": "code",
   "execution_count": 127,
   "id": "32538428",
   "metadata": {},
   "outputs": [
    {
     "data": {
      "image/png": "[encoded data removed]",
      "text/plain": [
       "<Figure size 700x500 with 1 Axes>"
      ]
     },
     "metadata": {
      "needs_background": "light"
     },
     "output_type": "display_data"
    }
   ],
   "source": [
    "import matplotlib\n",
    "matplotlib.rcParams.update({'font.size':11}); plt.figure(figsize = (7,5), dpi = 100)\n",
    "q = np.arange(0,1.01,0.01)\n",
    "Ei2 = 4*q*(1-q)\n",
    "Ci2 = (2*q-1)**2\n",
    "Pi2 = np.zeros(len(q))\n",
    "Pm = 1-2*q*(1-q)\n",
    "plt.plot(q, Ei2, '-', label=r'$E_{conc}(\\xi_{AC})^2$')\n",
    "plt.plot(q, Ci2, '--', label=r'$C_{l_1}(\\xi_C)^2$')\n",
    "plt.plot(q, Pi2, '-.', label=r'$P(\\xi_C)^2$')\n",
    "plt.plot(q, Ei2+Ci2, ':', label=r'$E_{conc}(\\xi_{AC})^{2}+C_{l_{1}}(\\xi_{C})^{2}+P(\\xi_C)^2$')\n",
    "plt.plot(q_exp, E_sim_10**2, 's', label=r'$E_{conc}(\\xi_{AC})^2_{sim}$')\n",
    "plt.plot(q_exp, C_sim_0**2, 'o', label=r'$C_{l_1}(\\xi_C)^2_{sim}$')\n",
    "plt.plot(q_exp, P_sim_0**2, 'v', label=r'$P(\\xi_C)^2_{sim}$')\n",
    "plt.plot(q_exp, E_sim_10**2+C_sim_0**2+P_sim_0**2, 'D', label=r'$E_{conc}(\\xi_{AC})^{2}_{sim}+C_{l_{1}}(\\xi_{C})^{2}_{sim}+P(\\xi_C)^2_{sim}$')\n",
    "plt.plot(q_exp, E_exp_10**2, 's', label=r'$E_{conc}(\\xi_{AC})^2_{exp}$')\n",
    "plt.plot(q_exp, C_exp_0**2, 'o', label=r'$C_{l_1}(\\xi_C)^2_{exp}$')\n",
    "plt.plot(q_exp, P_exp_0**2, '>', label=r'$P(\\xi_C)^2_{exp}$')\n",
    "#plt.plot(q_exp, E_sim_10**2+C_sim_0**2+P_sim_0**2, 'D', label=r'$E_{conc}(\\xi_{AC})^{2}_{sim}+C_{l_{1}}(\\xi_{C})^{2}_{sim}+P(\\xi_C)^2_{sim}$')\n",
    "plt.legend(bbox_to_anchor=(1.6, 1.0), loc='upper right')\n",
    "plt.xlabel(r'$q$')\n",
    "plt.show()"
   ]
  },
  {
   "cell_type": "code",
   "execution_count": 36,
   "id": "5cb6931b",
   "metadata": {},
   "outputs": [
    {
     "data": {
      "image/png": "[encoded data removed]",
      "text/plain": [
       "<Figure size 333.264x325.08 with 1 Axes>"
      ]
     },
     "execution_count": 36,
     "metadata": {},
     "output_type": "execute_result"
    }
   ],
   "source": [
    "qc.draw(output='mpl')"
   ]
  },
  {
   "cell_type": "code",
   "execution_count": null,
   "id": "c0cdb2fd",
   "metadata": {},
   "outputs": [],
   "source": [
    "# projetores para a pós-seleção\n",
    "P00 = np.array([[1,0,0,0],[0,0,0,0],[0,0,0,0],[0,0,0,0]])\n",
    "P01 = np.array([[0,0,0,0],[0,1,0,0],[0,0,0,0],[0,0,0,0]])\n",
    "P10 = np.array([[0,0,0,0],[0,0,0,0],[0,0,1,0],[0,0,0,0]])\n",
    "P11 = np.array([[0,0,0,0],[0,0,0,0],[0,0,0,0],[0,0,0,1]])\n",
    "P00+P01+P10+P11"
   ]
  },
  {
   "cell_type": "code",
   "execution_count": null,
   "id": "c2b420e0",
   "metadata": {},
   "outputs": [],
   "source": [
    "q_exp = np.arange(0,1.1,0.1); N = len(q_exp)\n",
    "th_xi = np.zeros(N); th_xi = 2*np.arccos(np.sqrt(1-q_exp))\n",
    "th_eta = np.zeros(N); th_eta = 2*np.arccos(np.sqrt(q_exp))\n",
    "E_exp_10 = np.zeros(N); E_sim_10 = np.zeros(N)#; E_exp_43 = np.zeros(N); E_sim_43 = np.zeros(N)\n",
    "C_exp_0 = np.zeros(N); C_sim_0 = np.zeros(N)\n",
    "P_exp_0 = np.zeros(N); P_sim_0 = np.zeros(N)\n",
    "jobs_ids = []\n",
    "\n",
    "for j in range(0,1):\n",
    "    qr = QuantumRegister(5); qc = QuantumCircuit(qr)\n",
    "    # prepara xi\n",
    "    qc.u(th_xi[j],0,0,qr[0])\n",
    "    qc.cx(qr[0],qr[1])\n",
    "    qc.h([qr[0],qr[1]])\n",
    "    # prepara eta\n",
    "    qc.u(th_eta[j],0,0,qr[3])\n",
    "    qc.cx(qr[3],qr[4])\n",
    "    qc.h([qr[3],qr[4]])\n",
    "    # BBM\n",
    "    qc.cx(qr[1],qr[3])\n",
    "    qc.h(qr[1])\n",
    "    # tomografia\n",
    "    qstc = state_tomography_circuits(qc, [qr[0],qr[1],qr[3],qr[4]])\n",
    "    \n",
    "    job_sim = qiskit.execute(qstc, backend = simulator, shots=nshots)\n",
    "    qstf_sim = StateTomographyFitter(job_sim.result(), qstc)\n",
    "    rho_10_sim = qstf_sim.fit(method='lstsq'); E_sim_10[j] = concurrence_psi(rho_10_sim)#;Econc(rho_10)\n",
    "    rho_0_sim = pTraceL_num(2, 2, rho_10_sim)\n",
    "    C_sim_0[j] = coh_l1(rho_0_sim); P_sim[j] = predict_jb(rho_0_sim)\n",
    "    \n",
    "    '''job_exp = qiskit.execute(qstc, backend = device, shots=nshots)\n",
    "    jobs_ids.append(job_exp.job_id()); print(job_exp.job_id())\n",
    "    job_monitor(job_exp)\n",
    "    qstf_exp = StateTomographyFitter(job_exp.result(), qstc)\n",
    "    rho_10_exp = qstf_exp.fit(method='lstsq'); E_exp_10[j] = Econc(rho_10_exp)\n",
    "    rho_0_exp = pTraceL_num(2, 2, rho_10_exp)\n",
    "    C_exp_0[j] = coh_l1(rho_0_exp); P_exp[j] = predict_jb(rho_0_exp)'''"
   ]
  },
  {
   "cell_type": "code",
   "execution_count": 11,
   "id": "40b44be6",
   "metadata": {},
   "outputs": [
    {
     "data": {
      "image/png": "[encoded data removed]",
      "text/plain": [
       "<Figure size 600x400 with 1 Axes>"
      ]
     },
     "metadata": {
      "needs_background": "light"
     },
     "output_type": "display_data"
    }
   ],
   "source": [
    "matplotlib.rcParams.update({'font.size':12}); plt.figure(figsize = (6,4), dpi = 100)\n",
    "q = np.arange(0,1.01,0.01)#; print(q)\n",
    "Ep = np.ones(len(q))\n",
    "Em = (2*q*(1-q))/(1-2*q+2*q**2)\n",
    "C2 = 1-4*q*(1-q)\n",
    "plt.plot(q, Ep, '-', label=r'$E(\\hat{\\phi}_+)=E(\\hat{\\psi}_+)$')\n",
    "plt.plot(q, Em, '--', label=r'$E(\\hat{\\phi}_-)=E(\\hat{\\psi}_-)$')\n",
    "plt.plot(q, C2, '-.', label=r'$1-2(Pr(\\hat{\\phi}_+)+Pr(\\hat{\\psi}_+))$')\n",
    "plt.xlabel('q')\n",
    "plt.legend(bbox_to_anchor=(1.8, 1.0), loc='upper right')\n",
    "plt.show()"
   ]
  },
  {
   "cell_type": "code",
   "execution_count": 45,
   "id": "deaa4376",
   "metadata": {},
   "outputs": [
    {
     "data": {
      "image/png": "[encoded data removed]",
      "text/plain": [
       "<Figure size 432x288 with 1 Axes>"
      ]
     },
     "metadata": {
      "needs_background": "light"
     },
     "output_type": "display_data"
    }
   ],
   "source": [
    "C = np.arange(0,1.1,0.1); \n",
    "E_PhiP = (1-C**2)/(1+C**2)\n",
    "E_PhiM = np.ones(len(C))\n",
    "plt.plot(C, E_PhiP, '*'); plt.plot(C, E_PhiM, '.')\n",
    "plt.show()"
   ]
  },
  {
   "cell_type": "code",
   "execution_count": null,
   "id": "e9f1dbcf",
   "metadata": {},
   "outputs": [],
   "source": []
  },
  {
   "cell_type": "code",
   "execution_count": 46,
   "id": "48afb41e",
   "metadata": {},
   "outputs": [],
   "source": [
    "from qiskit import *"
   ]
  },
  {
   "cell_type": "code",
   "execution_count": null,
   "id": "18776916",
   "metadata": {},
   "outputs": [],
   "source": [
    "qr = QuantumRegister(4); "
   ]
  },
  {
   "cell_type": "code",
   "execution_count": null,
   "id": "4f8b6c97",
   "metadata": {},
   "outputs": [],
   "source": []
  },
  {
   "cell_type": "markdown",
   "id": "47153a6c",
   "metadata": {},
   "source": [
    "## Estudo a partir do estado total pós-medida\n",
    "\n",
    "No entanto, não é simples entender o papel da coerência local inicial, nem das probabilidade dos diferentes estados de Bell, a partir dessas expressões. Seguindo com nossa busca pelo entendimento, vamos reescrever os estados pós-medida em termos da base de Bell:\n",
    "\\begin{align}\n",
    "& |\\phi_+\\rangle_{AB} = 2^{-1}\\big((c_{00}d_{00}+c_{01}d_{10})\\big(|\\Phi_+\\rangle + |\\Phi_-\\rangle\\big) + (c_{00}d_{01}+c_{01}d_{11})\\big(|\\Psi_+\\rangle + |\\Psi_-\\rangle\\big) \\\\\n",
    "& \\hspace{3cm} + (c_{10}d_{00}+c_{11}d_{10})\\big(|\\Psi_+\\rangle - |\\Psi_-\\rangle\\big) + (c_{10}d_{01}+c_{11}d_{11})\\big(|\\Phi_+\\rangle - |\\Phi_-\\rangle\\big)\\big) \\\\\n",
    "& \\hspace{1.4cm} = 2^{-1}\\big((c_{00}d_{00}+c_{01}d_{10}+c_{10}d_{01}+c_{11}d_{11})|\\Phi_+\\rangle + (c_{00}d_{01}+c_{01}d_{11}+c_{10}d_{00}+c_{11}d_{10})|\\Psi_+\\rangle \\\\\n",
    "& \\hspace{3cm} + (c_{00}d_{01}+c_{01}d_{11}-c_{10}d_{00}-c_{11}d_{10})|\\Psi_-\\rangle + (c_{00}d_{00}+c_{01}d_{10}-c_{10}d_{01}-c_{11}d_{11})|\\Phi_-\\rangle\\big),\n",
    "\\end{align}\n",
    "\\begin{align}\n",
    "& |\\phi_-\\rangle_{AB} = 2^{-1}\\big((c_{00}d_{00}-c_{01}d_{10})\\big(|\\Phi_+\\rangle + |\\Phi_-\\rangle\\big) + (c_{00}d_{01}-c_{01}d_{11})\\big(|\\Psi_+\\rangle + |\\Psi_-\\rangle\\big) \\\\\n",
    "& \\hspace{3cm} + (c_{10}d_{00}-c_{11}d_{10})\\big(|\\Psi_+\\rangle - |\\Psi_-\\rangle\\big) + (c_{10}d_{01}-c_{11}d_{11})\\big(|\\Phi_+\\rangle - |\\Phi_-\\rangle\\big)\\big) \\\\\n",
    "& \\hspace{1.4cm} = 2^{-1}\\big((c_{00}d_{00}-c_{01}d_{10}+c_{10}d_{01}-c_{11}d_{11})|\\Phi_+\\rangle + (c_{00}d_{01}-c_{01}d_{11}+c_{10}d_{00}-c_{11}d_{10})|\\Psi_+\\rangle \\\\\n",
    "& \\hspace{3cm} + (c_{00}d_{01}-c_{01}d_{11}-c_{10}d_{00}+c_{11}d_{10})|\\Psi_-\\rangle + (c_{00}d_{00}-c_{01}d_{10}-c_{10}d_{01}+c_{11}d_{11})|\\Phi_-\\rangle\\big), \\\\\n",
    "\\end{align}\n",
    "\\begin{align}\n",
    "& |\\psi_+\\rangle_{AB} = 2^{-1}\\big((c_{00}d_{10}+c_{01}d_{00})\\big(|\\Phi_+\\rangle + |\\Phi_-\\rangle\\big) + (c_{00}d_{11}+c_{01}d_{01})\\big(|\\Psi_+\\rangle + |\\Psi_-\\rangle\\big) \\\\\n",
    "& \\hspace{3cm} + (c_{10}d_{10}+c_{11}d_{00})\\big(|\\Psi_+\\rangle - |\\Psi_-\\rangle\\big) + (c_{10}d_{11}+c_{11}d_{01})\\big(|\\Phi_+\\rangle - |\\Phi_-\\rangle\\big)\\big) \\\\\n",
    "& \\hspace{1.4cm} = 2^{-1}\\big((c_{00}d_{10}+c_{01}d_{00}+c_{10}d_{11}+c_{11}d_{01})|\\Phi_+\\rangle + (c_{00}d_{11}+c_{01}d_{01}+c_{10}d_{10}+c_{11}d_{00})|\\Psi_+\\rangle \\\\\n",
    "& \\hspace{3cm} + (c_{00}d_{11}+c_{01}d_{01}-c_{10}d_{10}-c_{11}d_{00})|\\Psi_-\\rangle + (c_{00}d_{10}+c_{01}d_{00}-c_{10}d_{11}-c_{11}d_{01})|\\Phi_-\\rangle\\big), \\\\\n",
    "\\end{align}\n",
    "\\begin{align}\n",
    "& |\\psi_-\\rangle_{AB} = 2^{-1}\\big((c_{00}d_{10}-c_{01}d_{00})\\big(|\\Phi_+\\rangle + |\\Phi_-\\rangle\\big) + (c_{00}d_{11}-c_{01}d_{01})\\big(|\\Psi_+\\rangle + |\\Psi_-\\rangle\\big) \\\\\n",
    "& \\hspace{3cm} + (c_{10}d_{10}-c_{11}d_{00})\\big(|\\Psi_+\\rangle - |\\Psi_-\\rangle\\big) + (c_{10}d_{11}-c_{11}d_{01})\\big(|\\Phi_+\\rangle - |\\Phi_-\\rangle\\big)\\big)\\big) \\\\\n",
    "& \\hspace{1.4cm} = 2^{-1}\\big((c_{00}d_{10}-c_{01}d_{00}+c_{10}d_{11}-c_{11}d_{01})|\\Phi_+\\rangle + (c_{00}d_{11}-c_{01}d_{01}+c_{10}d_{10}-c_{11}d_{00})|\\Psi_+\\rangle \\\\\n",
    "& \\hspace{3cm} + (c_{00}d_{11}-c_{01}d_{01}-c_{10}d_{10}+c_{11}d_{00})|\\Psi_-\\rangle + (c_{00}d_{10}-c_{01}d_{00}-c_{10}d_{11}+c_{11}d_{01})|\\Phi_-\\rangle\\big).\n",
    "\\end{align}"
   ]
  },
  {
   "cell_type": "markdown",
   "id": "99df3880",
   "metadata": {},
   "source": [
    "Claro, estas equações contêm tanto o caso no qual iniciamos com dois pares maximamente emaranhandos ou parcialmente emaranhados, que já analisamos anteriormente. Vamos verificar isso. \n",
    "\n",
    "* Começamos pelo caso em que os estados iniciais são __maximamente emaranhados__ (preditibilidade e coerência local nula):\n",
    "$$c_{00}=c_{11}=2^{-1/2},\\ c_{01}=c_{10}=0,\\ d_{00}=d_{11}=2^{-1/2} \\text{ e }d_{01}=d_{10}=0.$$\n",
    "Teremos assim que\n",
    "\\begin{align}\n",
    "& |\\phi_+\\rangle_{AB} = 2^{-1}\\big((2^{-1/2}2^{-1/2}+0\\cdot0+0\\cdot0+2^{-1/2}2^{-1/2})|\\Phi_+\\rangle + (2^{-1/2}0+02^{-1/2}+02^{-1/2}+2^{-1/2}0)|\\Psi_+\\rangle \\\\\n",
    "& \\hspace{3cm} + (2^{-1/2}0+02^{-1/2}-02^{-1/2}-2^{-1/2}0)|\\Psi_-\\rangle + (2^{-1/2}2^{-1/2}+0\\cdot0-0\\cdot0-2^{-1/2}2^{-1/2})|\\Phi_-\\rangle\\big) \\\\\n",
    "& \\hspace{1.4cm} = 2^{-1}|\\Phi_+\\rangle,\n",
    "\\end{align}\n",
    "\\begin{align}\n",
    "& |\\phi_-\\rangle_{AB} = 2^{-1}\\big((2^{-1/2}2^{-1/2}-0\\cdot0+0\\cdot0-2^{-1/2}2^{-1/2})|\\Phi_+\\rangle + (2^{-1/2}0-02^{-1/2}+02^{-1/2}-2^{-1/2}0)|\\Psi_+\\rangle \\\\\n",
    "& \\hspace{3cm} + (2^{-1/2}0-02^{-1/2}-02^{-1/2}+2^{-1/2}0)|\\Psi_-\\rangle + (2^{-1/2}2^{-1/2}-0\\cdot0-0\\cdot0+2^{-1/2}2^{-1/2})|\\Phi_-\\rangle\\big), \\\\\n",
    "& \\hspace{1.4cm} = 2^{-1}|\\Phi_-\\rangle,\n",
    "\\end{align}\n",
    "\\begin{align}\n",
    "& |\\psi_+\\rangle_{AB} = 2^{-1}\\big((2^{-1/2}0+02^{-1/2}+02^{-1/2}+2^{-1/2}0)|\\Phi_+\\rangle + (2^{-1/2}2^{-1/2}+0\\cdot0+0\\cdot0+2^{-1/2}2^{-1/2})|\\Psi_+\\rangle \\\\\n",
    "& \\hspace{3cm} + (2^{-1/2}2^{-1/2}+0\\cdot0-0\\cdot0-2^{-1/2}2^{-1/2})|\\Psi_-\\rangle + (2^{-1/2}0+02^{-1/2}-02^{-1/2}-2^{-1/2}0)|\\Phi_-\\rangle\\big), \\\\\n",
    "& \\hspace{1.4cm} = 2^{-1}|\\Psi_+\\rangle,\n",
    "\\end{align}\n",
    "\\begin{align}\n",
    "& |\\psi_-\\rangle_{AB} = 2^{-1}\\big((2^{-1/2}0-02^{-1/2}+02^{-1/2}-2^{-1/2}0)|\\Phi_+\\rangle + (2^{-1/2}2^{-1/2}-0\\cdot0+0\\cdot0-2^{-1/2}2^{-1/2})|\\Psi_+\\rangle \\\\\n",
    "& \\hspace{3cm} + (2^{-1/2}2^{-1/2}-00-00+2^{-1/2}2^{-1/2})|\\Psi_-\\rangle + (2^{-1/2}0-02^{-1/2}-02^{-1/2}+2^{-1/2}0)|\\Phi_-\\rangle\\big) \\\\\n",
    "& \\hspace{1.4cm} = 2^{-1}|\\Psi_-\\rangle.\n",
    "\\end{align}"
   ]
  },
  {
   "cell_type": "markdown",
   "id": "66176be1",
   "metadata": {},
   "source": [
    "* Consideremos agora o caso de estados iniciais parcialmente emaranhados com __preditibilidade local não nula__ (coerência local nula):\n",
    "$$c_{00}=\\sqrt{p},\\ c_{11}=\\sqrt{1-p},\\ c_{01}=c_{10}=0,\\ d_{00}=\\sqrt{q},\\ d_{11}=\\sqrt{1-q},\\ d_{01}=d_{10}=0.$$\n",
    "Neste caso teremos\n",
    "\\begin{align}\n",
    "& |\\phi_+\\rangle_{AB} = 2^{-1}\\big((\\sqrt{p}\\sqrt{q}+00+00+\\sqrt{1-p}\\sqrt{1-q})|\\Phi_+\\rangle + (\\sqrt{p}0+0\\sqrt{1-q}+0\\sqrt{p}+\\sqrt{1-p}0)|\\Psi_+\\rangle \\\\\n",
    "& \\hspace{3cm} + (\\sqrt{p}0+0\\sqrt{1-q}-0\\sqrt{q}-\\sqrt{1-p}0)|\\Psi_-\\rangle + (\\sqrt{p}\\sqrt{q}+00-00-\\sqrt{1-p}\\sqrt{1-q})|\\Phi_-\\rangle\\big) \\\\\n",
    "& \\hspace{1.4cm} = 2^{-1}\\big((\\sqrt{pq}+\\sqrt{(1-p)(1-q)})|\\Phi_+\\rangle + (\\sqrt{pq}-\\sqrt{(1-p)(1-q)})|\\Phi_-\\rangle\\big) \\\\\n",
    "& \\hspace{1.4cm} = 2^{-1/2}\\big(\\sqrt{pq}|00\\rangle + \\sqrt{(1-p)(1-q)}|11\\rangle\\big),\n",
    "\\end{align}\n",
    "\\begin{align}\n",
    "& |\\phi_-\\rangle_{AB} = 2^{-1}\\big((\\sqrt{p}\\sqrt{q}-00+00-\\sqrt{1-p}\\sqrt{1-q})|\\Phi_+\\rangle + (\\sqrt{p}0-0\\sqrt{1}+0\\sqrt{q}-\\sqrt{1-p}0)|\\Psi_+\\rangle \\\\\n",
    "& \\hspace{3cm} + (\\sqrt{p}0-0\\sqrt{1-q}-0\\sqrt{q}+\\sqrt{1-p}0)|\\Psi_-\\rangle + (\\sqrt{p}\\sqrt{q}-00-00+\\sqrt{1-p}\\sqrt{1-q})|\\Phi_-\\rangle\\big) \\\\\n",
    "& \\hspace{1.4cm} = 2^{-1}\\big((\\sqrt{pq}-\\sqrt{(1-p)(1-q)})|\\Phi_+\\rangle + (\\sqrt{pq}+\\sqrt{(1-p)(1-q)})|\\Phi_-\\rangle\\big), \\\\\n",
    "& \\hspace{1.4cm} = 2^{-1/2}\\big(\\sqrt{pq}|00\\rangle - \\sqrt{(1-p)(1-q)}|11\\rangle\\big),\n",
    "\\end{align}\n",
    "\\begin{align}\n",
    "& |\\psi_+\\rangle_{AB} = 2^{-1}\\big((\\sqrt{p}0+0\\sqrt{q}+0\\sqrt{1-q}+\\sqrt{1-p}0)|\\Phi_+\\rangle + (\\sqrt{p}\\sqrt{1-q}+00+00+\\sqrt{1-p}\\sqrt{q})|\\Psi_+\\rangle \\\\\n",
    "& \\hspace{3cm} + (\\sqrt{p}\\sqrt{1-q}+00-00-\\sqrt{1-p}\\sqrt{q})|\\Psi_-\\rangle + (\\sqrt{p}0+0\\sqrt{q}-0\\sqrt{1-q}-\\sqrt{1-p}0)|\\Phi_-\\rangle\\big) \\\\\n",
    "& \\hspace{1.4cm} = 2^{-1}\\big((\\sqrt{p(1-q)}+\\sqrt{(1-p)q})|\\Psi_+\\rangle + (\\sqrt{p(1-q)}-\\sqrt{(1-p)q})|\\Psi_-\\rangle \\\\\n",
    "& \\hspace{1.4cm} = 2^{-1/2}\\big(\\sqrt{p(1-q)}|01\\rangle + \\sqrt{(1-p)q}|10\\rangle\\big),\n",
    "\\end{align}\n",
    "\\begin{align}\n",
    "& |\\psi_-\\rangle_{AB} = 2^{-1}\\big((\\sqrt{p}0-0\\sqrt{q}+0\\sqrt{1-q}-\\sqrt{1-p}0)|\\Phi_+\\rangle + (\\sqrt{p}\\sqrt{1-q}-00+00-\\sqrt{1-p}\\sqrt{q})|\\Psi_+\\rangle \\\\\n",
    "& \\hspace{3cm} + (\\sqrt{p}\\sqrt{1-q}-00-00+\\sqrt{1-p}\\sqrt{q})|\\Psi_-\\rangle + (\\sqrt{p}0-0\\sqrt{q}-0\\sqrt{1-q}+\\sqrt{1-p}0)|\\Phi_-\\rangle\\big) \\\\\n",
    "& \\hspace{1.4cm} = 2^{-1}\\big((\\sqrt{p(1-q)}-\\sqrt{(1-p)q})|\\Psi_+\\rangle + (\\sqrt{p(1-q)}+\\sqrt{(1-p)q})|\\Psi_-\\rangle \\\\\n",
    "& \\hspace{1.4cm} = 2^{-1/2}\\big(\\sqrt{p(1-q)}|01\\rangle - \\sqrt{(1-p)q}|10\\rangle\\big).\n",
    "\\end{align}\n",
    "Até agora está tudo ok. Continuemos com nossa análise ...."
   ]
  },
  {
   "cell_type": "markdown",
   "id": "4fbc02c5",
   "metadata": {},
   "source": [
    "## Coerência local não nula\n",
    "\n",
    "Vamos considerar os estados iniciais\n",
    "\\begin{align}\n",
    "& |\\xi\\rangle_{AC} = \\sqrt{p}|00\\rangle +  \\sqrt{(1-p)/2}|01\\rangle + \\sqrt{(1-p)/2}|10\\rangle + 0|11\\rangle, \\\\\n",
    "& = \\sqrt{p}|00\\rangle + \\sqrt{1-p}|\\Psi_+\\rangle \\\\\n",
    "& |\\eta\\rangle_{C'B} = \\sqrt{q}|00\\rangle +  \\sqrt{(1-q)/2}|01\\rangle + \\sqrt{(1-q)/2}|10\\rangle + 0|11\\rangle \\\\\n",
    "& = \\sqrt{q}|00\\rangle + \\sqrt{1-q}|\\Psi_+\\rangle.\n",
    "\\end{align}\n",
    "Ou seja, fazemos\n",
    "\\begin{align}\n",
    "c_{00} = \\sqrt{p},\\ c_{01} = \\sqrt{(1-p)/2},\\ c_{10} = \\sqrt{(1-p)/2},\\ c_{11} = 0, \\\\\n",
    "d_{00} = \\sqrt{q},\\ d_{01} = \\sqrt{(1-q)/2},\\ d_{10} = \\sqrt{(1-q)/2},\\ d_{11} = 0.\n",
    "\\end{align}\n",
    "Emaranhamento inicial\n",
    "\\begin{align}\n",
    "& E_{con}(\\xi_{AC}) = 2|\\sqrt{p}\\cdot 0 - \\sqrt{(1-p)/2}\\sqrt{(1-p)/2}| = 1-p, \\\\\n",
    "& E_{con}(\\eta_{C'B}) = 2|\\sqrt{q}\\cdot 0 - \\sqrt{(1-q)/2}\\sqrt{(1-q)/2}| = 1-q.\n",
    "\\end{align}\n",
    "Assim, usando esses estados, variando $p$ e $q$ de $0$ a $1$, conseguiremos variar independentemente, de $0$ a $1$, o emaranhamento inicial dos dois pares de qubits."
   ]
  },
  {
   "cell_type": "code",
   "execution_count": 1,
   "id": "b6d684eb",
   "metadata": {},
   "outputs": [],
   "source": [
    "%run init.ipynb"
   ]
  },
  {
   "cell_type": "code",
   "execution_count": 6,
   "id": "25e56dd0",
   "metadata": {},
   "outputs": [
    {
     "data": {
      "image/png": "[encoded data removed]",
      "text/latex": [
       "$\\displaystyle \\left( \\left[\\begin{matrix}\\sqrt{p}\\\\\\sqrt{\\frac{1}{2} - \\frac{p}{2}}\\\\\\sqrt{\\frac{1}{2} - \\frac{p}{2}}\\\\0\\end{matrix}\\right], \\  \\left[\\begin{matrix}\\sqrt{q}\\\\\\sqrt{\\frac{1}{2} - \\frac{q}{2}}\\\\\\sqrt{\\frac{1}{2} - \\frac{q}{2}}\\\\0\\end{matrix}\\right]\\right)$"
      ],
      "text/plain": [
       "⎛⎡    √p     ⎤  ⎡    √q     ⎤⎞\n",
       "⎜⎢           ⎥  ⎢           ⎥⎟\n",
       "⎜⎢    _______⎥  ⎢    _______⎥⎟\n",
       "⎜⎢   ╱ 1   p ⎥  ⎢   ╱ 1   q ⎥⎟\n",
       "⎜⎢  ╱  ─ - ─ ⎥  ⎢  ╱  ─ - ─ ⎥⎟\n",
       "⎜⎢╲╱   2   2 ⎥  ⎢╲╱   2   2 ⎥⎟\n",
       "⎜⎢           ⎥, ⎢           ⎥⎟\n",
       "⎜⎢    _______⎥  ⎢    _______⎥⎟\n",
       "⎜⎢   ╱ 1   p ⎥  ⎢   ╱ 1   q ⎥⎟\n",
       "⎜⎢  ╱  ─ - ─ ⎥  ⎢  ╱  ─ - ─ ⎥⎟\n",
       "⎜⎢╲╱   2   2 ⎥  ⎢╲╱   2   2 ⎥⎟\n",
       "⎜⎢           ⎥  ⎢           ⎥⎟\n",
       "⎝⎣     0     ⎦  ⎣     0     ⎦⎠"
      ]
     },
     "execution_count": 6,
     "metadata": {},
     "output_type": "execute_result"
    }
   ],
   "source": [
    "p,q = symbols('p q')\n",
    "ket_xi = Matrix([[sqrt(p)],[sqrt((1-p)/2)],[sqrt((1-p)/2)],[0]])\n",
    "ket_eta = Matrix([[sqrt(q)],[sqrt((1-q)/2)],[sqrt((1-q)/2)],[0]])\n",
    "ket_xi, ket_eta"
   ]
  },
  {
   "cell_type": "code",
   "execution_count": 7,
   "id": "ea8f731f",
   "metadata": {},
   "outputs": [
    {
     "data": {
      "image/png": "[encoded data removed]",
      "text/latex": [
       "$\\displaystyle \\left( \\left[\\begin{matrix}p & \\sqrt{p} \\sqrt{\\frac{1}{2} - \\frac{p}{2}} & \\sqrt{p} \\sqrt{\\frac{1}{2} - \\frac{p}{2}} & 0\\\\\\sqrt{p} \\sqrt{\\frac{1}{2} - \\frac{p}{2}} & \\frac{1}{2} - \\frac{p}{2} & \\frac{1}{2} - \\frac{p}{2} & 0\\\\\\sqrt{p} \\sqrt{\\frac{1}{2} - \\frac{p}{2}} & \\frac{1}{2} - \\frac{p}{2} & \\frac{1}{2} - \\frac{p}{2} & 0\\\\0 & 0 & 0 & 0\\end{matrix}\\right], \\  \\left[\\begin{matrix}q & \\sqrt{q} \\sqrt{\\frac{1}{2} - \\frac{q}{2}} & \\sqrt{q} \\sqrt{\\frac{1}{2} - \\frac{q}{2}} & 0\\\\\\sqrt{q} \\sqrt{\\frac{1}{2} - \\frac{q}{2}} & \\frac{1}{2} - \\frac{q}{2} & \\frac{1}{2} - \\frac{q}{2} & 0\\\\\\sqrt{q} \\sqrt{\\frac{1}{2} - \\frac{q}{2}} & \\frac{1}{2} - \\frac{q}{2} & \\frac{1}{2} - \\frac{q}{2} & 0\\\\0 & 0 & 0 & 0\\end{matrix}\\right]\\right)$"
      ],
      "text/plain": [
       "⎛⎡                       _______         _______   ⎤  ⎡                       \n",
       "⎜⎢                      ╱ 1   p         ╱ 1   p    ⎥  ⎢                      ╱\n",
       "⎜⎢      p         √p⋅  ╱  ─ - ─   √p⋅  ╱  ─ - ─   0⎥  ⎢      q         √q⋅  ╱ \n",
       "⎜⎢                   ╲╱   2   2      ╲╱   2   2    ⎥  ⎢                   ╲╱  \n",
       "⎜⎢                                                 ⎥  ⎢                       \n",
       "⎜⎢       _______                                   ⎥  ⎢       _______         \n",
       "⎜⎢      ╱ 1   p       1   p           1   p        ⎥  ⎢      ╱ 1   q       1  \n",
       "⎜⎢√p⋅  ╱  ─ - ─       ─ - ─           ─ - ─       0⎥  ⎢√q⋅  ╱  ─ - ─       ─ -\n",
       "⎜⎢   ╲╱   2   2       2   2           2   2        ⎥, ⎢   ╲╱   2   2       2  \n",
       "⎜⎢                                                 ⎥  ⎢                       \n",
       "⎜⎢       _______                                   ⎥  ⎢       _______         \n",
       "⎜⎢      ╱ 1   p       1   p           1   p        ⎥  ⎢      ╱ 1   q       1  \n",
       "⎜⎢√p⋅  ╱  ─ - ─       ─ - ─           ─ - ─       0⎥  ⎢√q⋅  ╱  ─ - ─       ─ -\n",
       "⎜⎢   ╲╱   2   2       2   2           2   2        ⎥  ⎢   ╲╱   2   2       2  \n",
       "⎜⎢                                                 ⎥  ⎢                       \n",
       "⎝⎣      0               0               0         0⎦  ⎣      0               0\n",
       "\n",
       "_______         _______   ⎤⎞\n",
       " 1   q         ╱ 1   q    ⎥⎟\n",
       " ─ - ─   √q⋅  ╱  ─ - ─   0⎥⎟\n",
       " 2   2      ╲╱   2   2    ⎥⎟\n",
       "                          ⎥⎟\n",
       "                          ⎥⎟\n",
       " q           1   q        ⎥⎟\n",
       " ─           ─ - ─       0⎥⎟\n",
       " 2           2   2        ⎥⎟\n",
       "                          ⎥⎟\n",
       "                          ⎥⎟\n",
       " q           1   q        ⎥⎟\n",
       " ─           ─ - ─       0⎥⎟\n",
       " 2           2   2        ⎥⎟\n",
       "                          ⎥⎟\n",
       "               0         0⎦⎠"
      ]
     },
     "execution_count": 7,
     "metadata": {},
     "output_type": "execute_result"
    }
   ],
   "source": [
    "rho_xi = ket_xi*ket_xi.T\n",
    "rho_eta = ket_eta*ket_eta.T\n",
    "rho_xi, rho_eta"
   ]
  },
  {
   "cell_type": "code",
   "execution_count": 26,
   "id": "c1215ce2",
   "metadata": {},
   "outputs": [],
   "source": [
    "def ptraceA(da, db, rho):\n",
    "    rhoB = zeros(db,db)\n",
    "    for j in range(0, db):\n",
    "        for k in range(0, db):\n",
    "            for l in range(0, da):\n",
    "                rhoB[j,k] += rho[l*db+j,l*db+k]\n",
    "    return rhoB\n",
    "\n",
    "def ptraceB(da, db, rho):\n",
    "    rhoA = zeros(da,da)\n",
    "    for j in range(0, da):\n",
    "        for k in range(0, da):\n",
    "            for l in range(0, db):\n",
    "                rhoA[j,k] += rho[j*db+l,k*db+l]\n",
    "    return rhoA"
   ]
  },
  {
   "cell_type": "code",
   "execution_count": 9,
   "id": "dd792788",
   "metadata": {},
   "outputs": [
    {
     "data": {
      "image/png": "[encoded data removed]",
      "text/latex": [
       "$\\displaystyle \\left( \\left[\\begin{matrix}\\frac{p}{2} + \\frac{1}{2} & \\sqrt{p} \\sqrt{\\frac{1}{2} - \\frac{p}{2}}\\\\\\sqrt{p} \\sqrt{\\frac{1}{2} - \\frac{p}{2}} & \\frac{1}{2} - \\frac{p}{2}\\end{matrix}\\right], \\  \\left[\\begin{matrix}\\frac{p}{2} + \\frac{1}{2} & \\sqrt{p} \\sqrt{\\frac{1}{2} - \\frac{p}{2}}\\\\\\sqrt{p} \\sqrt{\\frac{1}{2} - \\frac{p}{2}} & \\frac{1}{2} - \\frac{p}{2}\\end{matrix}\\right]\\right)$"
      ],
      "text/plain": [
       "⎛⎡                       _______⎤  ⎡                       _______⎤⎞\n",
       "⎜⎢    p   1             ╱ 1   p ⎥  ⎢    p   1             ╱ 1   p ⎥⎟\n",
       "⎜⎢    ─ + ─       √p⋅  ╱  ─ - ─ ⎥  ⎢    ─ + ─       √p⋅  ╱  ─ - ─ ⎥⎟\n",
       "⎜⎢    2   2          ╲╱   2   2 ⎥  ⎢    2   2          ╲╱   2   2 ⎥⎟\n",
       "⎜⎢                              ⎥, ⎢                              ⎥⎟\n",
       "⎜⎢       _______                ⎥  ⎢       _______                ⎥⎟\n",
       "⎜⎢      ╱ 1   p       1   p     ⎥  ⎢      ╱ 1   p       1   p     ⎥⎟\n",
       "⎜⎢√p⋅  ╱  ─ - ─       ─ - ─     ⎥  ⎢√p⋅  ╱  ─ - ─       ─ - ─     ⎥⎟\n",
       "⎝⎣   ╲╱   2   2       2   2     ⎦  ⎣   ╲╱   2   2       2   2     ⎦⎠"
      ]
     },
     "execution_count": 9,
     "metadata": {},
     "output_type": "execute_result"
    }
   ],
   "source": [
    "rho_xi_A = ptraceB(2,2,rho_xi); rho_xi_C = ptraceA(2,2,rho_xi)\n",
    "rho_xi_A, rho_xi_C"
   ]
  },
  {
   "cell_type": "code",
   "execution_count": 10,
   "id": "d0beaf7e",
   "metadata": {},
   "outputs": [
    {
     "data": {
      "image/png": "[encoded data removed]",
      "text/latex": [
       "$\\displaystyle \\left( \\left[\\begin{matrix}\\frac{q}{2} + \\frac{1}{2} & \\sqrt{q} \\sqrt{\\frac{1}{2} - \\frac{q}{2}}\\\\\\sqrt{q} \\sqrt{\\frac{1}{2} - \\frac{q}{2}} & \\frac{1}{2} - \\frac{q}{2}\\end{matrix}\\right], \\  \\left[\\begin{matrix}\\frac{q}{2} + \\frac{1}{2} & \\sqrt{q} \\sqrt{\\frac{1}{2} - \\frac{q}{2}}\\\\\\sqrt{q} \\sqrt{\\frac{1}{2} - \\frac{q}{2}} & \\frac{1}{2} - \\frac{q}{2}\\end{matrix}\\right]\\right)$"
      ],
      "text/plain": [
       "⎛⎡                       _______⎤  ⎡                       _______⎤⎞\n",
       "⎜⎢    q   1             ╱ 1   q ⎥  ⎢    q   1             ╱ 1   q ⎥⎟\n",
       "⎜⎢    ─ + ─       √q⋅  ╱  ─ - ─ ⎥  ⎢    ─ + ─       √q⋅  ╱  ─ - ─ ⎥⎟\n",
       "⎜⎢    2   2          ╲╱   2   2 ⎥  ⎢    2   2          ╲╱   2   2 ⎥⎟\n",
       "⎜⎢                              ⎥, ⎢                              ⎥⎟\n",
       "⎜⎢       _______                ⎥  ⎢       _______                ⎥⎟\n",
       "⎜⎢      ╱ 1   q       1   q     ⎥  ⎢      ╱ 1   q       1   q     ⎥⎟\n",
       "⎜⎢√q⋅  ╱  ─ - ─       ─ - ─     ⎥  ⎢√q⋅  ╱  ─ - ─       ─ - ─     ⎥⎟\n",
       "⎝⎣   ╲╱   2   2       2   2     ⎦  ⎣   ╲╱   2   2       2   2     ⎦⎠"
      ]
     },
     "execution_count": 10,
     "metadata": {},
     "output_type": "execute_result"
    }
   ],
   "source": [
    "rho_eta_Cp = ptraceB(2,2,rho_eta); rho_eta_B = ptraceA(2,2,rho_eta)\n",
    "rho_eta_Cp, rho_eta_B"
   ]
  },
  {
   "cell_type": "markdown",
   "id": "352e4b24",
   "metadata": {},
   "source": [
    "Coerência local:\n",
    "\\begin{align}\n",
    "& C_{hs}(\\xi_A) = C_{hs}(\\xi_C) = p(1-p), \\\\\n",
    "& C_{hs}(\\eta_{C'}) = C_{hs}(\\eta_B) = q(1-q).\n",
    "\\end{align}\n",
    "\n",
    "Preditibilidade local (usa $P(\\rho)=\\langle\\sigma_{z}\\rangle_{\\rho}$):\n",
    "\\begin{align}\n",
    "& P(\\xi_A) = P(\\xi_C) = p, \\\\\n",
    "& P(\\eta_{C'}) = P(\\eta_B) = q.\n",
    "\\end{align}\n",
    "OBS. Usar as medidas envolvidas na relação completa de complementariedade de Janos e Bergou, pois envolvem a concurrence.\n",
    "\n",
    "Para $x\\in[0,1]$, o máximo de uma expressão do tipo $x(1-x)$ é obtido para $x=1/2$. Vemos assim que a coerência varia entre $0$ e $2^{-2}$. \n",
    "* Para $p,q=1$ temos preditibilidade máxima e coerência nula e emaranhamento nulo. \n",
    "* Para $p,q=0$ temos preditibilidade e coerência nulas. Neste caso os estados são maximamente emaranhados, e iguais a $|\\Psi_+\\rangle$.\n",
    "\n",
    "Abaixo usamos o sympy para calcular os estados pós-medida neste caso."
   ]
  },
  {
   "cell_type": "code",
   "execution_count": 11,
   "id": "f1d8d71f",
   "metadata": {},
   "outputs": [
    {
     "data": {
      "image/png": "[encoded data removed]",
      "text/latex": [
       "$\\displaystyle \\left( \\left[\\begin{matrix}1\\\\0\\\\0\\\\0\\end{matrix}\\right], \\  \\left[\\begin{matrix}0\\\\1\\\\0\\\\0\\end{matrix}\\right], \\  \\left[\\begin{matrix}0\\\\0\\\\1\\\\0\\end{matrix}\\right], \\  \\left[\\begin{matrix}0\\\\0\\\\0\\\\1\\end{matrix}\\right]\\right)$"
      ],
      "text/plain": [
       "⎛⎡1⎤  ⎡0⎤  ⎡0⎤  ⎡0⎤⎞\n",
       "⎜⎢ ⎥  ⎢ ⎥  ⎢ ⎥  ⎢ ⎥⎟\n",
       "⎜⎢0⎥  ⎢1⎥  ⎢0⎥  ⎢0⎥⎟\n",
       "⎜⎢ ⎥, ⎢ ⎥, ⎢ ⎥, ⎢ ⎥⎟\n",
       "⎜⎢0⎥  ⎢0⎥  ⎢1⎥  ⎢0⎥⎟\n",
       "⎜⎢ ⎥  ⎢ ⎥  ⎢ ⎥  ⎢ ⎥⎟\n",
       "⎝⎣0⎦  ⎣0⎦  ⎣0⎦  ⎣1⎦⎠"
      ]
     },
     "execution_count": 11,
     "metadata": {},
     "output_type": "execute_result"
    }
   ],
   "source": [
    "c00,c01,c10,c11 = symbols('c_{00} c_{01} c_{10} c_{11}')\n",
    "d00,d01,d10,d11 = symbols('d_{00} d_{01} d_{10} d_{11}')\n",
    "def two_qb_basis():\n",
    "    zz = Matrix([[1],[0],[0],[0]])\n",
    "    zu = Matrix([[0],[1],[0],[0]])\n",
    "    uz = Matrix([[0],[0],[1],[0]])\n",
    "    uu = Matrix([[0],[0],[0],[1]])\n",
    "    return zz,zu,uz,uu\n",
    "zz,zu,uz,uu = two_qb_basis(); zz,zu,uz,uu"
   ]
  },
  {
   "cell_type": "code",
   "execution_count": 12,
   "id": "04d34869",
   "metadata": {},
   "outputs": [],
   "source": [
    "def psi_p(c00,c01,c10,c11,d00,d01,d10,d11):\n",
    "    zz,zu,uz,uu = two_qb_basis()\n",
    "    psi = (c00*d00+c01*d10)*zz + (c00*d01+c01*d11)*zu + (c10*d00+c11*d10)*uz + (c10*d01+c11*d11)*uu\n",
    "    return psi/sqrt(2)\n",
    "\n",
    "def psi_m(c00,c01,c10,c11,d00,d01,d10,d11):\n",
    "    zz,zu,uz,uu = two_qb_basis()\n",
    "    psi = (c00*d00-c01*d10)*zz + (c00*d01-c01*d11)*zu + (c10*d00-c11*d10)*uz + (c10*d01-c11*d11)*uu\n",
    "    return psi/sqrt(2)\n",
    "\n",
    "def phi_p(c00,c01,c10,c11,d00,d01,d10,d11):\n",
    "    zz,zu,uz,uu = two_qb_basis()\n",
    "    psi = (c00*d10+c01*d00)*zz + (c00*d11+c01*d01)*zu + (c10*d10+c11*d00)*uz + (c10*d11+c11*d01)*uu\n",
    "    return psi/sqrt(2)\n",
    "\n",
    "def phi_m(c00,c01,c10,c11,d00,d01,d10,d11):\n",
    "    zz,zu,uz,uu = two_qb_basis()\n",
    "    psi = (c00*d10-c01*d00)*zz + (c00*d11-c01*d01)*zu + (c10*d10-c11*d00)*uz + (c10*d11-c11*d01)*uu\n",
    "    return psi/sqrt(2)"
   ]
  },
  {
   "cell_type": "code",
   "execution_count": 13,
   "id": "20695fb3",
   "metadata": {},
   "outputs": [
    {
     "data": {
      "image/png": "[encoded data removed]",
      "text/latex": [
       "$\\displaystyle \\left( \\left[\\begin{matrix}\\frac{\\sqrt{2} \\left(2 \\sqrt{p} \\sqrt{q} + \\sqrt{1 - p} \\sqrt{1 - q}\\right)}{4}\\\\\\frac{\\sqrt{p} \\sqrt{1 - q}}{2}\\\\\\frac{\\sqrt{q} \\sqrt{1 - p}}{2}\\\\\\frac{\\sqrt{2} \\sqrt{1 - p} \\sqrt{1 - q}}{4}\\end{matrix}\\right], \\  \\left[\\begin{matrix}\\frac{\\sqrt{2} \\left(2 \\sqrt{p} \\sqrt{q} - \\sqrt{1 - p} \\sqrt{1 - q}\\right)}{4}\\\\\\frac{\\sqrt{p} \\sqrt{1 - q}}{2}\\\\\\frac{\\sqrt{q} \\sqrt{1 - p}}{2}\\\\\\frac{\\sqrt{2} \\sqrt{1 - p} \\sqrt{1 - q}}{4}\\end{matrix}\\right], \\  \\left[\\begin{matrix}\\frac{\\sqrt{p} \\sqrt{1 - q}}{2} + \\frac{\\sqrt{q} \\sqrt{1 - p}}{2}\\\\\\frac{\\sqrt{2} \\sqrt{1 - p} \\sqrt{1 - q}}{4}\\\\\\frac{\\sqrt{2} \\sqrt{1 - p} \\sqrt{1 - q}}{4}\\\\0\\end{matrix}\\right], \\  \\left[\\begin{matrix}\\frac{\\sqrt{p} \\sqrt{1 - q}}{2} - \\frac{\\sqrt{q} \\sqrt{1 - p}}{2}\\\\- \\frac{\\sqrt{2} \\sqrt{1 - p} \\sqrt{1 - q}}{4}\\\\\\frac{\\sqrt{2} \\sqrt{1 - p} \\sqrt{1 - q}}{4}\\\\0\\end{matrix}\\right]\\right)$"
      ],
      "text/plain": [
       "⎛⎡   ⎛            _______   _______⎞⎤  ⎡   ⎛            _______   _______⎞⎤   \n",
       "⎜⎢√2⋅⎝2⋅√p⋅√q + ╲╱ 1 - p ⋅╲╱ 1 - q ⎠⎥  ⎢√2⋅⎝2⋅√p⋅√q - ╲╱ 1 - p ⋅╲╱ 1 - q ⎠⎥  ⎡\n",
       "⎜⎢──────────────────────────────────⎥  ⎢──────────────────────────────────⎥  ⎢\n",
       "⎜⎢                4                 ⎥  ⎢                4                 ⎥  ⎢\n",
       "⎜⎢                                  ⎥  ⎢                                  ⎥  ⎢\n",
       "⎜⎢                _______           ⎥  ⎢                _______           ⎥  ⎢\n",
       "⎜⎢           √p⋅╲╱ 1 - q            ⎥  ⎢           √p⋅╲╱ 1 - q            ⎥  ⎢\n",
       "⎜⎢           ────────────           ⎥  ⎢           ────────────           ⎥  ⎢\n",
       "⎜⎢                2                 ⎥  ⎢                2                 ⎥  ⎢\n",
       "⎜⎢                                  ⎥, ⎢                                  ⎥, ⎢\n",
       "⎜⎢                _______           ⎥  ⎢                _______           ⎥  ⎢\n",
       "⎜⎢           √q⋅╲╱ 1 - p            ⎥  ⎢           √q⋅╲╱ 1 - p            ⎥  ⎢\n",
       "⎜⎢           ────────────           ⎥  ⎢           ────────────           ⎥  ⎢\n",
       "⎜⎢                2                 ⎥  ⎢                2                 ⎥  ⎢\n",
       "⎜⎢                                  ⎥  ⎢                                  ⎥  ⎢\n",
       "⎜⎢           _______   _______      ⎥  ⎢           _______   _______      ⎥  ⎢\n",
       "⎜⎢      √2⋅╲╱ 1 - p ⋅╲╱ 1 - q       ⎥  ⎢      √2⋅╲╱ 1 - p ⋅╲╱ 1 - q       ⎥  ⎣\n",
       "⎜⎢      ──────────────────────      ⎥  ⎢      ──────────────────────      ⎥   \n",
       "⎝⎣                4                 ⎦  ⎣                4                 ⎦   \n",
       "\n",
       "                                                           ⎞\n",
       "     _______        _______⎤  ⎡     _______        _______⎤⎟\n",
       "√p⋅╲╱ 1 - q    √q⋅╲╱ 1 - p ⎥  ⎢√p⋅╲╱ 1 - q    √q⋅╲╱ 1 - p ⎥⎟\n",
       "──────────── + ────────────⎥  ⎢──────────── - ────────────⎥⎟\n",
       "     2              2      ⎥  ⎢     2              2      ⎥⎟\n",
       "                           ⎥  ⎢                           ⎥⎟\n",
       "       _______   _______   ⎥  ⎢       _______   _______   ⎥⎟\n",
       "  √2⋅╲╱ 1 - p ⋅╲╱ 1 - q    ⎥  ⎢ -√2⋅╲╱ 1 - p ⋅╲╱ 1 - q    ⎥⎟\n",
       "  ──────────────────────   ⎥  ⎢ ────────────────────────  ⎥⎟\n",
       "            4              ⎥, ⎢            4              ⎥⎟\n",
       "                           ⎥  ⎢                           ⎥⎟\n",
       "       _______   _______   ⎥  ⎢       _______   _______   ⎥⎟\n",
       "  √2⋅╲╱ 1 - p ⋅╲╱ 1 - q    ⎥  ⎢  √2⋅╲╱ 1 - p ⋅╲╱ 1 - q    ⎥⎟\n",
       "  ──────────────────────   ⎥  ⎢  ──────────────────────   ⎥⎟\n",
       "            4              ⎥  ⎢            4              ⎥⎟\n",
       "                           ⎥  ⎢                           ⎥⎟\n",
       "             0             ⎦  ⎣             0             ⎦⎟\n",
       "                                                           ⎟\n",
       "                                                           ⎠"
      ]
     },
     "execution_count": 13,
     "metadata": {},
     "output_type": "execute_result"
    }
   ],
   "source": [
    "c00 = sqrt(p); c01 = sqrt((1-p)/2); c10 = sqrt((1-p)/2); c11 = 0\n",
    "d00 = sqrt(q); d01 = sqrt((1-q)/2); d10 = sqrt((1-q)/2); d11 = 0\n",
    "psip = psi_p(c00,c01,c10,c11,d00,d01,d10,d11); \n",
    "psim = psi_m(c00,c01,c10,c11,d00,d01,d10,d11)\n",
    "phip = phi_p(c00,c01,c10,c11,d00,d01,d10,d11); \n",
    "phim = phi_m(c00,c01,c10,c11,d00,d01,d10,d11)\n",
    "simplify(psip), simplify(psim), simplify(phip), simplify(phim)"
   ]
  },
  {
   "cell_type": "markdown",
   "id": "cccb1024",
   "metadata": {},
   "source": [
    "Nesse caso, os estados pós-medida não normalizados são escritos como segue:\n",
    "\\begin{align}\n",
    "|\\psi_+\\rangle & = 2^{-2}\\big(\\sqrt{2}\\big(2\\sqrt{pq}+\\sqrt{(1-p)(1-q)}\\big)|00\\rangle + 2\\sqrt{p(1-q)}|01\\rangle + 2\\sqrt{(1-p)q}|10\\rangle + \\sqrt{2(1-p)(1-q)}|11\\rangle\\big), \\\\ \n",
    "|\\psi_-\\rangle & = 2^{-2}\\big(\\sqrt{2}\\big(2\\sqrt{pq}-\\sqrt{(1-p)(1-q)}\\big)|00\\rangle + 2\\sqrt{p(1-q)}|01\\rangle + 2\\sqrt{(1-p)q}|10\\rangle + \\sqrt{2(1-p)(1-q)}|11\\rangle\\big), \\\\\n",
    "|\\phi_+\\rangle & = 2^{-2}\\big(2\\big(\\sqrt{p(1-q)}+\\sqrt{(1-p)q}\\big)|00\\rangle + \\sqrt{2(1-p)(1-q)}(|01\\rangle + |10\\rangle) + 0|11\\rangle\\big), \\\\\n",
    "|\\phi_-\\rangle & = 2^{-2}\\big(2\\big(\\sqrt{p(1-q)}-\\sqrt{(1-p)q}\\big)|00\\rangle - \\sqrt{2(1-p)(1-q)}(|01\\rangle - |10\\rangle) + 0|11\\rangle\\big).\n",
    "\\end{align}"
   ]
  },
  {
   "cell_type": "code",
   "execution_count": 18,
   "id": "fcd5bf2b",
   "metadata": {},
   "outputs": [
    {
     "data": {
      "image/png": "[encoded data removed]",
      "text/latex": [
       "$\\displaystyle \\left[\\begin{matrix}\\frac{\\sqrt{p} \\sqrt{q} \\sqrt{1 - p} \\sqrt{1 - q}}{2} + \\frac{p q}{4} + \\frac{1}{4}\\end{matrix}\\right]$"
      ],
      "text/plain": [
       "⎡        _______   _______          ⎤\n",
       "⎢√p⋅√q⋅╲╱ 1 - p ⋅╲╱ 1 - q    p⋅q   1⎥\n",
       "⎢───────────────────────── + ─── + ─⎥\n",
       "⎣            2                4    4⎦"
      ]
     },
     "execution_count": 18,
     "metadata": {},
     "output_type": "execute_result"
    }
   ],
   "source": [
    "psip_norm2 = psip.T*psip; simplify(psip_norm2)"
   ]
  },
  {
   "cell_type": "code",
   "execution_count": 19,
   "id": "da5b7534",
   "metadata": {},
   "outputs": [
    {
     "data": {
      "image/png": "[encoded data removed]",
      "text/latex": [
       "$\\displaystyle \\left[\\begin{matrix}- \\frac{\\sqrt{p} \\sqrt{q} \\sqrt{1 - p} \\sqrt{1 - q}}{2} + \\frac{p q}{4} + \\frac{1}{4}\\end{matrix}\\right]$"
      ],
      "text/plain": [
       "⎡          _______   _______          ⎤\n",
       "⎢  √p⋅√q⋅╲╱ 1 - p ⋅╲╱ 1 - q    p⋅q   1⎥\n",
       "⎢- ───────────────────────── + ─── + ─⎥\n",
       "⎣              2                4    4⎦"
      ]
     },
     "execution_count": 19,
     "metadata": {},
     "output_type": "execute_result"
    }
   ],
   "source": [
    "psim_norm2 = psim.T*psim; simplify(psim_norm2)"
   ]
  },
  {
   "cell_type": "code",
   "execution_count": 20,
   "id": "fc1417cf",
   "metadata": {},
   "outputs": [
    {
     "data": {
      "image/png": "[encoded data removed]",
      "text/latex": [
       "$\\displaystyle \\left[\\begin{matrix}\\frac{\\sqrt{p} \\sqrt{q} \\sqrt{1 - p} \\sqrt{1 - q}}{2} - \\frac{p q}{4} + \\frac{1}{4}\\end{matrix}\\right]$"
      ],
      "text/plain": [
       "⎡        _______   _______          ⎤\n",
       "⎢√p⋅√q⋅╲╱ 1 - p ⋅╲╱ 1 - q    p⋅q   1⎥\n",
       "⎢───────────────────────── - ─── + ─⎥\n",
       "⎣            2                4    4⎦"
      ]
     },
     "execution_count": 20,
     "metadata": {},
     "output_type": "execute_result"
    }
   ],
   "source": [
    "phip_norm2 = phip.T*phip; simplify(phip_norm2)"
   ]
  },
  {
   "cell_type": "code",
   "execution_count": 21,
   "id": "9d671510",
   "metadata": {},
   "outputs": [
    {
     "data": {
      "image/png": "[encoded data removed]",
      "text/latex": [
       "$\\displaystyle \\left[\\begin{matrix}- \\frac{\\sqrt{p} \\sqrt{q} \\sqrt{1 - p} \\sqrt{1 - q}}{2} - \\frac{p q}{4} + \\frac{1}{4}\\end{matrix}\\right]$"
      ],
      "text/plain": [
       "⎡          _______   _______          ⎤\n",
       "⎢  √p⋅√q⋅╲╱ 1 - p ⋅╲╱ 1 - q    p⋅q   1⎥\n",
       "⎢- ───────────────────────── - ─── + ─⎥\n",
       "⎣              2                4    4⎦"
      ]
     },
     "execution_count": 21,
     "metadata": {},
     "output_type": "execute_result"
    }
   ],
   "source": [
    "phim_norm2 = phim.T*phim; simplify(phim_norm2)"
   ]
  },
  {
   "cell_type": "markdown",
   "id": "e30ce40c",
   "metadata": {},
   "source": [
    "Normas desses vetores:\n",
    "\\begin{align}\n",
    "& ||\\psi_+||^{2} = 2^{-2}\\big(1+pq+\\sqrt{p(1-p)(1-q)}\\big) = Pr(\\Psi_+), \\\\\n",
    "& ||\\psi_-||^{2} = 2^{-2}\\big(1+pq-\\sqrt{p(1-p)(1-q)}\\big) = Pr(\\Psi_-), \\\\\n",
    "& ||\\phi_+||^{2} = 2^{-2}\\big(1-pq+\\sqrt{p(1-p)(1-q)}\\big) = Pr(\\Phi_+), \\\\\n",
    "& ||\\phi_-||^{2} = 2^{-2}\\big(1-pq-\\sqrt{p(1-p)(1-q)}\\big) = Pr(\\Phi_-).\n",
    "\\end{align}\n",
    "Verifica-se assim que \n",
    "\\begin{align}\n",
    "& Pr(\\Phi_+)+Pr(\\Phi_-)+Pr(\\Psi_+)+Pr(\\Psi_-)\\\\\n",
    "& =||\\phi_+||^{2}+||\\phi_-||^{2}+||\\psi_+||^{2}+||\\psi_-||^{2}=1.\n",
    "\\end{align}"
   ]
  },
  {
   "cell_type": "markdown",
   "id": "22909ba0",
   "metadata": {},
   "source": [
    "O emaranhamento concurrence dos estados pós-medida são então dados por\n",
    "\\begin{align}\n",
    "& E_{conc}(\\hat{\\psi}_+) = \\frac{(1-p)(1-q)}{2^{-2}\\big(1+pq+\\sqrt{p(1-p)(1-q)}\\big)}, \\\\\n",
    "& E_{conc}(\\hat{\\psi}_-) = \\frac{(1-p)(1-q)}{2^{-2}\\big(1+pq-\\sqrt{p(1-p)(1-q)}\\big)}, \\\\\n",
    "& E_{conc}(\\hat{\\phi}_+) = \\frac{(1-p)(1-q)}{2^{-2}\\big(1-pq+\\sqrt{p(1-p)(1-q)}\\big)}, \\\\\n",
    "& E_{conc}(\\hat{\\phi}_-) = \\frac{(1-p)(1-q)}{2^{-2}\\big(1-pq-\\sqrt{p(1-p)(1-q)}\\big)}.\n",
    "\\end{align}"
   ]
  },
  {
   "cell_type": "code",
   "execution_count": null,
   "id": "4d154234",
   "metadata": {},
   "outputs": [],
   "source": []
  },
  {
   "cell_type": "code",
   "execution_count": null,
   "id": "2e86a2b6",
   "metadata": {},
   "outputs": [],
   "source": []
  },
  {
   "cell_type": "code",
   "execution_count": null,
   "id": "d62c835e",
   "metadata": {},
   "outputs": [],
   "source": []
  },
  {
   "cell_type": "code",
   "execution_count": null,
   "id": "c2ea17d0",
   "metadata": {},
   "outputs": [],
   "source": []
  },
  {
   "cell_type": "code",
   "execution_count": null,
   "id": "c3e1bfe0",
   "metadata": {},
   "outputs": [],
   "source": []
  },
  {
   "cell_type": "markdown",
   "id": "c3a83bf9",
   "metadata": {},
   "source": [
    "## Relação de complementariedade completa de Jacob e Bergou\n",
    "\n",
    "Para um estado de um qubit $\\rho$, eles definem a preditibilidade como\n",
    "\\begin{align}\n",
    "P & = |\\langle\\sigma_z\\rangle_{\\rho}| \\\\\n",
    "& = |Tr(\\rho\\sigma_z)| \\\\\n",
    "& = |Tr(\\rho(|0\\rangle\\langle 0|-|1\\rangle\\langle 1|))| \\\\\n",
    "& = |\\langle 0|\\rho|0\\rangle - \\langle 1|\\rho|1\\rangle| \\\\\n",
    "& = |\\rho_{00}-\\rho_{11}| \\\\\n",
    "& = \\sqrt{2P_{hs}(\\rho)}.\n",
    "\\end{align}\n",
    "\n",
    "Já a visibilidade é definida como\n",
    "\\begin{align}\n",
    "V & = 2|\\langle\\sigma_+\\rangle_{\\rho}| \\\\\n",
    "& = 2|Tr(\\rho\\sigma_+)| \\\\\n",
    "& = 2|Tr(\\rho|0\\rangle\\langle 1|)| \\\\\n",
    "& = 2|\\langle 1|\\rho|0\\rangle| \\\\\n",
    "& = 2|\\rho_{10}| = |\\rho_{10}|+|\\rho_{01}| \\\\\n",
    "& = C_{l_{1}}(\\rho).\n",
    "\\end{align}"
   ]
  },
  {
   "cell_type": "markdown",
   "id": "4ae74a8a",
   "metadata": {},
   "source": [
    "Para um estado puro geral de dois qubits,\n",
    "$$|\\psi\\rangle_{AB} = c_{00}|00\\rangle+c_{01}|01\\rangle+c_{10}|10\\rangle+c_{11}|11\\rangle,$$\n",
    "o emaranhamento concurrence é dado por\n",
    "$$E_{conc}(|\\psi\\rangle_{AB}) = 2|c_{00}c_{11}-c_{01}c_{10}|.$$\n",
    "Os estados reduzidos são\n",
    "$$\\rho_A = \\begin{bmatrix} |c_{00}|^{2}+|c_{01}|^{2} & c_{00}c_{10}^{*}+c_{01}c_{11}^{*} \\\\ c_{00}^{*}c_{10}+c_{01}^{*}c_{11} & |c_{10}|^{2}+|c_{11}|^{2} \\end{bmatrix}$$\n",
    "e\n",
    "$$\\rho_B = \\begin{bmatrix} |c_{00}|^{2}+|c_{10}|^{2} & c_{00}c_{01}^{*}+c_{10}c_{11}^{*} \\\\ c_{00}^{*}c_{01}+c_{10}^{*}c_{11} & |c_{01}|^{2}+|c_{11}|^{2} \\end{bmatrix}.$$"
   ]
  },
  {
   "cell_type": "markdown",
   "id": "74791163",
   "metadata": {},
   "source": [
    "Vem assim que\n",
    "\\begin{align}\n",
    "P(\\rho_A) & = \\big||c_{00}|^{2}+|c_{01}|^{2} - |c_{10}|^{2}-|c_{11}|^{2}\\big|, \\\\\n",
    "P(\\rho_B) & = \\big||c_{00}|^{2}+|c_{10}|^{2} - |c_{01}|^{2}-|c_{11}|^{2}\\big|, \\\\\n",
    "V(\\rho_A) & = 2\\big|c_{00}c_{10}^{*}+c_{01}c_{11}^{*}\\big|, \\\\\n",
    "V(\\rho_B) & = 2\\big|c_{00}c_{01}^{*}+c_{10}c_{11}^{*}\\big|. \\\\\n",
    "\\end{align}\n",
    "Usando \n",
    "\\begin{align}\n",
    "1 & = \\big(|c_{00}|^{2}+|c_{01}|^{2}+|c_{10}|^{2}+|c_{11}|^{2}\\big)^{2} \\\\\n",
    "& = \\big(|c_{00}|^{2}+|c_{01}|^{2}\\big)^{2} + \\big(|c_{10}|^{2}+|c_{11}|^{2}\\big)^{2} + 2\\big(|c_{00}|^{2}+|c_{01}|^{2}\\big)\\big(|c_{10}|^{2}+|c_{11}|^{2}\\big) \\\\\n",
    "& = |c_{00}|^{4}+|c_{01}|^{4}+2|c_{00}|^{2}|c_{01}|^{2} + |c_{10}|^{4}+|c_{11}|^{4} + 2|c_{10}|^{2}|c_{11}|^{2} \\\\\n",
    "& \\hspace{0.5cm} + 2|c_{00}|^{2}|c_{10}|^{2} + 2|c_{00}|^{2}|c_{11}|^{2} + 2|c_{01}|^{2}|c_{10}|^{2} + 2|c_{01}|^{2}|c_{11}|^{2}\n",
    "\\end{align}"
   ]
  },
  {
   "cell_type": "markdown",
   "id": "3055b732",
   "metadata": {},
   "source": [
    "vemos que\n",
    "\\begin{align}\n",
    "& E_{conc}(|\\psi\\rangle_{AB})^{2} + P(\\rho_A)^{2} + V(\\rho_A)^{2} \\\\\n",
    "& = 4\\big|c_{00}c_{11}-c_{01}c_{10}\\big|^{2} + \\big||c_{00}|^{2}+|c_{01}|^{2} - |c_{10}|^{2}-|c_{11}|^{2}\\big|^{2} + 4\\big|c_{00}c_{10}^{*}+c_{01}c_{11}^{*}\\big|^{2} \\\\\n",
    "& = 4\\big(c_{00}c_{11}-c_{01}c_{10}\\big)\\big(c_{00}^{*}c_{11}^{*}-c_{01}^{*}c_{10}^{*}\\big) + \\big(|c_{00}|^{2}+|c_{01}|^{2} - |c_{10}|^{2}-|c_{11}|^{2}\\big)\\big(|c_{00}|^{2}+|c_{01}|^{2} - |c_{10}|^{2}-|c_{11}|^{2}\\big) \\\\\n",
    "& \\hspace{0.5cm} + 4\\big(c_{00}c_{10}^{*}+c_{01}c_{11}^{*}\\big)\\big(c_{00}^{*}c_{10}+c_{01}^{*}c_{11}\\big) \\\\\n",
    "& = 4|c_{00}|^{2}|c_{11}|^{2} + 4|c_{01}|^{2}|c_{10}|^{2} - 4c_{00}c_{11}c_{01}^{*}c_{10}^{*} - 4c_{00}^{*}c_{11}^{*}c_{01}c_{10} \\\\\n",
    "& \\hspace{0.5cm} + 4|c_{00}|^{2}|c_{10}|^{2} + 4|c_{11}|^{2}|c_{01}|^{2} + 4c_{00}c_{10}^{*}c_{01}^{*}c_{11} + 4c_{00}^{*}c_{10}c_{01}c_{11}^{*} \\\\\n",
    "&  \\hspace{0.5cm} + |c_{00}|^{4} + |c_{01}|^{4} + |c_{10}|^{4} + |c_{11}|^{4} + 2|c_{00}|^{2}|c_{01}|^{2} - 2|c_{00}|^{2}|c_{10}|^{2} - 2|c_{00}|^{2}|c_{11}|^{2} - 2|c_{01}|^{2}|c_{10}|^{2} - 2|c_{01}|^{2}|c_{11}|^{2} + 2|c_{10}|^{2}|c_{11}|^{2} \\\\\n",
    "& = |c_{00}|^{4} + |c_{01}|^{4} + |c_{10}|^{4} + |c_{11}|^{4} + 2|c_{00}|^{2}|c_{01}|^{2} + 2|c_{00}|^{2}|c_{10}|^{2} + 2|c_{00}|^{2}|c_{11}|^{2} + 2|c_{01}|^{2}|c_{10}|^{2} + 2|c_{01}|^{2}|c_{11}|^{2} + 2|c_{10}|^{2}|c_{11}|^{2} \\\\\n",
    "& = \\big(|c_{00}|^{2}+|c_{01}|^{2}+|c_{10}|^{2}+|c_{11}|^{2}\\big)^{2} \\\\\n",
    "& = 1.\n",
    "\\end{align}\n",
    "\n",
    "__Exercício:__ Verifique que\n",
    "$$E_{conc}(|\\psi\\rangle_{AB})^{2} + P(\\rho_B)^{2} + V(\\rho_B)^{2}=1.$$"
   ]
  },
  {
   "cell_type": "markdown",
   "id": "de7f437f",
   "metadata": {},
   "source": [
    "### Referências \n",
    "\n",
    "1. M. L. W. Basso and J. Maziero, “Operational connection between predictability and entanglement in entanglement swapping from partially entangled pure states,” Physics Letters A, vol. 451, p. 128414, Nov. 2022, doi: 10.1016/j.physleta.2022.128414.\n",
    "\n",
    "1. M. Jakob and J. A. Bergou, “Quantitative complementarity relations in bipartite systems: Entanglement as a physical reality,” Optics Communications, vol. 283, no. 5, pp. 827–830, Mar. 2010, doi: 10.1016/j.optcom.2009.10.044.\n",
    "\n"
   ]
  },
  {
   "cell_type": "code",
   "execution_count": null,
   "id": "955f515c",
   "metadata": {},
   "outputs": [],
   "source": []
  }
 ],
 "metadata": {
  "kernelspec": {
   "display_name": "Python 3 (ipykernel)",
   "language": "python",
   "name": "python3"
  },
  "language_info": {
   "codemirror_mode": {
    "name": "ipython",
    "version": 3
   },
   "file_extension": ".py",
   "mimetype": "text/x-python",
   "name": "python",
   "nbconvert_exporter": "python",
   "pygments_lexer": "ipython3",
   "version": "3.8.8"
  }
 },
 "nbformat": 4,
 "nbformat_minor": 5
}
