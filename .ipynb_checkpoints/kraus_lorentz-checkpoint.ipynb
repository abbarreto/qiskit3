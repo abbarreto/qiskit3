{
 "cells": [
  {
   "cell_type": "markdown",
   "id": "58862acc",
   "metadata": {},
   "source": [
    "[1] T. F. Jordan, A. Shaji, and E. C. G. Sudarshan, “Maps for Lorentz transformations of spin,” Phys. Rev. A, vol. 73, no. 3, p. 032104, Mar. 2006, doi: 10.1103/PhysRevA.73.032104."
   ]
  },
  {
   "cell_type": "code",
   "execution_count": null,
   "id": "1a96b5d0",
   "metadata": {},
   "outputs": [],
   "source": []
  }
 ],
 "metadata": {
  "kernelspec": {
   "display_name": "Python 3 (ipykernel)",
   "language": "python",
   "name": "python3"
  },
  "language_info": {
   "codemirror_mode": {
    "name": "ipython",
    "version": 3
   },
   "file_extension": ".py",
   "mimetype": "text/x-python",
   "name": "python",
   "nbconvert_exporter": "python",
   "pygments_lexer": "ipython3",
   "version": "3.8.8"
  }
 },
 "nbformat": 4,
 "nbformat_minor": 5
}
