{
 "cells": [
  {
   "cell_type": "markdown",
   "id": "f1b25c01-2d47-4b03-be57-fa9715aa9694",
   "metadata": {},
   "source": [
    "# Cálculo mais eficiente da fidelidade, e de outras funções\n",
    "\n",
    "Em (https://arxiv.org/abs/2211.02623), os autores mostraram como fazer uma diagonalização a menos para calcular a fidelidade. Aqui demostramos um resultado mais geral que contém o deles como um caso particular.\n",
    "\n",
    "Começamos escrevendo uma função do produto de três operadores como uma série de potências\n",
    "$$f(ABC) = \\sum_{j=0}^\\infty c_j (ABC)^j.$$\n",
    "Usando a propriedade cíclica do traço, teremos que\n",
    "\\begin{align}\n",
    "Tr((ABC)^j) & = Tr(ABCABC\\cdots ABC) \\\\\n",
    "& = Tr(CABCAB\\cdots CAB) \\\\\n",
    "& = Tr((CAB)^j).\n",
    "\\end{align}"
   ]
  },
  {
   "cell_type": "markdown",
   "id": "8db093c9-e17b-47e4-9da5-809a0df761da",
   "metadata": {},
   "source": [
    "Com isso, usando a linearidade do traço, podemos escrever\n",
    "\\begin{align}\n",
    "Tr(f(ABC)) & = Tr\\Big(\\sum_{j=0}^\\infty c_j (ABC)^j\\Big) \\\\\n",
    "& = \\sum_{j=0}^\\infty c_j Tr((ABC)^j) \\\\\n",
    "& = \\sum_{j=0}^\\infty c_j Tr((CAB)^j) \\\\\n",
    "& = Tr\\Big(\\sum_{j=0}^\\infty c_j (CAB)^j\\Big) \\\\\n",
    "& = Tr(f(CAB)). \\hspace{2cm} (\\star)\n",
    "\\end{align}"
   ]
  },
  {
   "cell_type": "markdown",
   "id": "85c4b13e-5e3e-4614-a676-ff3c2c4444ee",
   "metadata": {},
   "source": [
    "## Aplicação para calcular a fidelidade e funções relacionadas\n",
    "\n",
    "A fidelidade entre dois estados quânticos $\\rho$ e $\\sigma$ é definica como\n",
    "$$F(\\rho,\\sigma) = \\big(Tr\\sqrt{\\sqrt{\\rho}\\sigma\\sqrt{\\rho}}\\big)^2.$$\n",
    "Aplicando o resultado $(\\star)$, com $A=C=\\sqrt{\\rho}$ e $B=\\sigma$ teremos que\n",
    "\\begin{align}\n",
    "\\sqrt{F(\\rho,\\sigma)} & = Tr\\sqrt{\\sqrt{\\rho}\\sigma\\sqrt{\\rho}} \\\\\n",
    "& = Tr\\sqrt{\\sqrt{\\rho}\\sqrt{\\rho}\\sigma} \\\\\n",
    "& = Tr\\sqrt{\\rho\\sigma},\n",
    "\\end{align}\n",
    "que é o resultado obtido em (https://arxiv.org/abs/2211.02623)."
   ]
  },
  {
   "cell_type": "code",
   "execution_count": null,
   "id": "80d941b6-e6e4-4b0a-b08b-4f4fe73a30be",
   "metadata": {},
   "outputs": [],
   "source": []
  }
 ],
 "metadata": {
  "kernelspec": {
   "display_name": "Python 3 (ipykernel)",
   "language": "python",
   "name": "python3"
  },
  "language_info": {
   "codemirror_mode": {
    "name": "ipython",
    "version": 3
   },
   "file_extension": ".py",
   "mimetype": "text/x-python",
   "name": "python",
   "nbconvert_exporter": "python",
   "pygments_lexer": "ipython3",
   "version": "3.8.11"
  }
 },
 "nbformat": 4,
 "nbformat_minor": 5
}
