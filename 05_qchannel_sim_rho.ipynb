{
 "cells": [
  {
   "cell_type": "markdown",
   "id": "8f42a655",
   "metadata": {},
   "source": [
    "# Simulação de canais quânticos para estado inicial misto\n",
    "\n",
    "Vamos considerar que o sistema $A$ inicia no estado misto\n",
    "$$\\rho_A = \\sum_{l,m=0}^{d-1}\\rho_{l,m}^{A}|l\\rangle_{A}\\langle m|.$$\n",
    "O mapa acima vale para qualquer estado $|\\psi\\rangle$, inclusive aqueles da base computacional, i.e.,\n",
    "$$V_{AB}\\big(|l\\rangle_{A}\\otimes|0\\rangle_{B}\\big) = \\sum_{j}\\big(K_{j}|l\\rangle_{A}\\big)\\otimes|j\\rangle_{B}.$$\n",
    "Com isso, podemos escrever o estado global evoluído como segue\n",
    "\\begin{align}\n",
    "\\tilde{\\rho}_{AB} & = V_{AB}\\big(\\rho_{A}\\otimes|0\\rangle_{B}\\langle 0|\\big)V_{AB}^{\\dagger} \\\\\n",
    "& = V_{AB}\\Big(\\sum_{l,m=0}^{d-1}\\rho_{l,m}^{A}|l\\rangle_{A}\\langle m|\\otimes|0\\rangle_{B}\\langle 0|\\Big)V_{AB}^{\\dagger} \\\\\n",
    "& = \\sum_{l,m=0}^{d-1}\\rho_{l,m}^{A}V_{AB}\\big(|l\\rangle_{A}\\otimes|0\\rangle_{B}\\big)\\big(\\langle m|_{A}\\otimes\\langle 0|_{B}\\big)V_{AB}^{\\dagger} \\\\\n",
    "& = \\sum_{l,m=0}^{d-1}\\rho_{l,m}^{A}\\Big(\\sum_{j}\\big(K_{j}|l\\rangle_{A}\\big)\\otimes|j\\rangle_{B}\\Big)\\Big(\\sum_{k}\\big(\\langle m|_{A}K_{k}^{\\dagger}\\big)\\otimes\\langle k|_{B}\\Big) \\\\\n",
    "& = \\sum_{j,k}K_{j}\\Big(\\sum_{l,m=0}^{d-1}\\rho_{l,m}^{A}|l\\rangle_{A}\\langle m|_{A}\\Big)K_{k}^{\\dagger}\\otimes|j\\rangle_{B}\\langle k| \\\\\n",
    "& = \\sum_{j,k}K_{j}\\rho_{A}K_{k}^{\\dagger}\\otimes|j\\rangle_{B}\\langle k|.\n",
    "\\end{align}"
   ]
  },
  {
   "cell_type": "markdown",
   "id": "d82e6ed6",
   "metadata": {},
   "source": [
    "Assim\n",
    "$$Tr_{B}(\\tilde{\\rho}_{AB}) = \\sum_{j}K_{j}\\rho_{A}K_{j}^{\\dagger}=\\Lambda(\\rho_A).$$\n",
    "\n",
    "No entanto, isso não resolve a questão de como implementar esse mapa para estados iniciais mistos, uma vez que teríamos que preparar $\\tilde{\\rho}_{AB}$. Vejamos duas formas de fazer isso. \n",
    "\n",
    "__1ª forma__: Conhecendo $\\rho_{A}$ e $\\{K_{j}\\}$ podemos usar pré-processamento clássico para calcular \n",
    "$$\\tilde{\\rho}_{AB} = \\sum_{l,m=0}^{d-1}\\rho_{l,m}^{A}\\Big(\\sum_{j}\\big(K_{j}|l\\rangle_{A}\\big)\\otimes|j\\rangle_{B}\\Big)\\Big(\\sum_{k}\\big(\\langle m|_{A}K_{k}^{\\dagger}\\big)\\otimes\\langle k|_{B}\\Big).$$\n",
    "Ou seja, teremos que calcular $\\sum_{j}\\big(K_{j}|l\\rangle_{A}\\big)\\otimes|j\\rangle_{B}$ para todos os estados $|l\\rangle_{A}$ da base computacional. \n",
    "Tendo calculado e __diagonalizado__ essa matriz densidade, \n",
    "$$\\tilde{\\rho}_{AB} = \\sum_{j=0}^{d_{AB}-1}\\lambda_{j}|\\lambda_{j}\\rangle_{AB}\\langle \\lambda_{j}|,$$ podemos obter o estado evoluído sob a operação quântica $\\Lambda$ preparando o estado misto $\\tilde{\\rho}_{AB}$ em um computador quântico através de uma purificação\n",
    "$$|\\Phi\\rangle_{ABC} = \\sum_{j=0}^{d_{AB}-1}\\sqrt{\\lambda_{j}}|\\lambda_{j}\\rangle_{AB}\\otimes|j\\rangle_{C}.$$\n",
    "Tomando o traço parcial sobre $B$ e $C$ obtemos o estado esperado:\n",
    "$$\\Lambda(\\rho_{A}) = Tr_{BC}\\big(|\\Phi\\rangle_{ABC}\\langle\\Phi|\\big).$$"
   ]
  },
  {
   "cell_type": "markdown",
   "id": "a4bfd3fc",
   "metadata": {},
   "source": [
    "Uma __2ª forma__ de fazer isto para estados mistos é a seguinte. Começamos notando que qualquer estado misto pode ser diagonalizado:\n",
    "$$\\rho_{A} = \\sum_{k=0}^{d_{A}-1}r_{k}|r_{k}\\rangle_{A}\\langle r_{k}|.$$\n",
    "Os operadores de Kraus são operadores linerares. Com isso vem que\n",
    "\\begin{align}\n",
    "\\Lambda(\\rho_{A}) & = \\sum_{j}K_{j}\\rho_{A}K_{j}^{\\dagger} \\\\\n",
    "& = \\sum_{j}K_{j}\\sum_{k=0}^{d_{A}-1}r_{k}|r_{k}\\rangle_{A}\\langle r_{k}|K_{j}^{\\dagger} \\\\\n",
    "& = \\sum_{k=0}^{d_{A}-1}r_{k}\\sum_{j}K_{j}|r_{k}\\rangle_{A}\\langle r_{k}|K_{j}^{\\dagger} \\\\\n",
    "& = \\sum_{k=0}^{d_{A}-1}r_{k}\\Lambda(|r_{k}\\rangle).\n",
    "\\end{align}"
   ]
  },
  {
   "cell_type": "markdown",
   "id": "3243b1c2",
   "metadata": {},
   "source": [
    "Assim, podemos simular o canal quântico aplicado a um estado misto primeiramente obtendo a decomposição espectral de $\\rho_{A}$, depois preparando\n",
    "$$|\\Psi_{k}\\rangle_{AB} = \\sum_{j}\\big(K_{j}|r_{k}\\rangle\\big)\\otimes|j\\rangle_{B}$$\n",
    "para \n",
    "$$k=0,\\cdots,d_{A}-1$$\n",
    "e traçando o sistema $B$ para obter \n",
    "$$\\Lambda(|r_{k}\\rangle) = Tr_{B}\\big(|\\Psi_{k}\\rangle_{AB}\\langle\\Psi_{k}|\\big)$$\n",
    "e finalmente calculando a mistura estatísitca \n",
    "$$\\sum_{k}r_{k}\\Lambda(|r_{k}\\rangle)=\\Lambda(\\rho_A).$$\n",
    "Vale observar que este 2º método envolve a diagonalização de matrizes de menor dimensão quando comparado ao 1º método, mas tem a desvantagem de necessitar de pós-processamento clássico."
   ]
  },
  {
   "cell_type": "markdown",
   "id": "834ec3b6",
   "metadata": {},
   "source": [
    "### Exemplo: Canal depolarizing\n",
    "\n",
    "Para o canal de Pauli, abaixo, temos os operadores de Kraus\n",
    "$$K_0 = \\sqrt{p_I}\\mathbb{I},\\ K_1=\\sqrt{p_X}X,\\ K_2=\\sqrt{p_Z}Z,\\ K_3=\\sqrt{p_Y}Y.$$\n",
    "Se fazemos \n",
    "$$p_I=\\frac{1+3(1-p)}{4}=\\frac{4-3p}{4},\\ p_X=p_Z=p_Y=\\frac{p}{4}$$\n",
    "obtemos o canal depolarizing. Para verificação, primeiro calculamos\n",
    "\\begin{align}\n",
    "X\\rho X & = X\\begin{bmatrix} \\rho_{00} & \\rho_{01} \\\\ \\rho_{10} & \\rho_{11} \\end{bmatrix}\\begin{bmatrix} 0 & 1 \\\\ 1 & 0 \\end{bmatrix} = \\begin{bmatrix} 0 & 1 \\\\ 1 & 0 \\end{bmatrix}\\begin{bmatrix} \\rho_{01} & \\rho_{00} \\\\ \\rho_{11} & \\rho_{10} \\end{bmatrix} \\\\\n",
    "& = \\begin{bmatrix} \\rho_{11} & \\rho_{10} \\\\ \\rho_{01} & \\rho_{00} \\end{bmatrix}, \\\\\n",
    "Z\\rho Z & = Z\\begin{bmatrix} \\rho_{00} & \\rho_{01} \\\\ \\rho_{10} & \\rho_{11} \\end{bmatrix}\\begin{bmatrix} 1 & 0 \\\\ 0 & -1 \\end{bmatrix} = \\begin{bmatrix} 1 & 0 \\\\ 0 & -1 \\end{bmatrix}\\begin{bmatrix} \\rho_{00} & -\\rho_{01} \\\\ \\rho_{10} & -\\rho_{11} \\end{bmatrix} \\\\\n",
    "& = \\begin{bmatrix} \\rho_{00} & -\\rho_{01} \\\\ -\\rho_{10} & \\rho_{11} \\end{bmatrix}, \\\\\n",
    "Y\\rho Y & = Y\\begin{bmatrix} \\rho_{00} & \\rho_{01} \\\\ \\rho_{10} & \\rho_{11} \\end{bmatrix}\\begin{bmatrix} 0 & -i \\\\ i & 0 \\end{bmatrix} = \\begin{bmatrix} 0 & -i \\\\ i & 0 \\end{bmatrix}\\begin{bmatrix} i\\rho_{01} & -i\\rho_{00} \\\\ i\\rho_{11} & -i\\rho_{10} \\end{bmatrix} \\\\\n",
    "& = \\begin{bmatrix} \\rho_{11} & -\\rho_{10} \\\\ -\\rho_{01} & \\rho_{00} \\end{bmatrix}.\n",
    "\\end{align}"
   ]
  },
  {
   "cell_type": "markdown",
   "id": "422ba717",
   "metadata": {},
   "source": [
    "Com isso, podemos escrever\n",
    "\\begin{align}\n",
    "\\Lambda_d(\\rho) & = K_0\\rho K_0^\\dagger + K_1\\rho K_1^\\dagger + K_2\\rho K_2^\\dagger + K_3\\rho K_3^\\dagger \\\\\n",
    "& = \\frac{4-3p}{4}\\rho + \\frac{p}{4}\\big(X\\rho X + Z\\rho Z + Y\\rho Y\\big) \\\\\n",
    "& = \\frac{4-3p}{4}\\begin{bmatrix} \\rho_{00} & \\rho_{01} \\\\ \\rho_{10} & \\rho_{11} \\end{bmatrix} + \\frac{p}{4}\\Big(\\begin{bmatrix} \\rho_{11} & \\rho_{10} \\\\ \\rho_{01} & \\rho_{00} \\end{bmatrix} + \\begin{bmatrix} \\rho_{00} & -\\rho_{01} \\\\ -\\rho_{10} & \\rho_{11} \\end{bmatrix} +  \\begin{bmatrix} \\rho_{11} & -\\rho_{10} \\\\ -\\rho_{01} & \\rho_{00} \\end{bmatrix}\\big) \\\\\n",
    "& = (1-p/2)\\begin{bmatrix} \\rho_{00} & 0 \\\\ 0 & \\rho_{11} \\end{bmatrix} + (1-p)\\begin{bmatrix} 0 & \\rho_{01} \\\\ \\rho_{10} & 0 \\end{bmatrix} + (p/2) \\begin{bmatrix} \\rho_{11} & 0 \\\\ 0 & \\rho_{00} \\end{bmatrix} \\\\\n",
    "& = (1-p/2)\\begin{bmatrix} \\rho_{00} & 0 \\\\ 0 & \\rho_{11} \\end{bmatrix} + (1-p)\\begin{bmatrix} 0 & \\rho_{01} \\\\ \\rho_{10} & 0 \\end{bmatrix} + (p/2) \\begin{bmatrix} 1-\\rho_{00} & 0 \\\\ 0 & 1-\\rho_{11} \\end{bmatrix} \\\\\n",
    "& = (1-p)\\begin{bmatrix} \\rho_{00} & 0 \\\\ 0 & \\rho_{11} \\end{bmatrix} + (1-p)\\begin{bmatrix} 0 & \\rho_{01} \\\\ \\rho_{10} & 0 \\end{bmatrix} + (p/2) \\begin{bmatrix} 1 & 0 \\\\ 0 & 1 \\end{bmatrix}\\\\\n",
    "& = (1-p)\\rho + p\\frac{\\mathbb{I}}{2} \\\\\n",
    "& = \\begin{bmatrix} ((1-p)\\rho_{00}+p/2) &  (1-p)\\rho_{01} \\\\ (1-p)\\rho_{10} & ((1-p)\\rho_{11}+p/2) \\end{bmatrix},\n",
    "\\end{align}"
   ]
  },
  {
   "cell_type": "markdown",
   "id": "454bfb39",
   "metadata": {},
   "source": [
    "em que usamos\n",
    "\\begin{align}\n",
    "& \\frac{4-3p}{4} + \\frac{p}{4} = \\frac{4-2p}{4} = 1 - \\frac{p}{2}, \\\\\n",
    "& \\frac{4-3p}{4} - \\frac{p}{4} = \\frac{4-4p}{4} = 1 - p.\n",
    "\\end{align}\n",
    "Assim, teremos que a coerência e preditibilidade evoluídas no tempo são dadas por\n",
    "\\begin{align}\n",
    "C_{l_1}(\\Lambda_d (\\rho)) & = 2|\\Lambda_d (\\rho)_{01}| \\\\\n",
    "& = 2|(1-p)\\rho_{01}| = (1-p)2|\\rho_{01}| \\\\\n",
    "& = (1-p)C_{l_1}(\\rho), \\\\\n",
    "P(\\Lambda_d (\\rho)) & = |\\Lambda_d (\\rho)_{00}-\\Lambda_d (\\rho)_{11}| \\\\\n",
    "& = |(1-p)\\rho_{00}+p/2-(1-p)\\rho_{11}-p/2| \\\\\n",
    "& = (1-p)|\\rho_{00}-\\rho_{11}| \\\\\n",
    "& = (1-p)P(\\rho).\n",
    "\\end{align}"
   ]
  },
  {
   "cell_type": "markdown",
   "id": "ca584bb6",
   "metadata": {},
   "source": [
    "#### 1ª forma\n",
    "Vamos definir\n",
    "\\begin{align}\n",
    "|\\Psi_l\\rangle_{AB} & := V_{AB}|l\\rangle_A \\otimes|0\\rangle_B \\\\\n",
    "& = \\sum_{j=0}^3 K_{j}|l\\rangle_A \\otimes|j\\rangle_B \\\\\n",
    "& = K_{0}|l\\rangle_A \\otimes|0\\rangle_B + K_{1}|l\\rangle_A \\otimes|1\\rangle_B + K_{2}|l\\rangle_A \\otimes|2\\rangle_B + K_{3}|l\\rangle_A \\otimes|3\\rangle_B \\\\\n",
    "& = \\sqrt{p_I}\\mathbb{I}|l\\rangle_A \\otimes|0\\rangle_B + \\sqrt{p_X}X|l\\rangle_A \\otimes|1\\rangle_B + \\sqrt{p_Z}Z|l\\rangle_A \\otimes|2\\rangle_B + \\sqrt{p_Y}Y|l\\rangle_A \\otimes|3\\rangle_B \\\\\n",
    "& = \\sqrt{\\frac{4-3p}{4}}|l\\rangle_A \\otimes|0\\rangle_B + \\sqrt{\\frac{p}{4}}\\big(|\\bar{l}\\rangle_A \\otimes|1\\rangle_B + (-1)^l |l\\rangle_A \\otimes|2\\rangle_B + (-1)^l |\\bar{l}\\rangle_A \\otimes|3\\rangle_B\\big).\n",
    "\\end{align}\n",
    "Assim\n",
    "\\begin{align}\n",
    "|\\Psi_0\\rangle_{AB} & = \\sqrt{\\frac{4-3p}{4}}|00\\rangle_{AB} + \\sqrt{\\frac{p}{4}}\\big(|11\\rangle_{AB} + |02\\rangle_{AB} + |13\\rangle_{AB}\\big), \\\\\n",
    " & = \\sqrt{\\frac{4-3p}{4}}|000\\rangle_{Abc} + \\sqrt{\\frac{p}{4}}\\big(|101\\rangle_{Abc} + |010\\rangle_{Abc} + |111\\rangle_{Abc}\\big), \\\\\n",
    "|\\Psi_1\\rangle_{AB} & = \\sqrt{\\frac{4-3p}{4}}|10\\rangle_{AB} + \\sqrt{\\frac{p}{4}}\\big(|01\\rangle_{AB} - |12\\rangle_{AB} - |03\\rangle_{AB}\\big) \\\\\n",
    " & = \\sqrt{\\frac{4-3p}{4}}|100\\rangle_{Abc} + \\sqrt{\\frac{p}{4}}\\big(|001\\rangle_{Abc} - |110\\rangle_{Abc} - |011\\rangle_{Abc}\\big).\n",
    "\\end{align}"
   ]
  },
  {
   "cell_type": "markdown",
   "id": "201e3d3c",
   "metadata": {},
   "source": [
    "Seguindo, teremos que\n",
    "\\begin{align}\n",
    "\\tilde{\\rho}_{AB} & = V_{AB}(\\rho_A \\otimes|0\\rangle_B \\langle 0|)V_{AB}^{\\dagger} \\\\\n",
    "& = \\sum_{l,m=0}^{1}\\rho_{l,m}^A(V_{AB}|l\\rangle_A \\otimes|0\\rangle_B)(\\langle m|_A \\otimes\\langle 0|_B)V_{AB}^{\\dagger} \\\\\n",
    "& = \\sum_{l,m=0}^{1}\\rho_{l,m}^A|\\Psi_l\\rangle_{AB}\\langle\\Psi_m| \\\\\n",
    "& = \\rho_{0,0}^A|\\Psi_0\\rangle_{AB}\\langle\\Psi_0| + \\rho_{0,1}^A|\\Psi_0\\rangle_{AB}\\langle\\Psi_1| + \\rho_{1,0}^A|\\Psi_1\\rangle_{AB}\\langle\\Psi_0| + \\rho_{1,1}^A|\\Psi_1\\rangle_{AB}\\langle\\Psi_1|.\n",
    "\\end{align}"
   ]
  },
  {
   "cell_type": "code",
   "execution_count": 24,
   "id": "30a96849",
   "metadata": {},
   "outputs": [],
   "source": [
    "%run init.ipynb"
   ]
  },
  {
   "cell_type": "code",
   "execution_count": 47,
   "id": "b25533e7",
   "metadata": {},
   "outputs": [],
   "source": [
    "def rho_AB_til(rhoA,p):\n",
    "    rhoAbc = np.zeros((2**3,2**3), dtype=complex)#; print(rhoAbc)\n",
    "    ket0 = np.array([[1],[0]]); ket1 = np.array([[0],[1]])#; print(ket0,ket1)\n",
    "    ket00 = np.kron(ket0,ket0); ket01 = np.kron(ket0,ket1); ket10 = np.kron(ket1,ket0)\n",
    "    ket11 = np.kron(ket1,ket1); #print(ket00,'',ket01,'',ket10,'',ket11)\n",
    "    ket000 = np.kron(ket0,ket00); ket100 = np.kron(ket1,ket00)\n",
    "    ket001 = np.kron(ket0,ket01); ket101 = np.kron(ket1,ket01)\n",
    "    ket010 = np.kron(ket0,ket10); ket110 = np.kron(ket1,ket10)\n",
    "    ket011 = np.kron(ket0,ket11); ket111 = np.kron(ket1,ket11)\n",
    "    Psi0 = math.sqrt((4-3*p)/4)*ket000 + math.sqrt(p/4)*(ket101+ket010+ket111)\n",
    "    Psi1 = math.sqrt((4-3*p)/4)*ket100 + math.sqrt(p/4)*(ket001-ket110-ket011)\n",
    "    rhoAbc = rhoA[0,0]*Psi0@Psi0.T + rhoA[0,1]*Psi0@Psi1.T\\\n",
    "    + rhoA[1,0]*Psi1@Psi0.T + rhoA[1,1]*Psi1@Psi1.T\n",
    "    return rhoAbc"
   ]
  },
  {
   "cell_type": "code",
   "execution_count": 48,
   "id": "13182365",
   "metadata": {},
   "outputs": [],
   "source": [
    "def pTraceL_num(dl, dr, rhoLR):\n",
    "    rhoR = np.zeros((dr, dr), dtype=complex)\n",
    "    for j in range(0, dr):\n",
    "        for k in range(j, dr):\n",
    "            for l in range(0, dl):\n",
    "                rhoR[j,k] += rhoLR[l*dr+j,l*dr+k]\n",
    "            if j != k:\n",
    "                rhoR[k,j] = np.conj(rhoR[j,k])\n",
    "    return rhoR\n",
    "def pTraceR_num(dl, dr, rhoLR):\n",
    "    rhoL = np.zeros((dl, dl), dtype=complex)\n",
    "    for j in range(0, dl):\n",
    "        for k in range(j, dl):\n",
    "            for l in range(0, dr):\n",
    "                rhoL[j,k] += rhoLR[j*dr+l,k*dr+l]\n",
    "        if j != k:\n",
    "            rhoL[k,j] = np.conj(rhoL[j,k])\n",
    "    return rhoL"
   ]
  },
  {
   "cell_type": "code",
   "execution_count": 120,
   "id": "1d05e413",
   "metadata": {},
   "outputs": [
    {
     "name": "stdout",
     "output_type": "stream",
     "text": [
      "[[0.66666667 0.33333333]\n",
      " [0.33333333 0.33333333]]\n",
      "[[0.66666667+0.j 0.33333333+0.j]\n",
      " [0.33333333-0.j 0.33333333+0.j]]\n"
     ]
    }
   ],
   "source": [
    "rhoA = np.array([[2/3,1/3],[1/3,1/3]]); print(rhoA) # estado inicial\n",
    "p = 0.\n",
    "rhoAbc = rho_AB_til(rhoA,p)#; print(rhoAbc)\n",
    "rhoA_ = pTraceR_num(2, 4, rhoAbc); print(rhoA_)"
   ]
  },
  {
   "cell_type": "code",
   "execution_count": 50,
   "id": "cd67b462",
   "metadata": {},
   "outputs": [],
   "source": [
    "def coh_l1(rho):\n",
    "    d = rho.shape[0]; C = 0\n",
    "    for j in range(0,d-1):\n",
    "        for k in range(j+1,d):\n",
    "            C += np.abs(rho[j,k])\n",
    "    return 2*C"
   ]
  },
  {
   "cell_type": "code",
   "execution_count": 51,
   "id": "a24d83a1",
   "metadata": {},
   "outputs": [],
   "source": [
    "def predict_jb(rho):\n",
    "    return abs(rho[0,0]-rho[1,1])"
   ]
  },
  {
   "cell_type": "code",
   "execution_count": 121,
   "id": "12c819b9",
   "metadata": {},
   "outputs": [],
   "source": [
    "p = np.arange(0,1.1,0.1); #print(p)\n",
    "N = len(p)#; print(N)\n",
    "Cl1 = np.zeros(N); Pjb = np.zeros(N)\n",
    "for j in range(0,N):\n",
    "    rhoAbc = rho_AB_til(rhoA,p[j])\n",
    "    rhoA_ = pTraceR_num(2, 4, rhoAbc)\n",
    "    Cl1[j] = coh_l1(rhoA_)\n",
    "    Pjb[j] = predict_jb(rhoA_)"
   ]
  },
  {
   "cell_type": "code",
   "execution_count": 122,
   "id": "7cb83305",
   "metadata": {},
   "outputs": [
    {
     "data": {
      "image/png": "[encoded data removed]",
      "text/plain": [
       "<Figure size 600x400 with 1 Axes>"
      ]
     },
     "metadata": {
      "needs_background": "light"
     },
     "output_type": "display_data"
    }
   ],
   "source": [
    "# calculo feito a partir de rhoAB_til\n",
    "import matplotlib\n",
    "matplotlib.rcParams.update({'font.size':12})\n",
    "plt.figure(figsize = (6,4), dpi = 100)\n",
    "plt.plot(p,Cl1,label=r'$C_{l_1}$')\n",
    "plt.plot(p,Pjb,label=r'$P_{jb}$')\n",
    "plt.xlabel(r'$p$')\n",
    "plt.legend()\n",
    "plt.show()"
   ]
  },
  {
   "cell_type": "code",
   "execution_count": 124,
   "id": "ef6f248b",
   "metadata": {},
   "outputs": [
    {
     "name": "stdout",
     "output_type": "stream",
     "text": [
      "[ 4.25325404e-01  2.62865556e-01  5.26593804e-02 -7.58022640e-01\n",
      " -1.03859100e-01  9.53939173e-06 -6.68904776e-06 -1.44129268e-08]\n",
      "(8,)\n"
     ]
    }
   ],
   "source": [
    "from numpy import linalg\n",
    "w, v = linalg.eig(rhoAbc)\n",
    "print(v[0][:])\n",
    "print(np.shape(v[:][0]))"
   ]
  },
  {
   "cell_type": "code",
   "execution_count": 125,
   "id": "37e3b29c",
   "metadata": {},
   "outputs": [],
   "source": [
    "ket0 = np.array([[1],[0]]); ket1 = np.array([[0],[1]])\n",
    "ket00 = np.kron(ket0,ket0); ket01 = np.kron(ket0,ket1)\n",
    "ket10 = np.kron(ket1,ket0); ket11 = np.kron(ket1,ket1)\n",
    "ket000 = np.kron(ket0,ket00); ket100 = np.kron(ket1,ket00)\n",
    "ket001 = np.kron(ket0,ket01); ket101 = np.kron(ket1,ket01)\n",
    "ket010 = np.kron(ket0,ket10); ket110 = np.kron(ket1,ket10)\n",
    "ket011 = np.kron(ket0,ket11); ket111 = np.kron(ket1,ket11)"
   ]
  },
  {
   "cell_type": "code",
   "execution_count": 151,
   "id": "f2b0a8dd",
   "metadata": {},
   "outputs": [
    {
     "name": "stdout",
     "output_type": "stream",
     "text": [
      "[[1.+0.j 0.+0.j]\n",
      " [0.-0.j 0.+0.j]]\n",
      "[[ 1.00000000e+00+0.00000000e+00j -1.02962437e-25+2.26182199e-26j]\n",
      " [-1.02962437e-25-2.26182199e-26j  1.24642211e-18+0.00000000e+00j]]\n",
      "[[1.00000000e+00+0.j 6.71841572e-25+0.j]\n",
      " [6.71841572e-25-0.j 8.10710192e-18+0.j]]\n",
      "[[ 1.00000000e+00+0.j -2.11995324e-25+0.j]\n",
      " [-2.11995324e-25-0.j  7.57873130e-18+0.j]]\n",
      "[[1.00000000e+00+0.00000000e+00j 5.16987883e-26+1.61558713e-27j]\n",
      " [5.16987883e-26-1.61558713e-27j 3.56022026e-18+0.00000000e+00j]]\n",
      "[[ 1.00000000e+00+0.j -5.23075431e-25+0.j]\n",
      " [-5.23075431e-25-0.j  2.56034722e-17+0.j]]\n",
      "[[1.00000000e+00+0.j 2.70237264e-25+0.j]\n",
      " [2.70237264e-25-0.j 6.31525534e-18+0.j]]\n",
      "[[1.00000000e+00+0.j 3.02985667e-25+0.j]\n",
      " [3.02985667e-25-0.j 8.27803522e-18+0.j]]\n",
      "[[ 1.00000000e+00+0.j -2.75612132e-26+0.j]\n",
      " [-2.75612132e-26-0.j  9.23181439e-19+0.j]]\n",
      "[[1.00000000e+00+0.j 4.93509964e-25+0.j]\n",
      " [4.93509964e-25-0.j 1.88393818e-17+0.j]]\n",
      "[[ 1.00000000e+00+0.j -1.23472181e-32+0.j]\n",
      " [-1.23472181e-32-0.j  2.75513864e-32+0.j]]\n"
     ]
    }
   ],
   "source": [
    "p = np.arange(0,1.1,0.1)\n",
    "N = len(p)\n",
    "Cl1 = np.zeros(N); Pjb = np.zeros(N)\n",
    "for j in range(0,N):\n",
    "    rhoAbc = rho_AB_til(rhoA,p[j])\n",
    "    w, v = linalg.eig(rhoAbc); w = np.abs(w)\n",
    "    PhiAbcdef = math.sqrt(w[0])*np.kron(v.T[0],ket000) + math.sqrt(w[1])*np.kron(v.T[1],ket001)\\\n",
    "                + math.sqrt(w[2])*np.kron(v.T[2],ket010) + math.sqrt(w[3])*np.kron(v.T[3],ket011)\\\n",
    "                + math.sqrt(w[4])*np.kron(v.T[4],ket100) + math.sqrt(w[5])*np.kron(v.T[5],ket101)\\\n",
    "                + math.sqrt(w[6])*np.kron(v.T[6],ket110) + math.sqrt(w[7])*np.kron(v.T[7],ket111)\n",
    "    rhoAbcdef = np.outer(PhiAbcdef,np.conj(PhiAbcdef))#; print(np.shape(rhoAbcdef))\n",
    "    rhoA_ = pTraceR_num(2, 2**5, rhoAbcdef); print(rhoA_)#; print(np.shape(rhoA_))\n",
    "    Cl1[j] = coh_l1(rhoA_)\n",
    "    Pjb[j] = predict_jb(rhoA_)"
   ]
  },
  {
   "cell_type": "code",
   "execution_count": 147,
   "id": "2ea40386",
   "metadata": {},
   "outputs": [
    {
     "data": {
      "image/png": "[encoded data removed]",
      "text/plain": [
       "<Figure size 600x400 with 1 Axes>"
      ]
     },
     "metadata": {
      "needs_background": "light"
     },
     "output_type": "display_data"
    }
   ],
   "source": [
    "# calculo feito a partir da purificacao rhoAB_til\n",
    "import matplotlib\n",
    "matplotlib.rcParams.update({'font.size':12})\n",
    "plt.figure(figsize = (6,4), dpi = 100)\n",
    "plt.plot(p,Cl1,label=r'$C_{l_1}$')\n",
    "plt.plot(p,Pjb,label=r'$P_{jb}$')\n",
    "plt.xlabel(r'$p$')\n",
    "plt.legend()\n",
    "plt.show()"
   ]
  },
  {
   "cell_type": "markdown",
   "id": "289c74c5",
   "metadata": {},
   "source": [
    "#### 2ª forma"
   ]
  },
  {
   "cell_type": "code",
   "execution_count": 129,
   "id": "fc12f944",
   "metadata": {},
   "outputs": [
    {
     "data": {
      "image/png": "[encoded data removed]",
      "text/latex": [
       "$\\displaystyle \\left[ \\left( 0.872677996249965, \\  1, \\  \\left[ \\left[\\begin{matrix}0.85065080835204\\\\0.525731112119134\\end{matrix}\\right]\\right]\\right), \\  \\left( 0.127322003750035, \\  1, \\  \\left[ \\left[\\begin{matrix}-0.525731112119134\\\\0.85065080835204\\end{matrix}\\right]\\right]\\right)\\right]$"
      ],
      "text/plain": [
       "⎡⎛                      ⎡⎡0.85065080835204 ⎤⎤⎞  ⎛                      ⎡⎡-0.52\n",
       "⎢⎜0.872677996249965, 1, ⎢⎢                 ⎥⎥⎟, ⎜0.127322003750035, 1, ⎢⎢     \n",
       "⎣⎝                      ⎣⎣0.525731112119134⎦⎦⎠  ⎝                      ⎣⎣ 0.85\n",
       "\n",
       "5731112119134⎤⎤⎞⎤\n",
       "             ⎥⎥⎟⎥\n",
       "065080835204 ⎦⎦⎠⎦"
      ]
     },
     "execution_count": 129,
     "metadata": {},
     "output_type": "execute_result"
    }
   ],
   "source": [
    "rho_A = Matrix([[2/3,1/3],[1/3,1/3]])\n",
    "rho_A.eigenvects()"
   ]
  },
  {
   "cell_type": "code",
   "execution_count": 138,
   "id": "1b638fb8",
   "metadata": {},
   "outputs": [
    {
     "data": {
      "image/png": "[encoded data removed]",
      "text/latex": [
       "$\\displaystyle \\left( \\left[\\begin{matrix}0.850574712643678\\\\0.524904214559387\\end{matrix}\\right], \\  \\left[\\begin{matrix}-0.528608923884514\\\\0.851181102362205\\end{matrix}\\right]\\right)$"
      ],
      "text/plain": [
       "⎛⎡0.850574712643678⎤  ⎡-0.528608923884514⎤⎞\n",
       "⎜⎢                 ⎥, ⎢                  ⎥⎟\n",
       "⎝⎣0.524904214559387⎦  ⎣0.851181102362205 ⎦⎠"
      ]
     },
     "execution_count": 138,
     "metadata": {},
     "output_type": "execute_result"
    }
   ],
   "source": [
    "rho_A*Matrix([[0.85],[0.52]])/0.87, rho_A*Matrix([[-0.5257],[0.85]])/0.127"
   ]
  },
  {
   "cell_type": "code",
   "execution_count": 152,
   "id": "92be4a92",
   "metadata": {},
   "outputs": [
    {
     "name": "stdout",
     "output_type": "stream",
     "text": [
      "[0.872678 0.127322] [[ 0.85065081 -0.52573111]\n",
      " [ 0.52573111  0.85065081]] [0.85065081 0.52573111] [-0.52573111  0.85065081] (2,)\n"
     ]
    }
   ],
   "source": [
    "w, v = linalg.eig(rhoA) # os autovetores são as colunas de v\n",
    "print(w, v, v.T[0], v.T[1], np.shape(v.T[1])) # nao esta certo! que passa?"
   ]
  },
  {
   "cell_type": "code",
   "execution_count": null,
   "id": "e7eee49b",
   "metadata": {},
   "outputs": [],
   "source": []
  }
 ],
 "metadata": {
  "kernelspec": {
   "display_name": "Python 3 (ipykernel)",
   "language": "python",
   "name": "python3"
  },
  "language_info": {
   "codemirror_mode": {
    "name": "ipython",
    "version": 3
   },
   "file_extension": ".py",
   "mimetype": "text/x-python",
   "name": "python",
   "nbconvert_exporter": "python",
   "pygments_lexer": "ipython3",
   "version": "3.8.11"
  }
 },
 "nbformat": 4,
 "nbformat_minor": 5
}
