{
 "cells": [
  {
   "cell_type": "markdown",
   "id": "08c9dfc7",
   "metadata": {},
   "source": [
    "# Experimento de Afshar: <br> Violação de relações de complementariedade\n"
   ]
  },
  {
   "cell_type": "code",
   "execution_count": null,
   "id": "db65516a",
   "metadata": {},
   "outputs": [],
   "source": []
  },
  {
   "cell_type": "code",
   "execution_count": null,
   "id": "54827113",
   "metadata": {},
   "outputs": [],
   "source": []
  },
  {
   "cell_type": "code",
   "execution_count": null,
   "id": "fadabaf3",
   "metadata": {},
   "outputs": [],
   "source": []
  },
  {
   "cell_type": "code",
   "execution_count": null,
   "id": "af9d90c7",
   "metadata": {},
   "outputs": [],
   "source": []
  },
  {
   "cell_type": "markdown",
   "id": "e78c4c92",
   "metadata": {},
   "source": [
    "### Referências\n",
    "\n",
    "1. https://link.springer.com/article/10.1007/s10701-022-00585-7\n",
    "\n",
    "1. https://arxiv.org/abs/2105.07832"
   ]
  },
  {
   "cell_type": "code",
   "execution_count": null,
   "id": "f61e20bb",
   "metadata": {},
   "outputs": [],
   "source": []
  }
 ],
 "metadata": {
  "kernelspec": {
   "display_name": "Python 3 (ipykernel)",
   "language": "python",
   "name": "python3"
  },
  "language_info": {
   "codemirror_mode": {
    "name": "ipython",
    "version": 3
   },
   "file_extension": ".py",
   "mimetype": "text/x-python",
   "name": "python",
   "nbconvert_exporter": "python",
   "pygments_lexer": "ipython3",
   "version": "3.8.11"
  }
 },
 "nbformat": 4,
 "nbformat_minor": 5
}
