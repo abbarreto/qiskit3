{
 "cells": [
  {
   "cell_type": "markdown",
   "id": "7e2aa54a",
   "metadata": {},
   "source": [
    "# O efeito Hong-Ou-Mandel"
   ]
  },
  {
   "cell_type": "code",
   "execution_count": null,
   "id": "5b42b3b1",
   "metadata": {},
   "outputs": [],
   "source": []
  },
  {
   "cell_type": "code",
   "execution_count": null,
   "id": "35c9208a",
   "metadata": {},
   "outputs": [],
   "source": []
  },
  {
   "cell_type": "code",
   "execution_count": null,
   "id": "06eaa49e",
   "metadata": {},
   "outputs": [],
   "source": []
  },
  {
   "cell_type": "code",
   "execution_count": null,
   "id": "0864656d",
   "metadata": {},
   "outputs": [],
   "source": []
  },
  {
   "cell_type": "markdown",
   "id": "008515b6",
   "metadata": {},
   "source": [
    "### Referências\n",
    "\n",
    "1. S. Chin, J. Kim, and J. Huh, “Digital quantum simulation of boson systems with Jordan-Wigner transformation: Generating Hong-Ou-Mandel dip in quantum computers.” arXiv, Aug. 31, 2022. doi: 10.48550/arXiv.2209.00207.\n",
    "\n",
    "1. N. Pathania and T. Qureshi, “Characterization of Two-Particle Interference by Complementarity,” Phys. Rev. A, vol. 106, no. 1, p. 012213, Jul. 2022, doi: 10.1103/PhysRevA.106.012213.\n"
   ]
  },
  {
   "cell_type": "code",
   "execution_count": null,
   "id": "f64dd488",
   "metadata": {},
   "outputs": [],
   "source": []
  }
 ],
 "metadata": {
  "kernelspec": {
   "display_name": "Python 3 (ipykernel)",
   "language": "python",
   "name": "python3"
  },
  "language_info": {
   "codemirror_mode": {
    "name": "ipython",
    "version": 3
   },
   "file_extension": ".py",
   "mimetype": "text/x-python",
   "name": "python",
   "nbconvert_exporter": "python",
   "pygments_lexer": "ipython3",
   "version": "3.8.11"
  }
 },
 "nbformat": 4,
 "nbformat_minor": 5
}
