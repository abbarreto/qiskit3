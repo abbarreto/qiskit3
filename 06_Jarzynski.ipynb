{
 "cells": [
  {
   "cell_type": "markdown",
   "id": "dcddfbf2",
   "metadata": {},
   "source": [
    "# Igualdade de Jarzynski\n",
    "\n",
    "https://arxiv.org/abs/2207.14313\n",
    "\n",
    "A igualdade de Jarzynski,\n",
    "$$\\langle e^{-\\beta W}\\rangle = e^{-\\beta\\Delta F},$$\n",
    "relaciona o \"trabalho médio\" feito sobre um sistema ou pelo sistema quando este desde o estado térmico $$\\rho_{A}=\\frac{e^{-\\beta_A H_A}}{Z_A}$$\n",
    "para o estado térmico \n",
    "$$\\rho_{B}=\\frac{e^{-\\beta_B H_B}}{Z_B},$$ \n",
    "com \n",
    "$$Z_{X}=Tr\\big(e^{-\\beta H_X}\\big)$$\n",
    "sendo a função de partição para $X=A,B$. Em geral se considera\n",
    "$$\\beta_A=\\beta_B = \\frac{1}{k_B T},$$\n",
    "mas é possível também considerar $\\beta_A \\ne\\beta_B$."
   ]
  },
  {
   "cell_type": "code",
   "execution_count": null,
   "id": "2ad4f10e",
   "metadata": {},
   "outputs": [],
   "source": []
  },
  {
   "cell_type": "code",
   "execution_count": null,
   "id": "3efe3b4d",
   "metadata": {},
   "outputs": [],
   "source": []
  },
  {
   "cell_type": "code",
   "execution_count": null,
   "id": "458dacbc",
   "metadata": {},
   "outputs": [],
   "source": []
  },
  {
   "cell_type": "code",
   "execution_count": 1,
   "id": "e5d58057",
   "metadata": {},
   "outputs": [
    {
     "data": {
      "text/plain": [
       "9.501111111111113"
      ]
     },
     "execution_count": 1,
     "metadata": {},
     "output_type": "execute_result"
    }
   ],
   "source": [
    "(9.6+9.28+9.26+9.85+9.87+9.1+8.97+9.65+9.93)/9"
   ]
  },
  {
   "cell_type": "code",
   "execution_count": null,
   "id": "90a1aaa0",
   "metadata": {},
   "outputs": [],
   "source": []
  }
 ],
 "metadata": {
  "kernelspec": {
   "display_name": "Python 3 (ipykernel)",
   "language": "python",
   "name": "python3"
  },
  "language_info": {
   "codemirror_mode": {
    "name": "ipython",
    "version": 3
   },
   "file_extension": ".py",
   "mimetype": "text/x-python",
   "name": "python",
   "nbconvert_exporter": "python",
   "pygments_lexer": "ipython3",
   "version": "3.8.11"
  }
 },
 "nbformat": 4,
 "nbformat_minor": 5
}
