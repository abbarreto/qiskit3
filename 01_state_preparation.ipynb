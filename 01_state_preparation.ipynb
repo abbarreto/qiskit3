{
 "cells": [
  {
   "cell_type": "markdown",
   "id": "55a88f70",
   "metadata": {},
   "source": [
    "# Preparação de estados\n",
    "\n",
    "## 1 qubit\n",
    "Um estado qualquer de um qubit pode ser escrito como\n",
    "\\begin{align}\n",
    "|\\psi\\rangle & = c_{0}|0\\rangle + c_{1}|1\\rangle \\\\\n",
    "& = |c_{0}|e^{i\\phi_{0}}|0\\rangle + |c_{1}|e^{i\\phi_{1}}|1\\rangle \\\\\n",
    "& = e^{i\\phi_{0}}\\big(|c_{0}||0\\rangle + |c_{1}|e^{i(\\phi_{1}-\\phi_{0})}|1\\rangle\\big) \\\\\n",
    "& = e^{i\\phi_{0}}\\big(\\cos(\\theta/2)|0\\rangle + \\sin(\\theta/2)e^{i\\phi}|1\\rangle\\big) \\\\\n",
    "& = e^{i\\phi_{0}}e^{i\\phi/2}\\big(e^{-i\\phi/2}\\cos(\\theta/2)|0\\rangle + e^{i\\phi/2}\\sin(\\theta/2)|1\\rangle\\big) \\\\\n",
    "& = e^{i(\\phi_{1}+\\phi_{0})/2}\\big(e^{-i\\phi/2}\\cos(\\theta/2)|0\\rangle + e^{i\\phi/2}\\sin(\\theta/2)|1\\rangle\\big) \\\\\n",
    "& = e^{it/2}\\big(e^{-i\\phi/2}\\cos(\\theta/2)|0\\rangle + e^{i\\phi/2}\\sin(\\theta/2)|1\\rangle\\big),\n",
    "\\end{align}\n",
    "em que definimos\n",
    "$$\\phi:=\\phi_{1}-\\phi_{0} \\text{ e } t := \\phi_{1}+\\phi_{0}$$\n",
    "e\n",
    "$$\\cos(\\theta/2):=|c_{0}| \\text{ e } \\sin(\\theta/2)=|c_{1}|,$$\n",
    "pois $0\\le|c_{j}|\\le1$ para $j=0,1$ e $|c_{0}|^{2}+|c_{1}|^{2}=1$. Note que essa definição implica na restrição\n",
    "$$\\theta\\in[0,\\pi].$$ "
   ]
  },
  {
   "cell_type": "markdown",
   "id": "bc9c2b39",
   "metadata": {},
   "source": [
    "A menos de uma fase global, o estado acima é determinado por 2 ângulos em coordenadas esféricas na esfera de Bloch. Fazendo uma rotação $R_{z}(-\\phi)$ zeramos a coordenada $y$ do vetor de Bloch. Na sequência, aplicando uma rotação $R_{y}(-\\theta)$ zeramos a componente $x$ do vetor de Bloch, o levando assim para o eixo $z$, ou seja, obtendo assim o estado $|0\\rangle$.\n",
    "\n",
    "De forma geral, uma rotação por um ângulo $\\theta$ em torno da direção $\\hat{n}$ é implementada usando\n",
    "$$R_{\\hat{n}}(\\theta) = e^{-i\\theta \\hat{n}\\cdot\\vec{\\sigma}/2} = \\cos(\\theta/2)\\mathbb{I} - i\\sin(\\theta/2)\\hat{n}\\cdot\\vec{\\sigma}.$$\n",
    "Teremos assim os casos particulares\n",
    "\\begin{align}\n",
    "& R_{z}(\\theta) = \\cos(\\theta/2)\\mathbb{I} - i\\sin(\\theta/2)\\sigma_{z} = \\begin{bmatrix} e^{-i\\theta/2} & 0 \\\\ 0 & e^{i\\theta/2} \\end{bmatrix}, \\\\\n",
    "& R_{y}(\\theta) = \\cos(\\theta/2)\\mathbb{I} - i\\sin(\\theta/2)\\sigma_{y} = \\begin{bmatrix} \\cos(\\theta/2) & -\\sin(\\theta/2) \\\\ \\sin(\\theta/2) & \\cos(\\theta/2) \\end{bmatrix}.\n",
    "\\end{align}\n",
    "Ou seja\n",
    "\\begin{align}\n",
    "& R_{z}(\\theta)|0\\rangle = e^{-i\\theta/2}|0\\rangle, \\\\\n",
    "& R_{z}(\\theta)|1\\rangle = e^{i\\theta/2}|1\\rangle, \\\\\n",
    "& R_{y}(\\theta)|0\\rangle = \\cos(\\theta/2)|0\\rangle+\\sin(\\theta/2)|1\\rangle, \\\\\n",
    "& R_{y}(\\theta)|1\\rangle = -\\sin(\\theta/2)|0\\rangle+\\cos(\\theta/2)|1\\rangle.\n",
    "\\end{align}"
   ]
  },
  {
   "cell_type": "markdown",
   "id": "ba01d617",
   "metadata": {},
   "source": [
    "Com isso, vem que\n",
    "\\begin{align}\n",
    "R_{z}(-\\phi)|\\psi\\rangle & = e^{it/2}\\big(e^{-i\\phi/2}\\cos(\\theta/2)R_{z}(-\\phi)|0\\rangle + e^{i\\phi/2}\\sin(\\theta/2)R_{z}(-\\phi)|1\\rangle\\big) \\\\\n",
    "& = e^{it/2}\\big(e^{-i\\phi/2}\\cos(\\theta/2)e^{i\\phi/2}|0\\rangle + e^{i\\phi/2}\\sin(\\theta/2)e^{-i\\phi/2}|1\\rangle\\big) \\\\\n",
    "& = e^{it/2}\\big(\\cos(\\theta/2)|0\\rangle + \\sin(\\theta/2)|1\\rangle\\big), \\\\\n",
    "R_{y}(-\\theta)R_{z}(-\\phi)|\\psi\\rangle & = e^{it/2}\\big(\\cos(\\theta/2)R_{y}(-\\theta)|0\\rangle + \\sin(\\theta/2)R_{y}(-\\theta)|1\\rangle\\big) \\\\\n",
    "& = e^{it/2}\\big(\\cos(\\theta/2)\\big(\\cos(\\theta/2)|0\\rangle-\\sin(\\theta/2)|1\\rangle\\big) + \\sin(\\theta/2)\\big(\\sin(\\theta/2)|0\\rangle+\\cos(\\theta/2)|1\\rangle\\big)\\big) \\\\\n",
    "& = e^{it/2}|0\\rangle.\n",
    "\\end{align}\n",
    "Por conseguinte\n",
    "\\begin{align}\n",
    "& |0\\rangle = e^{-it/2}R_{y}(-\\theta)R_{z}(-\\phi)|\\psi\\rangle, \\\\\n",
    "& |\\psi\\rangle = e^{it/2}R_{z}(\\phi)R_{y}(\\theta)|0\\rangle =  R_{z}(\\phi)R_{y}(\\theta)XP(t/2)X|0\\rangle,\n",
    "\\end{align}\n",
    "com \n",
    "\\begin{align}\n",
    "& \\theta=2\\arccos(|c_{0}|),\\\\\n",
    "& \\phi=\\phi_{1}-\\phi_{0}, \\\\\n",
    "& t=\\phi_{1}+\\phi_{0}, \\\\\n",
    "& \\phi_{j} = \\arctan(\\Im(c_{j})/\\Re(c_{j})),\\ j=0,1.\n",
    "\\end{align}"
   ]
  },
  {
   "cell_type": "markdown",
   "id": "e14d63f5",
   "metadata": {},
   "source": [
    "Vale observar que se os coeficientes são reais, i.e.,\n",
    "$$|\\psi\\rangle = r_{0}|0\\rangle+r_{1}|1\\rangle,$$\n",
    "então podemos prepará-lo usando\n",
    "$$|\\psi\\rangle = R_{y}(\\theta)|0\\rangle$$\n",
    "com\n",
    "$$\\theta = 2\\arccos(r_0) \\text{ ou } \\theta = 2\\arcsin(r_0).$$"
   ]
  },
  {
   "cell_type": "code",
   "execution_count": null,
   "id": "961954c7",
   "metadata": {},
   "outputs": [],
   "source": []
  },
  {
   "cell_type": "markdown",
   "id": "0719e336",
   "metadata": {},
   "source": [
    "## 2 qubits\n",
    "Estado puro geral de 2 qubits\n",
    "\\begin{align}\n",
    "|\\psi\\rangle & = c_{00}|00\\rangle + c_{01}|01\\rangle + c_{10}|10\\rangle + c_{11}|11\\rangle \\\\\n",
    "& = |0\\rangle\\big(c_{00}|0\\rangle + c_{01}|1\\rangle\\big) + |1\\rangle\\big(c_{10}|0\\rangle + c_{11}|1\\rangle\\big) \\\\\n",
    "& =: r_{0}|0\\rangle|\\psi_{0}\\rangle + r_{1}|1\\rangle|\\psi_1\\rangle,\n",
    "\\end{align}\n",
    "com\n",
    "\\begin{align}\n",
    "& r_{0}^{2} := |c_{00}|^{2} + |c_{01}|^{2}, \\\\\n",
    "& r_{1}^{2} := |c_{10}|^{2} + |c_{11}|^{2}.\n",
    "\\end{align}\n",
    "Assim como fizemos para 1 qubit, aqui podemos escrever\n",
    "\\begin{align}\n",
    "|\\psi_0\\rangle & = r_{0}^{-1}\\big(c_{00}|0\\rangle + c_{01}|1\\rangle\\big) \\\\\n",
    "& = r_{0}^{-1}\\big(|c_{00}|e^{i\\phi_{00}}|0\\rangle + |c_{01}|e^{i\\phi_{01}}|1\\rangle\\big) \\\\\n",
    "& = r_{0}^{-1}e^{it_{0}/2}\\big(|c_{00}|e^{-i\\phi_{0}/2}|0\\rangle + |c_{01}|e^{i\\phi_{0}/2}|1\\rangle\\big),\n",
    "\\end{align}\n",
    "com\n",
    "$$t_0 := \\phi_{01}+\\phi_{00} \\text{ e } \\phi_{0}  := \\phi_{01}-\\phi_{00}.$$\n",
    "Teremos assim que\n",
    "\\begin{align}\n",
    "R_{z}(-\\phi_0)|\\psi_0\\rangle & = r_{0}^{-1}e^{it_{0}/2}\\big(|c_{00}|e^{-i\\phi_{0}/2}R_{z}(-\\phi_0)|0\\rangle + |c_{01}|e^{i\\phi_{0}/2}R_{z}(-\\phi_0)|1\\rangle\\big) \\\\\n",
    "& = r_{0}^{-1}e^{it_{0}/2}\\big(|c_{00}|e^{-i\\phi_{0}/2}e^{i\\phi_{0}/2}|0\\rangle + |c_{01}|e^{i\\phi_{0}/2}e^{-i\\phi_{0}/2}|1\\rangle\\big) \\\\\n",
    "& = r_{0}^{-1}e^{it_{0}/2}\\big(|c_{00}||0\\rangle + |c_{01}||1\\rangle\\big).\n",
    "\\end{align}"
   ]
  },
  {
   "cell_type": "markdown",
   "id": "de4d1881",
   "metadata": {},
   "source": [
    "Não obstante, devemos notar que neste caso\n",
    "$$|c_{00}|^{2} + |c_{01}|^{2} =: r_{0}^{2}\\le 1.$$\n",
    "Vamos escrever então\n",
    "$$|c_{00}| = r_{0}\\cos(\\theta_0/2) \\text{ e } |c_{01}| = r_{0}\\sin(\\theta_0/2).$$\n",
    "Com isso, vem que\n",
    "\\begin{align}\n",
    "R_{z}(-\\phi_0)|\\psi_0\\rangle & = r_{0}^{-1}r_{0}e^{it_{0}/2}\\big(\\cos(\\theta_0/2)|0\\rangle + \\sin(\\theta_0/2)|1\\rangle\\big) \\\\\n",
    "& = e^{it_{0}/2}\\big(\\cos(\\theta_0/2)|0\\rangle + \\sin(\\theta_0/2)|1\\rangle\\big).\n",
    "\\end{align}\n",
    "Assim\n",
    "\\begin{align}\n",
    "& R_{y}(-\\theta_0)R_{z}(-\\phi_0)|\\psi_0\\rangle \\\\\n",
    "& = e^{it_{0}/2}\\big(\\cos(\\theta_0/2)R_{y}(-\\theta_0)|0\\rangle + \\sin(\\theta_0/2)R_{y}(-\\theta_0)|1\\rangle\\big) \\\\\n",
    "& = e^{it_{0}/2}\\big(\\cos(\\theta_0/2)\\big(\\cos(\\theta_0/2)|0\\rangle-\\sin(\\theta_0/2)|1\\rangle\\big) + \\sin(\\theta_0/2)\\big(\\sin(\\theta_0/2)|0\\rangle+\\cos(\\theta_0/2)|1\\rangle\\big)\\big) \\\\\n",
    "& = e^{it_{0}/2}|0\\rangle.\n",
    "\\end{align}\n",
    "Portanto, se $r_{0}\\ne 0$, teremos\n",
    "\\begin{align}\n",
    "|0\\rangle & = e^{-it_{0}/2}R_{y}(-\\theta_0)R_{z}(-\\phi_0)|\\psi_0\\rangle, \\\\\n",
    "|\\psi_0\\rangle & = e^{it_{0}/2}R_{z}(\\phi_0)R_{y}(\\theta_0)|0\\rangle \\\\\n",
    "& =: U_{0}|0\\rangle,\n",
    "\\end{align}\n",
    "com\n",
    "\\begin{align}\n",
    "& t_{0}=\\phi_{01}+\\phi_{00}, \\\\\n",
    "& \\phi_{0}=\\phi_{01}-\\phi_{00}, \\\\\n",
    "\\end{align}"
   ]
  },
  {
   "cell_type": "markdown",
   "id": "6d2bbea8",
   "metadata": {},
   "source": [
    "Analogamente, pode-se mostrar que\n",
    "\\begin{align}\n",
    "|0\\rangle & = e^{-it_{1}/2}R_{y}(-\\theta_1)R_{z}(-\\phi_1)|\\psi_1\\rangle, \\\\\n",
    "|\\psi_1\\rangle & = r_{1}^{-1}\\big(c_{10}|0\\rangle + c_{11}|1\\rangle\\big) \\\\\n",
    "& = e^{it_{1}/2}R_{z}(\\phi_1)R_{y}(\\theta_1)|0\\rangle \\\\\n",
    "& =: U_{1}|0\\rangle,\n",
    "\\end{align}\n",
    "com\n",
    "\\begin{align}\n",
    "& t_{1}=\\phi_{11}+\\phi_{10}, \\\\\n",
    "& \\phi_{1}=\\phi_{11}-\\phi_{10}.\n",
    "\\end{align}\n",
    "\n",
    "Notemos que\n",
    "$$r_{0}^{2}+r_{1}^{2} = |c_{00}|^{2} + |c_{01}|^{2} + |c_{10}|^{2} + |c_{11}|^{2} =1.$$\n",
    "Como \n",
    "$$0\\le r_0,r_1\\le 1$$\n",
    "podemos fazer\n",
    "$$r_0 =: \\cos(\\xi/2) \\text{ e } r_1 =: \\sin(\\xi/2).$$\n",
    "Como\n",
    "$$|\\psi\\rangle = r_{0}|0\\rangle\\otimes U_{0}|0\\rangle + r_{1}|1\\rangle\\otimes U_{1}|0\\rangle,$$\n",
    "podemos preparar qualquer estado de 2 qubits usando operações unitárias controladas como segue\n",
    "$$|\\psi\\rangle = C_{U_0}^{0_0\\rightarrow 1}C_{U_1}^{0_1\\rightarrow 1}\\big(R_y(\\xi)\\otimes\\mathbb{I}\\big)\\big(|0\\rangle\\otimes|0\\rangle\\big)$$\n",
    "com\n",
    "\\begin{align}\n",
    "& U_0 = e^{it_{0}/2}R_{z}(\\phi_0)R_{y}(\\theta_0), \\\\\n",
    "& U_1 = e^{it_{1}/2}R_{z}(\\phi_1)R_{y}(\\theta_1).\n",
    "\\end{align}\n",
    "\n",
    "Vale observar que para __coeficientes reais__, podemos usar\n",
    "\\begin{align}\n",
    "& U_0 = R_{y}(\\theta_0), \\\\\n",
    "& U_1 = R_{y}(\\theta_1).\n",
    "\\end{align}"
   ]
  },
  {
   "cell_type": "code",
   "execution_count": null,
   "id": "93631054",
   "metadata": {},
   "outputs": [],
   "source": []
  },
  {
   "cell_type": "markdown",
   "id": "3f47475a",
   "metadata": {},
   "source": [
    "## 3 qubits\n",
    "\n",
    "Começamos olhando para\n",
    "\\begin{align}\n",
    "|\\psi\\rangle & = c_{000}|000\\rangle + c_{001}|001\\rangle + c_{010}|010\\rangle + c_{011}|011\\rangle + c_{100}|100\\rangle + c_{101}|101\\rangle + c_{110}|110\\rangle + c_{111}|111\\rangle \\\\\n",
    "& = |00\\rangle\\big(c_{000}|0\\rangle + c_{001}|1\\rangle\\big) + |01\\rangle\\big(c_{010}|0\\rangle + c_{011}|1\\rangle\\big) + |10\\rangle\\big(c_{100}|0\\rangle + c_{101}|1\\rangle\\big) + |11\\rangle\\big(c_{110}|0\\rangle + c_{111}|1\\rangle\\big) \\\\\n",
    "& = r_{00}|00\\rangle|\\psi_{00}\\rangle + r_{01}|01\\rangle|\\psi_{01}\\rangle + r_{10}|10\\rangle|\\psi_{10}\\rangle + r_{11}|11\\rangle|\\psi_{11}\\rangle \\\\\n",
    "\\end{align}\n",
    "em que definimos\n",
    "\\begin{align}\n",
    "& |\\psi_{00}\\rangle := r_{00}^{-1}\\big(c_{000}|0\\rangle + c_{001}|1\\rangle\\big), \\\\\n",
    "& |\\psi_{01}\\rangle := r_{01}^{-1}\\big(c_{010}|0\\rangle + c_{011}|1\\rangle\\big), \\\\\n",
    "& |\\psi_{10}\\rangle := r_{10}^{-1}\\big(c_{100}|0\\rangle + c_{101}|1\\rangle\\big), \\\\\n",
    "& |\\psi_{11}\\rangle := r_{11}^{-1}\\big(c_{110}|0\\rangle + c_{111}|1\\rangle\\big),\n",
    "\\end{align}\n",
    "com\n",
    "\\begin{align}\n",
    "& r_{00}^{2} := |c_{000}|^{2} + |c_{001}|^{2}, \\\\\n",
    "& r_{01}^{2} := |c_{010}|^{2} + |c_{011}|^{2}, \\\\\n",
    "& r_{10}^{2} := |c_{100}|^{2} + |c_{101}|^{2}, \\\\\n",
    "& r_{11}^{2} := |c_{110}|^{2} + |c_{111}|^{2}.\n",
    "\\end{align}\n"
   ]
  },
  {
   "cell_type": "markdown",
   "id": "e4181be8",
   "metadata": {},
   "source": [
    "3200/3"
   ]
  },
  {
   "cell_type": "markdown",
   "id": "151d4dc9",
   "metadata": {},
   "source": [
    "#"
   ]
  },
  {
   "cell_type": "code",
   "execution_count": 2,
   "id": "916a2ec6",
   "metadata": {},
   "outputs": [
    {
     "data": {
      "text/plain": [
       "26.0"
      ]
     },
     "execution_count": 2,
     "metadata": {},
     "output_type": "execute_result"
    }
   ],
   "source": [
    "78/3"
   ]
  },
  {
   "cell_type": "code",
   "execution_count": null,
   "id": "ecd04e54",
   "metadata": {},
   "outputs": [],
   "source": []
  },
  {
   "cell_type": "markdown",
   "id": "e17e5d38",
   "metadata": {},
   "source": [
    "### Referências\n",
    "\n",
    "1. https://qiskit.org/documentation/tutorials/circuits/3_summary_of_quantum_operations.html\n",
    "\n",
    "1. V. V. Shende, S. S. Bullock, and I. L. Markov, “Synthesis of Quantum Logic Circuits,” IEEE Trans. Comput.-Aided Des. Integr. Circuits Syst., vol. 25, no. 6, pp. 1000–1010, Jun. 2006, doi: 10.1109/TCAD.2005.855930."
   ]
  },
  {
   "cell_type": "code",
   "execution_count": null,
   "id": "d32d46d5",
   "metadata": {},
   "outputs": [],
   "source": []
  },
  {
   "cell_type": "code",
   "execution_count": null,
   "id": "76423a23",
   "metadata": {},
   "outputs": [],
   "source": []
  }
 ],
 "metadata": {
  "kernelspec": {
   "display_name": "Python 3 (ipykernel)",
   "language": "python",
   "name": "python3"
  },
  "language_info": {
   "codemirror_mode": {
    "name": "ipython",
    "version": 3
   },
   "file_extension": ".py",
   "mimetype": "text/x-python",
   "name": "python",
   "nbconvert_exporter": "python",
   "pygments_lexer": "ipython3",
   "version": "3.8.8"
  }
 },
 "nbformat": 4,
 "nbformat_minor": 5
}
