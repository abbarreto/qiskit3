{
 "cells": [
  {
   "cell_type": "markdown",
   "id": "b1ec452b",
   "metadata": {},
   "source": [
    "# Mitigação de erros de medidas\n",
    "\n",
    "Consideremos experimentos em um qubit. Consideremos a preparação dos estados da base computacional, $|0\\rangle$ ou $|1\\rangle$, e a imediata medida subsequente, na base computacional. Como uma primeira aproximação, consideremos que os estados da base computacional são modificados pelos erros de preparação e portas e pelo ruído, sem modificar a pureza/entropia do estado, como segue\n",
    "\\begin{align}\n",
    "& |0\\rangle\\ \\rightarrow\\ R_{00}|0\\rangle + R_{10}|1\\rangle =: |r_0\\rangle, \\\\\n",
    "& |1\\rangle\\ \\rightarrow\\ R_{01}|0\\rangle + R_{11}|1\\rangle =: |r_1\\rangle.\n",
    "\\end{align}\n",
    "Podemos dizer então que a base computacional é trasformada pela __matriz de ruído__\n",
    "$$R = \\begin{bmatrix}R_{00}&R_{01} \\\\ R_{10}&R_{11}\\end{bmatrix}$$\n",
    "como segue\n",
    "\\begin{align}\n",
    "& R|0\\rangle = \\begin{bmatrix}R_{00}&R_{01} \\\\ R_{10}&R_{11}\\end{bmatrix}\\begin{bmatrix}1 \\\\ 0\\end{bmatrix} = \\begin{bmatrix}R_{00} \\\\ R_{10}\\end{bmatrix} = |r_0\\rangle, \\\\ \n",
    "& R|1\\rangle = \\begin{bmatrix}R_{00}&R_{01} \\\\ R_{10}&R_{11}\\end{bmatrix}\\begin{bmatrix}0 \\\\ 1\\end{bmatrix} = \\begin{bmatrix}R_{01} \\\\ R_{11}\\end{bmatrix} = |r_1\\rangle. \n",
    "\\end{align}\n",
    "Nesse caso, um estado puro qualquer será transformado por\n",
    "$$R|\\psi\\rangle = R(c_0|0\\rangle+c_1|1\\rangle) = c_0|r_0\\rangle+c_1|r_1\\rangle =: |r\\rangle.$$"
   ]
  },
  {
   "cell_type": "markdown",
   "id": "326ca3dd",
   "metadata": {},
   "source": [
    "Se $\\det(R)\\ne 0$, a matriz de ruído possui inversa e podemos reverter o seu efeito:\n",
    "\\begin{align}\n",
    "& |0\\rangle = R^{-1}|r_0\\rangle, \\\\\n",
    "& |1\\rangle = R^{-1}|r_1\\rangle.\n",
    "\\end{align}\n",
    "Ou seja\n",
    "$$|\\psi\\rangle = R^{-1}|r\\rangle.$$\n",
    "\n",
    "De forma análoga, para um operador densidade o efeito do ruído será\n",
    "\\begin{align}\n",
    "& \\rho = \\rho_{00}|0\\rangle\\langle 0| + \\rho_{01}|0\\rangle\\langle 1| + \\rho_{10}|1\\rangle\\langle 0| + \\rho_{11}|1\\rangle\\langle 1| \\\\\n",
    "& \\downarrow \\\\\n",
    "&  \\rho_{00}|r_0\\rangle\\langle r_0| + \\rho_{01}|r_0\\rangle\\langle r_1| + \\rho_{10}|r_1\\rangle\\langle r_0| + \\rho_{11}|r_1\\rangle\\langle r_1| =: \\rho_r = R\\rho R^\\dagger,\n",
    "\\end{align}\n",
    "em que assumimos que $R$ pode ser uma matriz complexa. Nesse caso reverteremos o efeito do ruído aplicando\n",
    "$$\\rho = R^{-1}\\rho_r (R^\\dagger)^{-1}.$$"
   ]
  },
  {
   "cell_type": "markdown",
   "id": "759e6810",
   "metadata": {},
   "source": [
    "Com relação a experimentos, o que temos que fazer então é preparar todos os estados da base computacional, $|j\\rangle$, e medir na base computacional para obter $|r_j\\rangle$. A matriz de ruído é então dada por\n",
    "$$R = \\big[|r_0\\rangle\\ |r_1\\rangle\\big].$$\n",
    "Como tomografia de estados é muito custosa, como uma primeira melhoria reconstruiremos $R$ somente a partir das contagens das medidas. Ou seja, os elementos da matriz de ruído, $R_{jk}$, serão simplesmente as amplitudades de probabilidade de transição $|k\\rangle\\rightarrow|j\\rangle$. Ou seja, para o estado preparado $|j\\rangle$, se a contagem do estado $|k\\rangle$ é $N_{kj}$ e o número total de medidas (shots) é $N$, teremos que\n",
    "$$R_{kj} = \\sqrt{Pr(|k\\rangle\\rightarrow|j\\rangle)} = \\sqrt{\\frac{N_{kj}}{N}}.$$"
   ]
  },
  {
   "cell_type": "code",
   "execution_count": 83,
   "id": "0431c87b",
   "metadata": {},
   "outputs": [
    {
     "name": "stderr",
     "output_type": "stream",
     "text": [
      "ibmqfactory.load_account:WARNING:2022-12-19 17:04:47,326: Credentials are already in use. The existing account in the session will be replaced.\n"
     ]
    }
   ],
   "source": [
    "import qiskit\n",
    "from qiskit import *\n",
    "nshots = 8192\n",
    "IBMQ.load_account()\n",
    "provider= qiskit.IBMQ.get_provider(hub='ibm-q-research-2',group='federal-uni-sant-1',project='main')\n",
    "#provider = qiskit.IBMQ.get_provider(hub='ibm-q', group='open', project='main')\n",
    "device = provider.get_backend('ibmq_quito')\n",
    "simulator = Aer.get_backend('qasm_simulator')\n",
    "from qiskit_ibm_runtime import QiskitRuntimeService, Session, Sampler, Options"
   ]
  },
  {
   "cell_type": "code",
   "execution_count": 76,
   "id": "8ef113fe",
   "metadata": {},
   "outputs": [
    {
     "name": "stdout",
     "output_type": "stream",
     "text": [
      "\n",
      " Cloud backends:\n",
      "ibmq_qasm_simulator\n",
      "ibmq_armonk\n",
      "ibmq_santiago\n",
      "ibmq_bogota\n",
      "ibmq_lima\n",
      "ibmq_belem\n",
      "ibmq_quito\n",
      "simulator_statevector\n",
      "simulator_mps\n",
      "simulator_extended_stabilizer\n",
      "simulator_stabilizer\n",
      "ibmq_jakarta\n",
      "ibmq_manila\n",
      "ibm_lagos\n",
      "ibm_nairobi\n",
      "ibm_perth\n",
      "ibm_oslo\n",
      "\n",
      " Local backends: \n",
      "aer_simulator\n",
      "aer_simulator_statevector\n",
      "aer_simulator_density_matrix\n",
      "aer_simulator_stabilizer\n",
      "aer_simulator_matrix_product_state\n",
      "aer_simulator_extended_stabilizer\n",
      "aer_simulator_unitary\n",
      "aer_simulator_superop\n",
      "qasm_simulator\n",
      "statevector_simulator\n",
      "unitary_simulator\n",
      "pulse_simulator\n"
     ]
    }
   ],
   "source": [
    "#from qiskit import IBMQ, Aer\n",
    "#provider = IBMQ.load_account()\n",
    "available_cloud_backends = provider.backends() \n",
    "print('\\n Cloud backends:')\n",
    "for i in available_cloud_backends: print(i)\n",
    "\n",
    "available_local_backends = Aer.backends() \n",
    "print('\\n Local backends: ')\n",
    "for i in available_local_backends: print(i)"
   ]
  },
  {
   "cell_type": "code",
   "execution_count": 84,
   "id": "1bc88ae2",
   "metadata": {},
   "outputs": [],
   "source": [
    "QiskitRuntimeService.save_account(channel='ibm_quantum', \n",
    "                                  token='17efde49764005e8eeb00dd065d44bc208778be72d44b475e508d20504818786f842988b0e506515c78debdd1b0c4b570717863db5e4f85569fb43c4c8626b8a',\n",
    "                                  overwrite=True)\n",
    "service = QiskitRuntimeService(channel='ibm_quantum',instance='ibm-q/open/main')\n",
    "#service = QiskitRuntimeService(channel='ibm_quantum',instance='ibm-q-research-2/federal-uni-sant-1/main')"
   ]
  },
  {
   "cell_type": "code",
   "execution_count": 85,
   "id": "29e42767",
   "metadata": {},
   "outputs": [
    {
     "ename": "QiskitBackendNotFoundError",
     "evalue": "'Backend ibmq_quito cannot be found in any hub/group/project for this account.'",
     "output_type": "error",
     "traceback": [
      "\u001b[0;31m---------------------------------------------------------------------------\u001b[0m",
      "\u001b[0;31mQiskitBackendNotFoundError\u001b[0m                Traceback (most recent call last)",
      "Input \u001b[0;32mIn [85]\u001b[0m, in \u001b[0;36m<cell line: 16>\u001b[0;34m()\u001b[0m\n\u001b[1;32m     16\u001b[0m \u001b[38;5;28;01mwith\u001b[39;00m Session(service\u001b[38;5;241m=\u001b[39mservice, backend\u001b[38;5;241m=\u001b[39mdevice):\n\u001b[1;32m     17\u001b[0m     sampler \u001b[38;5;241m=\u001b[39m Sampler()\n\u001b[0;32m---> 18\u001b[0m     job \u001b[38;5;241m=\u001b[39m \u001b[43msampler\u001b[49m\u001b[38;5;241;43m.\u001b[39;49m\u001b[43mrun\u001b[49m\u001b[43m(\u001b[49m\u001b[43m[\u001b[49m\u001b[43mqc0\u001b[49m\u001b[43m,\u001b[49m\u001b[43mqc1\u001b[49m\u001b[43m]\u001b[49m\u001b[43m)\u001b[49m\n\u001b[1;32m     19\u001b[0m     \u001b[38;5;66;03m#print(job.job_id())\u001b[39;00m\n\u001b[1;32m     20\u001b[0m result \u001b[38;5;241m=\u001b[39m job\u001b[38;5;241m.\u001b[39mresult()\n",
      "File \u001b[0;32m~/opt/anaconda3/lib/python3.8/site-packages/qiskit_ibm_runtime/sampler.py:214\u001b[0m, in \u001b[0;36mSampler.run\u001b[0;34m(self, circuits, parameter_values, **kwargs)\u001b[0m\n\u001b[1;32m    212\u001b[0m \u001b[38;5;66;03m# To bypass base class merging of options.\u001b[39;00m\n\u001b[1;32m    213\u001b[0m user_kwargs \u001b[38;5;241m=\u001b[39m {\u001b[38;5;124m\"\u001b[39m\u001b[38;5;124m_user_kwargs\u001b[39m\u001b[38;5;124m\"\u001b[39m: kwargs}\n\u001b[0;32m--> 214\u001b[0m \u001b[38;5;28;01mreturn\u001b[39;00m \u001b[38;5;28;43msuper\u001b[39;49m\u001b[43m(\u001b[49m\u001b[43m)\u001b[49m\u001b[38;5;241;43m.\u001b[39;49m\u001b[43mrun\u001b[49m\u001b[43m(\u001b[49m\n\u001b[1;32m    215\u001b[0m \u001b[43m    \u001b[49m\u001b[43mcircuits\u001b[49m\u001b[38;5;241;43m=\u001b[39;49m\u001b[43mcircuits\u001b[49m\u001b[43m,\u001b[49m\n\u001b[1;32m    216\u001b[0m \u001b[43m    \u001b[49m\u001b[43mparameter_values\u001b[49m\u001b[38;5;241;43m=\u001b[39;49m\u001b[43mparameter_values\u001b[49m\u001b[43m,\u001b[49m\n\u001b[1;32m    217\u001b[0m \u001b[43m    \u001b[49m\u001b[38;5;241;43m*\u001b[39;49m\u001b[38;5;241;43m*\u001b[39;49m\u001b[43muser_kwargs\u001b[49m\u001b[43m,\u001b[49m\n\u001b[1;32m    218\u001b[0m \u001b[43m\u001b[49m\u001b[43m)\u001b[49m\n",
      "File \u001b[0;32m~/opt/anaconda3/lib/python3.8/site-packages/qiskit/primitives/base/base_sampler.py:184\u001b[0m, in \u001b[0;36mBaseSampler.run\u001b[0;34m(self, circuits, parameter_values, **run_options)\u001b[0m\n\u001b[1;32m    181\u001b[0m run_opts \u001b[38;5;241m=\u001b[39m copy(\u001b[38;5;28mself\u001b[39m\u001b[38;5;241m.\u001b[39moptions)\n\u001b[1;32m    182\u001b[0m run_opts\u001b[38;5;241m.\u001b[39mupdate_options(\u001b[38;5;241m*\u001b[39m\u001b[38;5;241m*\u001b[39mrun_options)\n\u001b[0;32m--> 184\u001b[0m \u001b[38;5;28;01mreturn\u001b[39;00m \u001b[38;5;28;43mself\u001b[39;49m\u001b[38;5;241;43m.\u001b[39;49m\u001b[43m_run\u001b[49m\u001b[43m(\u001b[49m\n\u001b[1;32m    185\u001b[0m \u001b[43m    \u001b[49m\u001b[43mcircuits\u001b[49m\u001b[43m,\u001b[49m\n\u001b[1;32m    186\u001b[0m \u001b[43m    \u001b[49m\u001b[43mparameter_values\u001b[49m\u001b[43m,\u001b[49m\n\u001b[1;32m    187\u001b[0m \u001b[43m    \u001b[49m\u001b[38;5;241;43m*\u001b[39;49m\u001b[38;5;241;43m*\u001b[39;49m\u001b[43mrun_opts\u001b[49m\u001b[38;5;241;43m.\u001b[39;49m\u001b[38;5;18;43m__dict__\u001b[39;49m\u001b[43m,\u001b[49m\n\u001b[1;32m    188\u001b[0m \u001b[43m\u001b[49m\u001b[43m)\u001b[49m\n",
      "File \u001b[0;32m~/opt/anaconda3/lib/python3.8/site-packages/qiskit_ibm_runtime/sampler.py:267\u001b[0m, in \u001b[0;36mSampler._run\u001b[0;34m(self, circuits, parameter_values, **kwargs)\u001b[0m\n\u001b[1;32m    264\u001b[0m logger\u001b[38;5;241m.\u001b[39minfo(\u001b[38;5;124m\"\u001b[39m\u001b[38;5;124mSubmitting job using options \u001b[39m\u001b[38;5;132;01m%s\u001b[39;00m\u001b[38;5;124m\"\u001b[39m, combined)\n\u001b[1;32m    265\u001b[0m inputs\u001b[38;5;241m.\u001b[39mupdate(Options\u001b[38;5;241m.\u001b[39m_get_program_inputs(combined))\n\u001b[0;32m--> 267\u001b[0m \u001b[38;5;28;01mreturn\u001b[39;00m \u001b[38;5;28;43mself\u001b[39;49m\u001b[38;5;241;43m.\u001b[39;49m\u001b[43m_session\u001b[49m\u001b[38;5;241;43m.\u001b[39;49m\u001b[43mrun\u001b[49m\u001b[43m(\u001b[49m\n\u001b[1;32m    268\u001b[0m \u001b[43m    \u001b[49m\u001b[43mprogram_id\u001b[49m\u001b[38;5;241;43m=\u001b[39;49m\u001b[38;5;28;43mself\u001b[39;49m\u001b[38;5;241;43m.\u001b[39;49m\u001b[43m_PROGRAM_ID\u001b[49m\u001b[43m,\u001b[49m\n\u001b[1;32m    269\u001b[0m \u001b[43m    \u001b[49m\u001b[43minputs\u001b[49m\u001b[38;5;241;43m=\u001b[39;49m\u001b[43minputs\u001b[49m\u001b[43m,\u001b[49m\n\u001b[1;32m    270\u001b[0m \u001b[43m    \u001b[49m\u001b[43moptions\u001b[49m\u001b[38;5;241;43m=\u001b[39;49m\u001b[43mOptions\u001b[49m\u001b[38;5;241;43m.\u001b[39;49m\u001b[43m_get_runtime_options\u001b[49m\u001b[43m(\u001b[49m\u001b[43mcombined\u001b[49m\u001b[43m)\u001b[49m\u001b[43m,\u001b[49m\n\u001b[1;32m    271\u001b[0m \u001b[43m    \u001b[49m\u001b[43mcallback\u001b[49m\u001b[38;5;241;43m=\u001b[39;49m\u001b[43mcombined\u001b[49m\u001b[38;5;241;43m.\u001b[39;49m\u001b[43mget\u001b[49m\u001b[43m(\u001b[49m\u001b[38;5;124;43m\"\u001b[39;49m\u001b[38;5;124;43menvironment\u001b[39;49m\u001b[38;5;124;43m\"\u001b[39;49m\u001b[43m,\u001b[49m\u001b[43m \u001b[49m\u001b[43m{\u001b[49m\u001b[43m}\u001b[49m\u001b[43m)\u001b[49m\u001b[38;5;241;43m.\u001b[39;49m\u001b[43mget\u001b[49m\u001b[43m(\u001b[49m\u001b[38;5;124;43m\"\u001b[39;49m\u001b[38;5;124;43mcallback\u001b[39;49m\u001b[38;5;124;43m\"\u001b[39;49m\u001b[43m,\u001b[49m\u001b[43m \u001b[49m\u001b[38;5;28;43;01mNone\u001b[39;49;00m\u001b[43m)\u001b[49m\u001b[43m,\u001b[49m\n\u001b[1;32m    272\u001b[0m \u001b[43m    \u001b[49m\u001b[43mresult_decoder\u001b[49m\u001b[38;5;241;43m=\u001b[39;49m\u001b[43mDEFAULT_DECODERS\u001b[49m\u001b[38;5;241;43m.\u001b[39;49m\u001b[43mget\u001b[49m\u001b[43m(\u001b[49m\u001b[38;5;28;43mself\u001b[39;49m\u001b[38;5;241;43m.\u001b[39;49m\u001b[43m_PROGRAM_ID\u001b[49m\u001b[43m)\u001b[49m\u001b[43m,\u001b[49m\n\u001b[1;32m    273\u001b[0m \u001b[43m\u001b[49m\u001b[43m)\u001b[49m\n",
      "File \u001b[0;32m~/opt/anaconda3/lib/python3.8/site-packages/qiskit_ibm_runtime/session.py:36\u001b[0m, in \u001b[0;36m_active_session.<locals>._wrapper\u001b[0;34m(self, *args, **kwargs)\u001b[0m\n\u001b[1;32m     34\u001b[0m \u001b[38;5;28;01mif\u001b[39;00m \u001b[38;5;129;01mnot\u001b[39;00m \u001b[38;5;28mself\u001b[39m\u001b[38;5;241m.\u001b[39m_active:\n\u001b[1;32m     35\u001b[0m     \u001b[38;5;28;01mraise\u001b[39;00m \u001b[38;5;167;01mRuntimeError\u001b[39;00m(\u001b[38;5;124m\"\u001b[39m\u001b[38;5;124mThe session is closed.\u001b[39m\u001b[38;5;124m\"\u001b[39m)\n\u001b[0;32m---> 36\u001b[0m \u001b[38;5;28;01mreturn\u001b[39;00m \u001b[43mfunc\u001b[49m\u001b[43m(\u001b[49m\u001b[38;5;28;43mself\u001b[39;49m\u001b[43m,\u001b[49m\u001b[43m \u001b[49m\u001b[38;5;241;43m*\u001b[39;49m\u001b[43margs\u001b[49m\u001b[43m,\u001b[49m\u001b[43m \u001b[49m\u001b[38;5;241;43m*\u001b[39;49m\u001b[38;5;241;43m*\u001b[39;49m\u001b[43mkwargs\u001b[49m\u001b[43m)\u001b[49m\n",
      "File \u001b[0;32m~/opt/anaconda3/lib/python3.8/site-packages/qiskit_ibm_runtime/session.py:151\u001b[0m, in \u001b[0;36mSession.run\u001b[0;34m(self, program_id, inputs, options, callback, result_decoder)\u001b[0m\n\u001b[1;32m    146\u001b[0m \u001b[38;5;28;01mif\u001b[39;00m \u001b[38;5;129;01mnot\u001b[39;00m \u001b[38;5;28mself\u001b[39m\u001b[38;5;241m.\u001b[39m_session_id:\n\u001b[1;32m    147\u001b[0m     \u001b[38;5;66;03m# TODO: What happens if session max time != first job max time?\u001b[39;00m\n\u001b[1;32m    148\u001b[0m     \u001b[38;5;66;03m# Use session max time if this is first job.\u001b[39;00m\n\u001b[1;32m    149\u001b[0m     options[\u001b[38;5;124m\"\u001b[39m\u001b[38;5;124mmax_execution_time\u001b[39m\u001b[38;5;124m\"\u001b[39m] \u001b[38;5;241m=\u001b[39m \u001b[38;5;28mself\u001b[39m\u001b[38;5;241m.\u001b[39m_max_time\n\u001b[0;32m--> 151\u001b[0m job \u001b[38;5;241m=\u001b[39m \u001b[38;5;28;43mself\u001b[39;49m\u001b[38;5;241;43m.\u001b[39;49m\u001b[43m_service\u001b[49m\u001b[38;5;241;43m.\u001b[39;49m\u001b[43mrun\u001b[49m\u001b[43m(\u001b[49m\n\u001b[1;32m    152\u001b[0m \u001b[43m    \u001b[49m\u001b[43mprogram_id\u001b[49m\u001b[38;5;241;43m=\u001b[39;49m\u001b[43mprogram_id\u001b[49m\u001b[43m,\u001b[49m\n\u001b[1;32m    153\u001b[0m \u001b[43m    \u001b[49m\u001b[43moptions\u001b[49m\u001b[38;5;241;43m=\u001b[39;49m\u001b[43moptions\u001b[49m\u001b[43m,\u001b[49m\n\u001b[1;32m    154\u001b[0m \u001b[43m    \u001b[49m\u001b[43minputs\u001b[49m\u001b[38;5;241;43m=\u001b[39;49m\u001b[43minputs\u001b[49m\u001b[43m,\u001b[49m\n\u001b[1;32m    155\u001b[0m \u001b[43m    \u001b[49m\u001b[43msession_id\u001b[49m\u001b[38;5;241;43m=\u001b[39;49m\u001b[38;5;28;43mself\u001b[39;49m\u001b[38;5;241;43m.\u001b[39;49m\u001b[43m_session_id\u001b[49m\u001b[43m,\u001b[49m\n\u001b[1;32m    156\u001b[0m \u001b[43m    \u001b[49m\u001b[43mstart_session\u001b[49m\u001b[38;5;241;43m=\u001b[39;49m\u001b[38;5;28;43mself\u001b[39;49m\u001b[38;5;241;43m.\u001b[39;49m\u001b[43m_session_id\u001b[49m\u001b[43m \u001b[49m\u001b[38;5;129;43;01mis\u001b[39;49;00m\u001b[43m \u001b[49m\u001b[38;5;28;43;01mNone\u001b[39;49;00m\u001b[43m,\u001b[49m\n\u001b[1;32m    157\u001b[0m \u001b[43m    \u001b[49m\u001b[43mcallback\u001b[49m\u001b[38;5;241;43m=\u001b[39;49m\u001b[43mcallback\u001b[49m\u001b[43m,\u001b[49m\n\u001b[1;32m    158\u001b[0m \u001b[43m    \u001b[49m\u001b[43mresult_decoder\u001b[49m\u001b[38;5;241;43m=\u001b[39;49m\u001b[43mresult_decoder\u001b[49m\u001b[43m,\u001b[49m\n\u001b[1;32m    159\u001b[0m \u001b[43m\u001b[49m\u001b[43m)\u001b[49m\n\u001b[1;32m    161\u001b[0m \u001b[38;5;28;01mif\u001b[39;00m \u001b[38;5;28mself\u001b[39m\u001b[38;5;241m.\u001b[39m_session_id \u001b[38;5;129;01mis\u001b[39;00m \u001b[38;5;28;01mNone\u001b[39;00m:\n\u001b[1;32m    162\u001b[0m     \u001b[38;5;28mself\u001b[39m\u001b[38;5;241m.\u001b[39m_session_id \u001b[38;5;241m=\u001b[39m job\u001b[38;5;241m.\u001b[39mjob_id()\n",
      "File \u001b[0;32m~/opt/anaconda3/lib/python3.8/site-packages/qiskit_ibm_runtime/qiskit_runtime_service.py:938\u001b[0m, in \u001b[0;36mQiskitRuntimeService.run\u001b[0;34m(self, program_id, inputs, options, callback, result_decoder, instance, session_id, job_tags, max_execution_time, start_session)\u001b[0m\n\u001b[1;32m    935\u001b[0m hgp_name \u001b[38;5;241m=\u001b[39m \u001b[38;5;28;01mNone\u001b[39;00m\n\u001b[1;32m    936\u001b[0m \u001b[38;5;28;01mif\u001b[39;00m \u001b[38;5;28mself\u001b[39m\u001b[38;5;241m.\u001b[39m_channel \u001b[38;5;241m==\u001b[39m \u001b[38;5;124m\"\u001b[39m\u001b[38;5;124mibm_quantum\u001b[39m\u001b[38;5;124m\"\u001b[39m:\n\u001b[1;32m    937\u001b[0m     \u001b[38;5;66;03m# Find the right hgp\u001b[39;00m\n\u001b[0;32m--> 938\u001b[0m     hgp \u001b[38;5;241m=\u001b[39m \u001b[38;5;28;43mself\u001b[39;49m\u001b[38;5;241;43m.\u001b[39;49m\u001b[43m_get_hgp\u001b[49m\u001b[43m(\u001b[49m\n\u001b[1;32m    939\u001b[0m \u001b[43m        \u001b[49m\u001b[43minstance\u001b[49m\u001b[38;5;241;43m=\u001b[39;49m\u001b[43mqrt_options\u001b[49m\u001b[38;5;241;43m.\u001b[39;49m\u001b[43minstance\u001b[49m\u001b[43m,\u001b[49m\u001b[43m \u001b[49m\u001b[43mbackend_name\u001b[49m\u001b[38;5;241;43m=\u001b[39;49m\u001b[43mqrt_options\u001b[49m\u001b[38;5;241;43m.\u001b[39;49m\u001b[43mbackend\u001b[49m\n\u001b[1;32m    940\u001b[0m \u001b[43m    \u001b[49m\u001b[43m)\u001b[49m\n\u001b[1;32m    941\u001b[0m     backend \u001b[38;5;241m=\u001b[39m hgp\u001b[38;5;241m.\u001b[39mbackend(qrt_options\u001b[38;5;241m.\u001b[39mbackend)\n\u001b[1;32m    942\u001b[0m     hgp_name \u001b[38;5;241m=\u001b[39m hgp\u001b[38;5;241m.\u001b[39mname\n",
      "File \u001b[0;32m~/opt/anaconda3/lib/python3.8/site-packages/qiskit_ibm_runtime/qiskit_runtime_service.py:491\u001b[0m, in \u001b[0;36mQiskitRuntimeService._get_hgp\u001b[0;34m(self, instance, backend_name)\u001b[0m\n\u001b[1;32m    488\u001b[0m     \u001b[38;5;28;01mif\u001b[39;00m hgp\u001b[38;5;241m.\u001b[39mbackend(backend_name):\n\u001b[1;32m    489\u001b[0m         \u001b[38;5;28;01mreturn\u001b[39;00m hgp\n\u001b[0;32m--> 491\u001b[0m \u001b[38;5;28;01mraise\u001b[39;00m QiskitBackendNotFoundError(\n\u001b[1;32m    492\u001b[0m     \u001b[38;5;124mf\u001b[39m\u001b[38;5;124m\"\u001b[39m\u001b[38;5;124mBackend \u001b[39m\u001b[38;5;132;01m{\u001b[39;00mbackend_name\u001b[38;5;132;01m}\u001b[39;00m\u001b[38;5;124m cannot be found in any \u001b[39m\u001b[38;5;124m\"\u001b[39m\n\u001b[1;32m    493\u001b[0m     \u001b[38;5;124mf\u001b[39m\u001b[38;5;124m\"\u001b[39m\u001b[38;5;124mhub/group/project for this account.\u001b[39m\u001b[38;5;124m\"\u001b[39m\n\u001b[1;32m    494\u001b[0m )\n",
      "\u001b[0;31mQiskitBackendNotFoundError\u001b[0m: 'Backend ibmq_quito cannot be found in any hub/group/project for this account.'"
     ]
    }
   ],
   "source": [
    "nqr = 1; ncr = 1\n",
    "qr = QuantumRegister(nqr); cr = ClassicalRegister(ncr)\n",
    "\n",
    "qc0 = QuantumCircuit(qr,cr); qc1 = QuantumCircuit(qr,cr)                     \n",
    "qc0.measure(qr[0],cr[0])\n",
    "#display(qc0.draw(\"mpl\"))\n",
    "\n",
    "qc1.x(qr[0])\n",
    "qc1.measure(qr[0],cr[0])\n",
    "#display(qc1.draw(\"mpl\"))\n",
    "\n",
    "options = Options()\n",
    "#options.optimization_level = 2\n",
    "#options.resilience_level = 0\n",
    "service = QiskitRuntimeService()\n",
    "with Session(service=service, backend=device):\n",
    "    sampler = Sampler()\n",
    "    job = sampler.run([qc0,qc1])\n",
    "    #print(job.job_id())\n",
    "result = job.result()\n",
    "print(result.quasi_dists, result.quasi_dists[0], result.quasi_dists[0][0])"
   ]
  },
  {
   "cell_type": "code",
   "execution_count": null,
   "id": "fd512838",
   "metadata": {},
   "outputs": [],
   "source": [
    "R = np.zeros((2,2))#; R\n"
   ]
  },
  {
   "cell_type": "code",
   "execution_count": null,
   "id": "c9a4042f",
   "metadata": {},
   "outputs": [],
   "source": [
    "qr = QuantumRegister(1); cr = ClassicalRegister(1); qc = QuantumCircuit(qr,cr)\n",
    "qc.measure(qr[0],cr[0])\n",
    "qc.draw()\n",
    "job = qiskit.execute(qc, backend = device, shots=nshots)\n",
    "print(job.job_id())\n",
    "job_monitor(job)"
   ]
  },
  {
   "cell_type": "code",
   "execution_count": null,
   "id": "685ada00",
   "metadata": {},
   "outputs": [],
   "source": [
    "#job.\n",
    "print(job.result().data())\n",
    "#plot_histogram(job.result())"
   ]
  },
  {
   "cell_type": "code",
   "execution_count": null,
   "id": "ce003145",
   "metadata": {},
   "outputs": [],
   "source": []
  }
 ],
 "metadata": {
  "kernelspec": {
   "display_name": "Python 3 (ipykernel)",
   "language": "python",
   "name": "python3"
  },
  "language_info": {
   "codemirror_mode": {
    "name": "ipython",
    "version": 3
   },
   "file_extension": ".py",
   "mimetype": "text/x-python",
   "name": "python",
   "nbconvert_exporter": "python",
   "pygments_lexer": "ipython3",
   "version": "3.8.11"
  }
 },
 "nbformat": 4,
 "nbformat_minor": 5
}
